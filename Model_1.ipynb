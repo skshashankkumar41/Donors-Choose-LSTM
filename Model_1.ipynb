{
 "cells": [
  {
   "cell_type": "markdown",
   "metadata": {
    "colab_type": "text",
    "id": "Ps2jQ0Ke-L9r"
   },
   "source": [
    "### Model-1\n",
    "\n",
    "Build and Train deep neural network as shown below"
   ]
  },
  {
   "cell_type": "markdown",
   "metadata": {
    "colab_type": "text",
    "id": "jG4hwkwy-L9s"
   },
   "source": [
    "<img src='https://i.imgur.com/w395Yk9.png'>\n",
    "ref: https://i.imgur.com/w395Yk9.png"
   ]
  },
  {
   "cell_type": "markdown",
   "metadata": {
    "colab_type": "text",
    "id": "LdgBeSbg-L91"
   },
   "source": [
    "### Model-2"
   ]
  },
  {
   "cell_type": "markdown",
   "metadata": {
    "colab_type": "text",
    "id": "fOI5w1-3-L92"
   },
   "source": [
    "Used the same model as above but for 'input_seq_total_text_data' given only some words in the sentance not all the words. Filtered the words as below. "
   ]
  },
  {
   "cell_type": "markdown",
   "metadata": {
    "colab_type": "text",
    "id": "SIeiUm6C-L94"
   },
   "source": [
    "<pre>\n",
    "1. Training the TF-IDF on the Train data <br>\n",
    "2. Get the idf value for each word we have in the train data. <br>\n",
    "3. Removed the low idf value and high idf value words from our data. Did some analysis on the Idf values and based on those values choosed the low and high threshold value. Because very frequent words and very very rare words don't give much information. (i had plotted a box plots and taken only the idf scores within IQR range and corresponding words)<br>\n",
    "4. Training the LSTM after removing the Low and High idf value words. (In model-1 Trained on total data but in Model-2 trained on data after removing some words based on IDF values)\n",
    "</pre>"
   ]
  },
  {
   "cell_type": "markdown",
   "metadata": {
    "colab_type": "text",
    "id": "1TDIqUAh-L95"
   },
   "source": [
    "### Model-3"
   ]
  },
  {
   "cell_type": "markdown",
   "metadata": {
    "colab_type": "text",
    "id": "TXaeqsLm-L96"
   },
   "source": [
    "<img src='https://i.imgur.com/fkQ8nGo.png'>\n",
    "ref: https://i.imgur.com/fkQ8nGo.png"
   ]
  },
  {
   "cell_type": "code",
   "execution_count": 1,
   "metadata": {
    "colab": {
     "base_uri": "https://localhost:8080/",
     "height": 34
    },
    "colab_type": "code",
    "id": "hlYvVb1W-L99",
    "outputId": "611697c4-65af-40d9-f44e-dadf2aedc1df"
   },
   "outputs": [
    {
     "name": "stderr",
     "output_type": "stream",
     "text": [
      "Using TensorFlow backend.\n"
     ]
    }
   ],
   "source": [
    "import pandas as pd\n",
    "import numpy as np\n",
    "import keras \n",
    "from keras.preprocessing.text import Tokenizer\n",
    "from keras.preprocessing.sequence import pad_sequences\n",
    "from keras.models import Sequential\n",
    "from keras.layers import Dense\n",
    "from keras.layers import Flatten\n",
    "from keras.layers import Embedding\n",
    "from keras.layers import LSTM, BatchNormalization,concatenate,Flatten,Embedding,Dense,Dropout,Reshape,SpatialDropout1D\n",
    "from keras import Model,Input\n",
    "from keras.preprocessing.text import one_hot\n",
    "from sklearn.model_selection import train_test_split\n",
    "from keras.regularizers import l2\n",
    "from keras.regularizers import L1L2\n",
    "from time import time\n",
    "from tensorflow.python.keras.callbacks import TensorBoard"
   ]
  },
  {
   "cell_type": "markdown",
   "metadata": {},
   "source": [
    "## Google Colab Stuff"
   ]
  },
  {
   "cell_type": "code",
   "execution_count": 0,
   "metadata": {
    "colab": {},
    "colab_type": "code",
    "id": "1hWwMLiE-XZ4"
   },
   "outputs": [],
   "source": [
    "!pip install -U -q PyDrive\n",
    "from pydrive.auth import GoogleAuth\n",
    "from pydrive.drive import GoogleDrive\n",
    "from google.colab import auth\n",
    "from oauth2client.client import GoogleCredentials\n",
    "\n",
    "auth.authenticate_user()\n",
    "gauth = GoogleAuth()\n",
    "gauth.credentials = GoogleCredentials.get_application_default()\n",
    "drive = GoogleDrive(gauth)\n",
    "\n"
   ]
  },
  {
   "cell_type": "code",
   "execution_count": 0,
   "metadata": {
    "colab": {},
    "colab_type": "code",
    "id": "xH5JBbuI-XgI"
   },
   "outputs": [],
   "source": [
    "link = 'https://drive.google.com/open?id=10nvn3wpB-lwwj7dT5BhAgFjwZXw5pS5D'\n",
    "fluff, id = link.split('=')\n",
    "downloaded = drive.CreateFile({'id':id}) \n",
    "downloaded.GetContentFile('preprocessed_complete.csv')  \n",
    "df= pd.read_csv('preprocessed_complete.csv')"
   ]
  },
  {
   "cell_type": "markdown",
   "metadata": {
    "colab": {},
    "colab_type": "code",
    "id": "nJBHlQo5-L-A"
   },
   "source": [
    "## Preprocessing"
   ]
  },
  {
   "cell_type": "code",
   "execution_count": 6,
   "metadata": {
    "colab": {
     "base_uri": "https://localhost:8080/",
     "height": 352
    },
    "colab_type": "code",
    "id": "YObEELw7-L-C",
    "outputId": "e8ca9b7a-86b3-4bf1-e80b-bb6a96fdd890"
   },
   "outputs": [
    {
     "data": {
      "text/html": [
       "<div>\n",
       "<style scoped>\n",
       "    .dataframe tbody tr th:only-of-type {\n",
       "        vertical-align: middle;\n",
       "    }\n",
       "\n",
       "    .dataframe tbody tr th {\n",
       "        vertical-align: top;\n",
       "    }\n",
       "\n",
       "    .dataframe thead th {\n",
       "        text-align: right;\n",
       "    }\n",
       "</style>\n",
       "<table border=\"1\" class=\"dataframe\">\n",
       "  <thead>\n",
       "    <tr style=\"text-align: right;\">\n",
       "      <th></th>\n",
       "      <th>Unnamed: 0</th>\n",
       "      <th>id</th>\n",
       "      <th>teacher_id</th>\n",
       "      <th>teacher_prefix</th>\n",
       "      <th>school_state</th>\n",
       "      <th>project_submitted_datetime</th>\n",
       "      <th>project_grade_category</th>\n",
       "      <th>project_subject_categories</th>\n",
       "      <th>project_subject_subcategories</th>\n",
       "      <th>project_title</th>\n",
       "      <th>project_essay_1</th>\n",
       "      <th>project_essay_2</th>\n",
       "      <th>project_essay_3</th>\n",
       "      <th>project_essay_4</th>\n",
       "      <th>project_resource_summary</th>\n",
       "      <th>teacher_number_of_previously_posted_projects</th>\n",
       "      <th>project_is_approved</th>\n",
       "      <th>essay</th>\n",
       "      <th>price</th>\n",
       "      <th>quantity</th>\n",
       "      <th>std_price</th>\n",
       "      <th>nrm_price</th>\n",
       "      <th>presence_of_the_numerical_digits</th>\n",
       "    </tr>\n",
       "  </thead>\n",
       "  <tbody>\n",
       "    <tr>\n",
       "      <th>0</th>\n",
       "      <td>0</td>\n",
       "      <td>p253737</td>\n",
       "      <td>c90749f5d961ff158d4b4d1e7dc665fc</td>\n",
       "      <td>mrs</td>\n",
       "      <td>in</td>\n",
       "      <td>2016-12-05 13:43:57</td>\n",
       "      <td>grades_prek_2</td>\n",
       "      <td>literacy_language</td>\n",
       "      <td>esl_literacy</td>\n",
       "      <td>Educational Support for English Learners at Home</td>\n",
       "      <td>My students are English learners that are work...</td>\n",
       "      <td>\\\"The limits of your language are the limits o...</td>\n",
       "      <td>NaN</td>\n",
       "      <td>NaN</td>\n",
       "      <td>My students need opportunities to practice beg...</td>\n",
       "      <td>0</td>\n",
       "      <td>0</td>\n",
       "      <td>My students are English learners that are work...</td>\n",
       "      <td>154.6</td>\n",
       "      <td>23</td>\n",
       "      <td>-0.390533</td>\n",
       "      <td>0.015397</td>\n",
       "      <td>0</td>\n",
       "    </tr>\n",
       "    <tr>\n",
       "      <th>1</th>\n",
       "      <td>1</td>\n",
       "      <td>p258326</td>\n",
       "      <td>897464ce9ddc600bced1151f324dd63a</td>\n",
       "      <td>mr</td>\n",
       "      <td>fl</td>\n",
       "      <td>2016-10-25 09:22:10</td>\n",
       "      <td>grades_6_8</td>\n",
       "      <td>history_civics_health_sports</td>\n",
       "      <td>civics_government_teamsports</td>\n",
       "      <td>Wanted: Projector for Hungry Learners</td>\n",
       "      <td>Our students arrive to our school eager to lea...</td>\n",
       "      <td>The projector we need for our school is very c...</td>\n",
       "      <td>NaN</td>\n",
       "      <td>NaN</td>\n",
       "      <td>My students need a projector to help with view...</td>\n",
       "      <td>7</td>\n",
       "      <td>1</td>\n",
       "      <td>Our students arrive to our school eager to lea...</td>\n",
       "      <td>299.0</td>\n",
       "      <td>1</td>\n",
       "      <td>0.002396</td>\n",
       "      <td>0.029839</td>\n",
       "      <td>0</td>\n",
       "    </tr>\n",
       "  </tbody>\n",
       "</table>\n",
       "</div>"
      ],
      "text/plain": [
       "   Unnamed: 0       id  ... nrm_price presence_of_the_numerical_digits\n",
       "0           0  p253737  ...  0.015397                                0\n",
       "1           1  p258326  ...  0.029839                                0\n",
       "\n",
       "[2 rows x 23 columns]"
      ]
     },
     "execution_count": 6,
     "metadata": {
      "tags": []
     },
     "output_type": "execute_result"
    }
   ],
   "source": [
    "df.head(2)"
   ]
  },
  {
   "cell_type": "code",
   "execution_count": 7,
   "metadata": {
    "colab": {
     "base_uri": "https://localhost:8080/",
     "height": 170
    },
    "colab_type": "code",
    "id": "JgKKmh8--L-F",
    "outputId": "50676fe4-35e6-4075-bcc6-b711811d8967"
   },
   "outputs": [
    {
     "data": {
      "text/plain": [
       "Index(['Unnamed: 0', 'id', 'teacher_id', 'teacher_prefix', 'school_state',\n",
       "       'project_submitted_datetime', 'project_grade_category',\n",
       "       'project_subject_categories', 'project_subject_subcategories',\n",
       "       'project_title', 'project_essay_1', 'project_essay_2',\n",
       "       'project_essay_3', 'project_essay_4', 'project_resource_summary',\n",
       "       'teacher_number_of_previously_posted_projects', 'project_is_approved',\n",
       "       'essay', 'price', 'quantity', 'std_price', 'nrm_price',\n",
       "       'presence_of_the_numerical_digits'],\n",
       "      dtype='object')"
      ]
     },
     "execution_count": 7,
     "metadata": {
      "tags": []
     },
     "output_type": "execute_result"
    }
   ],
   "source": [
    "df.columns"
   ]
  },
  {
   "cell_type": "code",
   "execution_count": 8,
   "metadata": {
    "colab": {
     "base_uri": "https://localhost:8080/",
     "height": 34
    },
    "colab_type": "code",
    "id": "XKxPECAK-L-I",
    "outputId": "450f3d9f-90a0-4d05-814e-a43a9dc4a552"
   },
   "outputs": [
    {
     "data": {
      "text/plain": [
       "(109248, 23)"
      ]
     },
     "execution_count": 8,
     "metadata": {
      "tags": []
     },
     "output_type": "execute_result"
    }
   ],
   "source": [
    "df.shape"
   ]
  },
  {
   "cell_type": "code",
   "execution_count": 9,
   "metadata": {
    "colab": {
     "base_uri": "https://localhost:8080/",
     "height": 335
    },
    "colab_type": "code",
    "id": "m7L6atcm-L-L",
    "outputId": "970b8198-8f74-4fd6-e57c-32db35f0c2d2"
   },
   "outputs": [
    {
     "data": {
      "text/html": [
       "<div>\n",
       "<style scoped>\n",
       "    .dataframe tbody tr th:only-of-type {\n",
       "        vertical-align: middle;\n",
       "    }\n",
       "\n",
       "    .dataframe tbody tr th {\n",
       "        vertical-align: top;\n",
       "    }\n",
       "\n",
       "    .dataframe thead th {\n",
       "        text-align: right;\n",
       "    }\n",
       "</style>\n",
       "<table border=\"1\" class=\"dataframe\">\n",
       "  <thead>\n",
       "    <tr style=\"text-align: right;\">\n",
       "      <th></th>\n",
       "      <th>id</th>\n",
       "      <th>teacher_id</th>\n",
       "      <th>teacher_prefix</th>\n",
       "      <th>school_state</th>\n",
       "      <th>project_submitted_datetime</th>\n",
       "      <th>project_grade_category</th>\n",
       "      <th>project_subject_categories</th>\n",
       "      <th>project_subject_subcategories</th>\n",
       "      <th>project_title</th>\n",
       "      <th>project_essay_1</th>\n",
       "      <th>project_essay_2</th>\n",
       "      <th>project_essay_3</th>\n",
       "      <th>project_essay_4</th>\n",
       "      <th>project_resource_summary</th>\n",
       "      <th>teacher_number_of_previously_posted_projects</th>\n",
       "      <th>project_is_approved</th>\n",
       "      <th>essay</th>\n",
       "      <th>price</th>\n",
       "      <th>quantity</th>\n",
       "      <th>std_price</th>\n",
       "      <th>nrm_price</th>\n",
       "      <th>presence_of_the_numerical_digits</th>\n",
       "    </tr>\n",
       "  </thead>\n",
       "  <tbody>\n",
       "    <tr>\n",
       "      <th>0</th>\n",
       "      <td>p253737</td>\n",
       "      <td>c90749f5d961ff158d4b4d1e7dc665fc</td>\n",
       "      <td>mrs</td>\n",
       "      <td>in</td>\n",
       "      <td>2016-12-05 13:43:57</td>\n",
       "      <td>grades_prek_2</td>\n",
       "      <td>literacy_language</td>\n",
       "      <td>esl_literacy</td>\n",
       "      <td>Educational Support for English Learners at Home</td>\n",
       "      <td>My students are English learners that are work...</td>\n",
       "      <td>\\\"The limits of your language are the limits o...</td>\n",
       "      <td>NaN</td>\n",
       "      <td>NaN</td>\n",
       "      <td>My students need opportunities to practice beg...</td>\n",
       "      <td>0</td>\n",
       "      <td>0</td>\n",
       "      <td>My students are English learners that are work...</td>\n",
       "      <td>154.6</td>\n",
       "      <td>23</td>\n",
       "      <td>-0.390533</td>\n",
       "      <td>0.015397</td>\n",
       "      <td>0</td>\n",
       "    </tr>\n",
       "    <tr>\n",
       "      <th>1</th>\n",
       "      <td>p258326</td>\n",
       "      <td>897464ce9ddc600bced1151f324dd63a</td>\n",
       "      <td>mr</td>\n",
       "      <td>fl</td>\n",
       "      <td>2016-10-25 09:22:10</td>\n",
       "      <td>grades_6_8</td>\n",
       "      <td>history_civics_health_sports</td>\n",
       "      <td>civics_government_teamsports</td>\n",
       "      <td>Wanted: Projector for Hungry Learners</td>\n",
       "      <td>Our students arrive to our school eager to lea...</td>\n",
       "      <td>The projector we need for our school is very c...</td>\n",
       "      <td>NaN</td>\n",
       "      <td>NaN</td>\n",
       "      <td>My students need a projector to help with view...</td>\n",
       "      <td>7</td>\n",
       "      <td>1</td>\n",
       "      <td>Our students arrive to our school eager to lea...</td>\n",
       "      <td>299.0</td>\n",
       "      <td>1</td>\n",
       "      <td>0.002396</td>\n",
       "      <td>0.029839</td>\n",
       "      <td>0</td>\n",
       "    </tr>\n",
       "  </tbody>\n",
       "</table>\n",
       "</div>"
      ],
      "text/plain": [
       "        id  ... presence_of_the_numerical_digits\n",
       "0  p253737  ...                                0\n",
       "1  p258326  ...                                0\n",
       "\n",
       "[2 rows x 22 columns]"
      ]
     },
     "execution_count": 9,
     "metadata": {
      "tags": []
     },
     "output_type": "execute_result"
    }
   ],
   "source": [
    "df.drop(['Unnamed: 0'],axis = 1,inplace = True)\n",
    "df.head(2)"
   ]
  },
  {
   "cell_type": "code",
   "execution_count": 0,
   "metadata": {
    "colab": {},
    "colab_type": "code",
    "id": "dcPmAAad-L-O"
   },
   "outputs": [],
   "source": [
    "y=df['project_is_approved']"
   ]
  },
  {
   "cell_type": "code",
   "execution_count": 0,
   "metadata": {
    "colab": {},
    "colab_type": "code",
    "id": "rPdnD-q2-L-R"
   },
   "outputs": [],
   "source": [
    "df['total_text']=df['project_title']+' '+df['essay']+' '+df['project_resource_summary']"
   ]
  },
  {
   "cell_type": "code",
   "execution_count": 0,
   "metadata": {
    "colab": {},
    "colab_type": "code",
    "id": "GsDM1FRf-L-V"
   },
   "outputs": [],
   "source": [
    "df=df[['total_text','school_state','project_grade_category','project_subject_categories','project_subject_subcategories','teacher_prefix','teacher_number_of_previously_posted_projects','presence_of_the_numerical_digits','price','quantity']]"
   ]
  },
  {
   "cell_type": "code",
   "execution_count": 13,
   "metadata": {
    "colab": {
     "base_uri": "https://localhost:8080/",
     "height": 267
    },
    "colab_type": "code",
    "id": "ee4tD67R-L-Z",
    "outputId": "d25ec65a-fb0c-4c98-d518-695bf7c29ffa"
   },
   "outputs": [
    {
     "data": {
      "text/html": [
       "<div>\n",
       "<style scoped>\n",
       "    .dataframe tbody tr th:only-of-type {\n",
       "        vertical-align: middle;\n",
       "    }\n",
       "\n",
       "    .dataframe tbody tr th {\n",
       "        vertical-align: top;\n",
       "    }\n",
       "\n",
       "    .dataframe thead th {\n",
       "        text-align: right;\n",
       "    }\n",
       "</style>\n",
       "<table border=\"1\" class=\"dataframe\">\n",
       "  <thead>\n",
       "    <tr style=\"text-align: right;\">\n",
       "      <th></th>\n",
       "      <th>total_text</th>\n",
       "      <th>school_state</th>\n",
       "      <th>project_grade_category</th>\n",
       "      <th>project_subject_categories</th>\n",
       "      <th>project_subject_subcategories</th>\n",
       "      <th>teacher_prefix</th>\n",
       "      <th>teacher_number_of_previously_posted_projects</th>\n",
       "      <th>presence_of_the_numerical_digits</th>\n",
       "      <th>price</th>\n",
       "      <th>quantity</th>\n",
       "    </tr>\n",
       "  </thead>\n",
       "  <tbody>\n",
       "    <tr>\n",
       "      <th>0</th>\n",
       "      <td>Educational Support for English Learners at Ho...</td>\n",
       "      <td>in</td>\n",
       "      <td>grades_prek_2</td>\n",
       "      <td>literacy_language</td>\n",
       "      <td>esl_literacy</td>\n",
       "      <td>mrs</td>\n",
       "      <td>0</td>\n",
       "      <td>0</td>\n",
       "      <td>154.6</td>\n",
       "      <td>23</td>\n",
       "    </tr>\n",
       "    <tr>\n",
       "      <th>1</th>\n",
       "      <td>Wanted: Projector for Hungry Learners Our stud...</td>\n",
       "      <td>fl</td>\n",
       "      <td>grades_6_8</td>\n",
       "      <td>history_civics_health_sports</td>\n",
       "      <td>civics_government_teamsports</td>\n",
       "      <td>mr</td>\n",
       "      <td>7</td>\n",
       "      <td>0</td>\n",
       "      <td>299.0</td>\n",
       "      <td>1</td>\n",
       "    </tr>\n",
       "  </tbody>\n",
       "</table>\n",
       "</div>"
      ],
      "text/plain": [
       "                                          total_text  ... quantity\n",
       "0  Educational Support for English Learners at Ho...  ...       23\n",
       "1  Wanted: Projector for Hungry Learners Our stud...  ...        1\n",
       "\n",
       "[2 rows x 10 columns]"
      ]
     },
     "execution_count": 13,
     "metadata": {
      "tags": []
     },
     "output_type": "execute_result"
    }
   ],
   "source": [
    "df.head(2)"
   ]
  },
  {
   "cell_type": "code",
   "execution_count": 14,
   "metadata": {
    "colab": {
     "base_uri": "https://localhost:8080/",
     "height": 34
    },
    "colab_type": "code",
    "id": "3e4COA-o-L-e",
    "outputId": "c4150106-28d9-4900-8674-4fca9db04e7f"
   },
   "outputs": [
    {
     "data": {
      "text/plain": [
       "(109248, 10)"
      ]
     },
     "execution_count": 14,
     "metadata": {
      "tags": []
     },
     "output_type": "execute_result"
    }
   ],
   "source": [
    "df.shape"
   ]
  },
  {
   "cell_type": "code",
   "execution_count": 15,
   "metadata": {
    "colab": {
     "base_uri": "https://localhost:8080/",
     "height": 34
    },
    "colab_type": "code",
    "id": "zI5Y2jzC-L-h",
    "outputId": "ae54a4c6-6ec2-49ad-b468-c366a5822607"
   },
   "outputs": [
    {
     "data": {
      "text/plain": [
       "(109248,)"
      ]
     },
     "execution_count": 15,
     "metadata": {
      "tags": []
     },
     "output_type": "execute_result"
    }
   ],
   "source": [
    "y.shape"
   ]
  },
  {
   "cell_type": "code",
   "execution_count": 0,
   "metadata": {
    "colab": {},
    "colab_type": "code",
    "id": "sZYFHvrj-L-l"
   },
   "outputs": [],
   "source": [
    "X_train,X_test,y_train,y_test=train_test_split(df,y,stratify = y, test_size = 0.3)\n",
    "X_train,X_cv,y_train,y_cv=train_test_split(X_train,y_train,stratify = y_train, test_size = 0.2)"
   ]
  },
  {
   "cell_type": "code",
   "execution_count": null,
   "metadata": {},
   "outputs": [],
   "source": [
    "from keras.utils import to_categorical\n",
    "y_train=to_categorical(y_train)\n",
    "y_test=to_categorical(y_test)\n",
    "y_cv=to_categorical(y_cv)"
   ]
  },
  {
   "cell_type": "code",
   "execution_count": 17,
   "metadata": {
    "colab": {
     "base_uri": "https://localhost:8080/",
     "height": 250
    },
    "colab_type": "code",
    "id": "Epdr4uH1-L-o",
    "outputId": "bf3fa5db-fa9c-408c-87f4-1aaa9d4bb84d"
   },
   "outputs": [
    {
     "data": {
      "text/html": [
       "<div>\n",
       "<style scoped>\n",
       "    .dataframe tbody tr th:only-of-type {\n",
       "        vertical-align: middle;\n",
       "    }\n",
       "\n",
       "    .dataframe tbody tr th {\n",
       "        vertical-align: top;\n",
       "    }\n",
       "\n",
       "    .dataframe thead th {\n",
       "        text-align: right;\n",
       "    }\n",
       "</style>\n",
       "<table border=\"1\" class=\"dataframe\">\n",
       "  <thead>\n",
       "    <tr style=\"text-align: right;\">\n",
       "      <th></th>\n",
       "      <th>total_text</th>\n",
       "      <th>school_state</th>\n",
       "      <th>project_grade_category</th>\n",
       "      <th>project_subject_categories</th>\n",
       "      <th>project_subject_subcategories</th>\n",
       "      <th>teacher_prefix</th>\n",
       "      <th>teacher_number_of_previously_posted_projects</th>\n",
       "      <th>presence_of_the_numerical_digits</th>\n",
       "      <th>price</th>\n",
       "      <th>quantity</th>\n",
       "    </tr>\n",
       "  </thead>\n",
       "  <tbody>\n",
       "    <tr>\n",
       "      <th>19499</th>\n",
       "      <td>Earbuds For Testing At my we have approximatel...</td>\n",
       "      <td>sc</td>\n",
       "      <td>grades_9_12</td>\n",
       "      <td>specialneeds</td>\n",
       "      <td>specialneeds</td>\n",
       "      <td>mrs</td>\n",
       "      <td>5</td>\n",
       "      <td>0</td>\n",
       "      <td>49.99</td>\n",
       "      <td>6</td>\n",
       "    </tr>\n",
       "    <tr>\n",
       "      <th>20178</th>\n",
       "      <td>Parachutes Needed to Actively Engage! \\\"Have F...</td>\n",
       "      <td>ca</td>\n",
       "      <td>grades_prek_2</td>\n",
       "      <td>health_sports</td>\n",
       "      <td>gym_fitness_teamsports</td>\n",
       "      <td>mrs</td>\n",
       "      <td>1</td>\n",
       "      <td>0</td>\n",
       "      <td>115.98</td>\n",
       "      <td>2</td>\n",
       "    </tr>\n",
       "  </tbody>\n",
       "</table>\n",
       "</div>"
      ],
      "text/plain": [
       "                                              total_text  ... quantity\n",
       "19499  Earbuds For Testing At my we have approximatel...  ...        6\n",
       "20178  Parachutes Needed to Actively Engage! \\\"Have F...  ...        2\n",
       "\n",
       "[2 rows x 10 columns]"
      ]
     },
     "execution_count": 17,
     "metadata": {
      "tags": []
     },
     "output_type": "execute_result"
    }
   ],
   "source": [
    "X_train.head(2)"
   ]
  },
  {
   "cell_type": "code",
   "execution_count": 18,
   "metadata": {
    "colab": {
     "base_uri": "https://localhost:8080/",
     "height": 34
    },
    "colab_type": "code",
    "id": "nEL0gMt4-L-s",
    "outputId": "c6bb673f-cd11-46a2-aa24-883d420feb5e"
   },
   "outputs": [
    {
     "data": {
      "text/plain": [
       "(61178, 10)"
      ]
     },
     "execution_count": 18,
     "metadata": {
      "tags": []
     },
     "output_type": "execute_result"
    }
   ],
   "source": [
    "X_train.shape"
   ]
  },
  {
   "cell_type": "markdown",
   "metadata": {
    "colab_type": "text",
    "id": "qcfKwr63-L-y"
   },
   "source": [
    "## Total_text_feature"
   ]
  },
  {
   "cell_type": "code",
   "execution_count": 0,
   "metadata": {
    "colab": {},
    "colab_type": "code",
    "id": "NVHmVXqF-L-0"
   },
   "outputs": [],
   "source": [
    "total_text=X_train.total_text.values"
   ]
  },
  {
   "cell_type": "code",
   "execution_count": 0,
   "metadata": {
    "colab": {},
    "colab_type": "code",
    "id": "_RHtm35O-L-5"
   },
   "outputs": [],
   "source": [
    "t = Tokenizer()\n",
    "t.fit_on_texts(total_text)"
   ]
  },
  {
   "cell_type": "code",
   "execution_count": 0,
   "metadata": {
    "colab": {},
    "colab_type": "code",
    "id": "js4jiyNI-L-_"
   },
   "outputs": [],
   "source": [
    "len_input1 = len(t.word_index) + 1"
   ]
  },
  {
   "cell_type": "code",
   "execution_count": 22,
   "metadata": {
    "colab": {
     "base_uri": "https://localhost:8080/",
     "height": 34
    },
    "colab_type": "code",
    "id": "dTeYTbXN-L_B",
    "outputId": "a9155097-44c8-4ead-8eca-808e0c09f4b7"
   },
   "outputs": [
    {
     "data": {
      "text/plain": [
       "57596"
      ]
     },
     "execution_count": 22,
     "metadata": {
      "tags": []
     },
     "output_type": "execute_result"
    }
   ],
   "source": [
    "len_input1\n"
   ]
  },
  {
   "cell_type": "code",
   "execution_count": 0,
   "metadata": {
    "colab": {},
    "colab_type": "code",
    "id": "eOrgtlsV-L_D"
   },
   "outputs": [],
   "source": [
    "# Converting Textual Data to Numerical form so we can use this in Embedding Layer\n",
    "encoded_docs_train = t.texts_to_sequences(total_text)\n",
    "encoded_docs_train=np.array(encoded_docs_train)\n",
    "encoded_docs_train=pad_sequences(encoded_docs_train, maxlen=300, padding='post')"
   ]
  },
  {
   "cell_type": "code",
   "execution_count": 0,
   "metadata": {
    "colab": {},
    "colab_type": "code",
    "id": "Ju73OI7R-L_E"
   },
   "outputs": [],
   "source": [
    "encoded_docs_cv = t.texts_to_sequences(X_cv.total_text)\n",
    "encoded_docs_cv=np.array(encoded_docs_cv)\n",
    "encoded_docs_cv=pad_sequences(encoded_docs_cv, maxlen=300, padding='post')"
   ]
  },
  {
   "cell_type": "code",
   "execution_count": 0,
   "metadata": {
    "colab": {},
    "colab_type": "code",
    "id": "hWaujvi9-L_I"
   },
   "outputs": [],
   "source": [
    "encoded_docs_test = t.texts_to_sequences(X_test.total_text)\n",
    "encoded_docs_test=np.array(encoded_docs_test)\n",
    "encoded_docs_test=pad_sequences(encoded_docs_test, maxlen=300, padding='post')"
   ]
  },
  {
   "cell_type": "code",
   "execution_count": 26,
   "metadata": {
    "colab": {
     "base_uri": "https://localhost:8080/",
     "height": 34
    },
    "colab_type": "code",
    "id": "f9iM8aPA-L_J",
    "outputId": "4e7dbd31-f97c-4b71-97c1-2ea106925b8e"
   },
   "outputs": [
    {
     "data": {
      "text/plain": [
       "(61178, 300)"
      ]
     },
     "execution_count": 26,
     "metadata": {
      "tags": []
     },
     "output_type": "execute_result"
    }
   ],
   "source": [
    "encoded_docs_train.shape"
   ]
  },
  {
   "cell_type": "code",
   "execution_count": 27,
   "metadata": {
    "colab": {
     "base_uri": "https://localhost:8080/",
     "height": 34
    },
    "colab_type": "code",
    "id": "z7Wmu5Ek-L_N",
    "outputId": "77e217da-847d-4743-824a-a35337ba5e0e"
   },
   "outputs": [
    {
     "data": {
      "text/plain": [
       "(15295, 300)"
      ]
     },
     "execution_count": 27,
     "metadata": {
      "tags": []
     },
     "output_type": "execute_result"
    }
   ],
   "source": [
    "encoded_docs_cv.shape"
   ]
  },
  {
   "cell_type": "code",
   "execution_count": 28,
   "metadata": {
    "colab": {
     "base_uri": "https://localhost:8080/",
     "height": 34
    },
    "colab_type": "code",
    "id": "vVDH6sEj-L_U",
    "outputId": "00fc5c73-ca3e-438e-f0f1-45a573b1b2bf"
   },
   "outputs": [
    {
     "data": {
      "text/plain": [
       "(32775, 300)"
      ]
     },
     "execution_count": 28,
     "metadata": {
      "tags": []
     },
     "output_type": "execute_result"
    }
   ],
   "source": [
    "encoded_docs_test.shape"
   ]
  },
  {
   "cell_type": "code",
   "execution_count": 0,
   "metadata": {
    "colab": {},
    "colab_type": "code",
    "id": "o589Jz4V-L_W"
   },
   "outputs": [],
   "source": [
    "link = 'https://drive.google.com/open?id=1jyOxxCTqzM-eKXUc8qxGTZPgqkd-zUKC'\n",
    "fluff, id = link.split('=')\n",
    "downloaded = drive.CreateFile({'id':id}) \n",
    "downloaded.GetContentFile('glove_vectors')  "
   ]
  },
  {
   "cell_type": "code",
   "execution_count": 0,
   "metadata": {
    "colab": {},
    "colab_type": "code",
    "id": "tH5eUmgj-L_Y"
   },
   "outputs": [],
   "source": [
    "# Using Pretrained Glove Embedding Model\n",
    "import pickle\n",
    "glove = open('glove_vectors', 'rb')      \n",
    "glove = pickle.load(glove)"
   ]
  },
  {
   "cell_type": "code",
   "execution_count": 31,
   "metadata": {
    "colab": {
     "base_uri": "https://localhost:8080/",
     "height": 34
    },
    "colab_type": "code",
    "id": "bI4QAfMM-L_a",
    "outputId": "e0a1b7af-6cf1-43ef-b3fa-91f2670730c2"
   },
   "outputs": [
    {
     "data": {
      "text/plain": [
       "dict"
      ]
     },
     "execution_count": 31,
     "metadata": {
      "tags": []
     },
     "output_type": "execute_result"
    }
   ],
   "source": [
    "type(glove)"
   ]
  },
  {
   "cell_type": "code",
   "execution_count": 0,
   "metadata": {
    "colab": {},
    "colab_type": "code",
    "id": "zU_lWHpZ-L_c"
   },
   "outputs": [],
   "source": [
    "embedding_matrix = np.zeros((len_input1, 300))\n",
    "for word, i in t.word_index.items():\n",
    "    embedding_vector = glove.get(word)\n",
    "    if embedding_vector is not None:\n",
    "        embedding_matrix[i] = embedding_vector"
   ]
  },
  {
   "cell_type": "code",
   "execution_count": 33,
   "metadata": {
    "colab": {
     "base_uri": "https://localhost:8080/",
     "height": 34
    },
    "colab_type": "code",
    "id": "Qp9_BvEN-L_e",
    "outputId": "64043e28-64ac-4e93-eef3-eb80554c07d9"
   },
   "outputs": [
    {
     "data": {
      "text/plain": [
       "(57596, 300)"
      ]
     },
     "execution_count": 33,
     "metadata": {
      "tags": []
     },
     "output_type": "execute_result"
    }
   ],
   "source": [
    "embedding_matrix.shape"
   ]
  },
  {
   "cell_type": "markdown",
   "metadata": {
    "colab_type": "text",
    "id": "xTX-6FCu-L_n"
   },
   "source": [
    "## School State Feature"
   ]
  },
  {
   "cell_type": "code",
   "execution_count": 0,
   "metadata": {
    "colab": {},
    "colab_type": "code",
    "id": "7L7QGH_l-L_o"
   },
   "outputs": [],
   "source": [
    "school_state_train=X_train.school_state.values"
   ]
  },
  {
   "cell_type": "code",
   "execution_count": 0,
   "metadata": {
    "colab": {},
    "colab_type": "code",
    "id": "EbxJ_Ib4-L_r"
   },
   "outputs": [],
   "source": [
    "t = Tokenizer()\n",
    "t.fit_on_texts(school_state_train)"
   ]
  },
  {
   "cell_type": "code",
   "execution_count": 0,
   "metadata": {
    "colab": {},
    "colab_type": "code",
    "id": "fQ2sKOCf-L_t"
   },
   "outputs": [],
   "source": [
    "len_input2 = len(t.word_index) + 1"
   ]
  },
  {
   "cell_type": "code",
   "execution_count": 38,
   "metadata": {
    "colab": {
     "base_uri": "https://localhost:8080/",
     "height": 34
    },
    "colab_type": "code",
    "id": "_AJDJzVo-L_x",
    "outputId": "23cb934f-115f-4dfb-95a5-06ac686acba5"
   },
   "outputs": [
    {
     "data": {
      "text/plain": [
       "52"
      ]
     },
     "execution_count": 38,
     "metadata": {
      "tags": []
     },
     "output_type": "execute_result"
    }
   ],
   "source": [
    "len_input2"
   ]
  },
  {
   "cell_type": "code",
   "execution_count": 0,
   "metadata": {
    "colab": {},
    "colab_type": "code",
    "id": "tOftOmkR-L_z"
   },
   "outputs": [],
   "source": [
    "encoded_school_state_train = t.texts_to_sequences(school_state_train)\n",
    "encoded_school_state_train=np.array(encoded_school_state_train)\n",
    "encoded_school_state_train=pad_sequences(encoded_school_state_train, maxlen=1, padding='post')"
   ]
  },
  {
   "cell_type": "code",
   "execution_count": 0,
   "metadata": {
    "colab": {},
    "colab_type": "code",
    "id": "F6UcdGC3-L_1"
   },
   "outputs": [],
   "source": [
    "encoded_school_state_cv = t.texts_to_sequences(X_cv.school_state)\n",
    "encoded_school_state_cv=np.array(encoded_school_state_cv)\n",
    "encoded_school_state_cv=pad_sequences(encoded_school_state_cv, maxlen=1, padding='post')"
   ]
  },
  {
   "cell_type": "code",
   "execution_count": 0,
   "metadata": {
    "colab": {},
    "colab_type": "code",
    "id": "ESj49fT--L_4"
   },
   "outputs": [],
   "source": [
    "encoded_school_state_test = t.texts_to_sequences(X_test.school_state)\n",
    "encoded_school_state_test=np.array(encoded_school_state_test)\n",
    "encoded_school_state_test=pad_sequences(encoded_school_state_test, maxlen=1, padding='post')"
   ]
  },
  {
   "cell_type": "markdown",
   "metadata": {
    "colab_type": "text",
    "id": "yTeb1EsJ-MAU"
   },
   "source": [
    "## Project Grade Category Feature"
   ]
  },
  {
   "cell_type": "code",
   "execution_count": 0,
   "metadata": {
    "colab": {},
    "colab_type": "code",
    "id": "wcM-Nsci-MAV"
   },
   "outputs": [],
   "source": [
    "school_PGC_train=X_train.project_grade_category.values"
   ]
  },
  {
   "cell_type": "code",
   "execution_count": 43,
   "metadata": {
    "colab": {
     "base_uri": "https://localhost:8080/",
     "height": 34
    },
    "colab_type": "code",
    "id": "f9unCgWl-MAZ",
    "outputId": "3b75b57f-cc1a-4ba4-94cf-ee3d47885e0a"
   },
   "outputs": [
    {
     "name": "stdout",
     "output_type": "stream",
     "text": [
      "5\n"
     ]
    }
   ],
   "source": [
    "t = Tokenizer(filters='!\"#$%&()*+,-./:;<=>?@[\\\\]^`{|}~\\t\\n')\n",
    "t.fit_on_texts(school_PGC_train)\n",
    "len_input3 = len(t.word_index) + 1\n",
    "print(len_input3)"
   ]
  },
  {
   "cell_type": "code",
   "execution_count": 0,
   "metadata": {
    "colab": {},
    "colab_type": "code",
    "id": "bDrS9anj-MAc"
   },
   "outputs": [],
   "source": [
    "encoded_PGC_train = t.texts_to_sequences(school_PGC_train)\n",
    "encoded_PGC_train=np.array(encoded_PGC_train)\n",
    "encoded_PGC_train=pad_sequences(encoded_PGC_train, maxlen=1, padding='post')"
   ]
  },
  {
   "cell_type": "code",
   "execution_count": 0,
   "metadata": {
    "colab": {},
    "colab_type": "code",
    "id": "wdhbLnGP-MAf"
   },
   "outputs": [],
   "source": [
    "encoded_PGC_cv = t.texts_to_sequences(X_cv.project_grade_category)\n",
    "encoded_PGC_cv=np.array(encoded_PGC_cv)\n",
    "encoded_PGC_cv=pad_sequences(encoded_PGC_cv, maxlen=1, padding='post')"
   ]
  },
  {
   "cell_type": "code",
   "execution_count": 0,
   "metadata": {
    "colab": {},
    "colab_type": "code",
    "id": "6jXldzmX-MAk"
   },
   "outputs": [],
   "source": [
    "encoded_PGC_test = t.texts_to_sequences(X_test.project_grade_category)\n",
    "encoded_PGC_test=np.array(encoded_PGC_test)\n",
    "encoded_PGC_test=pad_sequences(encoded_PGC_test, maxlen=1, padding='post')"
   ]
  },
  {
   "cell_type": "markdown",
   "metadata": {
    "colab_type": "text",
    "id": "BatKM3nN-MAq"
   },
   "source": [
    "## Project Subject Category Feature"
   ]
  },
  {
   "cell_type": "code",
   "execution_count": 0,
   "metadata": {
    "colab": {},
    "colab_type": "code",
    "id": "GWiNKwUS-MAs"
   },
   "outputs": [],
   "source": [
    "school_PSC_train=X_train.project_subject_categories.values"
   ]
  },
  {
   "cell_type": "code",
   "execution_count": 48,
   "metadata": {
    "colab": {
     "base_uri": "https://localhost:8080/",
     "height": 34
    },
    "colab_type": "code",
    "id": "bovCKlA--MAz",
    "outputId": "4df54f87-01de-4cb4-b97a-0e7d2cd36f74"
   },
   "outputs": [
    {
     "name": "stdout",
     "output_type": "stream",
     "text": [
      "51\n"
     ]
    }
   ],
   "source": [
    "t = Tokenizer(filters='!\"#$%&()*+,-./:;<=>?@[\\\\]^`{|}~\\t\\n')\n",
    "t.fit_on_texts(school_PSC_train)\n",
    "len_input4 = len(t.word_index) + 1\n",
    "print(len_input4)"
   ]
  },
  {
   "cell_type": "code",
   "execution_count": 0,
   "metadata": {
    "colab": {},
    "colab_type": "code",
    "id": "CYe9o2Gu-MA3"
   },
   "outputs": [],
   "source": [
    "encoded_PSC_train = t.texts_to_sequences(school_PSC_train)\n",
    "encoded_PSC_train=np.array(encoded_PSC_train)\n",
    "encoded_PSC_train=pad_sequences(encoded_PSC_train, maxlen=1, padding='post')"
   ]
  },
  {
   "cell_type": "code",
   "execution_count": 0,
   "metadata": {
    "colab": {},
    "colab_type": "code",
    "id": "mPAI_S1s-MA5"
   },
   "outputs": [],
   "source": [
    "encoded_PSC_cv = t.texts_to_sequences(X_cv.project_subject_categories)\n",
    "encoded_PSC_cv=np.array(encoded_PSC_cv)\n",
    "encoded_PSC_cv=pad_sequences(encoded_PSC_cv, maxlen=1, padding='post')"
   ]
  },
  {
   "cell_type": "code",
   "execution_count": 0,
   "metadata": {
    "colab": {},
    "colab_type": "code",
    "id": "b1HXRtGs-MA8"
   },
   "outputs": [],
   "source": [
    "encoded_PSC_test = t.texts_to_sequences(X_test.project_subject_categories)\n",
    "encoded_PSC_test=np.array(encoded_PSC_test)\n",
    "encoded_PSC_test=pad_sequences(encoded_PSC_test, maxlen=1, padding='post')"
   ]
  },
  {
   "cell_type": "markdown",
   "metadata": {
    "colab_type": "text",
    "id": "rDcyuyph-MBF"
   },
   "source": [
    "## Project Subject SubCategory Feature"
   ]
  },
  {
   "cell_type": "code",
   "execution_count": 0,
   "metadata": {
    "colab": {},
    "colab_type": "code",
    "id": "Joy2msmx-MBG"
   },
   "outputs": [],
   "source": [
    "school_PSSC_train=X_train.project_subject_subcategories.values"
   ]
  },
  {
   "cell_type": "code",
   "execution_count": 53,
   "metadata": {
    "colab": {
     "base_uri": "https://localhost:8080/",
     "height": 34
    },
    "colab_type": "code",
    "id": "apjBRIcy-MBI",
    "outputId": "8affa6f4-7c9b-4543-f15f-0ef11e85a01c"
   },
   "outputs": [
    {
     "name": "stdout",
     "output_type": "stream",
     "text": [
      "383\n"
     ]
    }
   ],
   "source": [
    "t = Tokenizer(filters='!\"#$%&()*+,-./:;<=>?@[\\\\]^`{|}~\\t\\n')\n",
    "t.fit_on_texts(school_PSSC_train)\n",
    "len_input5 = len(t.word_index) + 1\n",
    "print(len_input5)"
   ]
  },
  {
   "cell_type": "code",
   "execution_count": 0,
   "metadata": {
    "colab": {},
    "colab_type": "code",
    "id": "l8OjP0Bd-MBK"
   },
   "outputs": [],
   "source": [
    "encoded_PSSC_train = t.texts_to_sequences(school_PSSC_train)\n",
    "encoded_PSSC_train=np.array(encoded_PSSC_train)\n",
    "encoded_PSSC_train=pad_sequences(encoded_PSSC_train, maxlen=1, padding='post')"
   ]
  },
  {
   "cell_type": "code",
   "execution_count": 0,
   "metadata": {
    "colab": {},
    "colab_type": "code",
    "id": "p66kGVz3-MBO"
   },
   "outputs": [],
   "source": [
    "encoded_PSSC_cv = t.texts_to_sequences(X_cv.project_subject_subcategories)\n",
    "encoded_PSSC_cv=np.array(encoded_PSSC_cv)\n",
    "encoded_PSSC_cv=pad_sequences(encoded_PSSC_cv, maxlen=1, padding='post')"
   ]
  },
  {
   "cell_type": "code",
   "execution_count": 0,
   "metadata": {
    "colab": {},
    "colab_type": "code",
    "id": "TXzy0g4A-MBR"
   },
   "outputs": [],
   "source": [
    "encoded_PSSC_test = t.texts_to_sequences(X_test.project_subject_subcategories)\n",
    "encoded_PSSC_test=np.array(encoded_PSSC_test)\n",
    "encoded_PSSC_test=pad_sequences(encoded_PSSC_test, maxlen=1, padding='post')"
   ]
  },
  {
   "cell_type": "markdown",
   "metadata": {
    "colab_type": "text",
    "id": "9Lab1Kpx-MBX"
   },
   "source": [
    "## Teacher_prefix Feature"
   ]
  },
  {
   "cell_type": "code",
   "execution_count": 0,
   "metadata": {
    "colab": {},
    "colab_type": "code",
    "id": "ySFLklVY-MBY"
   },
   "outputs": [],
   "source": [
    "teacher_prefix_train=X_train.teacher_prefix.values"
   ]
  },
  {
   "cell_type": "code",
   "execution_count": 58,
   "metadata": {
    "colab": {
     "base_uri": "https://localhost:8080/",
     "height": 34
    },
    "colab_type": "code",
    "id": "bYI7PdZF-MBa",
    "outputId": "52f305f4-d719-44db-fd34-6a9028962765"
   },
   "outputs": [
    {
     "name": "stdout",
     "output_type": "stream",
     "text": [
      "6\n"
     ]
    }
   ],
   "source": [
    "t = Tokenizer(filters='!\"#$%&()*+,-./:;<=>?@[\\\\]^`{|}~\\t\\n')\n",
    "t.fit_on_texts(teacher_prefix_train)\n",
    "len_input6 = len(t.word_index) + 1\n",
    "print(len_input6)"
   ]
  },
  {
   "cell_type": "code",
   "execution_count": 0,
   "metadata": {
    "colab": {},
    "colab_type": "code",
    "id": "1ZhWAQox-MBc"
   },
   "outputs": [],
   "source": [
    "encoded_teacher_pre_train = t.texts_to_sequences(teacher_prefix_train)\n",
    "encoded_teacher_pre_train=np.array(encoded_teacher_pre_train)\n",
    "encoded_teacher_pre_train=pad_sequences(encoded_teacher_pre_train, maxlen=1, padding='post')"
   ]
  },
  {
   "cell_type": "code",
   "execution_count": 0,
   "metadata": {
    "colab": {},
    "colab_type": "code",
    "id": "4ROVkWui-MBe"
   },
   "outputs": [],
   "source": [
    "encoded_teacher_pre_cv = t.texts_to_sequences(X_cv.teacher_prefix)\n",
    "encoded_teacher_pre_cv=np.array(encoded_teacher_pre_cv)\n",
    "encoded_teacher_pre_cv=pad_sequences(encoded_teacher_pre_cv, maxlen=1, padding='post')"
   ]
  },
  {
   "cell_type": "code",
   "execution_count": 0,
   "metadata": {
    "colab": {},
    "colab_type": "code",
    "id": "3XL_9UON-MBh"
   },
   "outputs": [],
   "source": [
    "encoded_teacher_pre_test = t.texts_to_sequences(X_test.teacher_prefix)\n",
    "encoded_teacher_pre_test=np.array(encoded_teacher_pre_test)\n",
    "encoded_teacher_pre_test=pad_sequences(encoded_teacher_pre_test, maxlen=1, padding='post')"
   ]
  },
  {
   "cell_type": "markdown",
   "metadata": {
    "colab_type": "text",
    "id": "C14AcJJU-MBo"
   },
   "source": [
    "## Numerical Features"
   ]
  },
  {
   "cell_type": "code",
   "execution_count": 0,
   "metadata": {
    "colab": {},
    "colab_type": "code",
    "id": "ufNwp2eN-MBq"
   },
   "outputs": [],
   "source": [
    "X_train_numeric=[]\n",
    "for i in range(X_train.shape[0]):\n",
    "    vec=[]\n",
    "    vec.append(X_train.iloc[i,6])\n",
    "    vec.append(X_train.iloc[i,7])\n",
    "    vec.append(X_train.iloc[i,8])\n",
    "    vec.append(X_train.iloc[i,9])\n",
    "    X_train_numeric.append(vec)\n",
    "X_train_numeric=np.array(X_train_numeric)    "
   ]
  },
  {
   "cell_type": "code",
   "execution_count": 0,
   "metadata": {
    "colab": {},
    "colab_type": "code",
    "id": "L_hXtVTI-MBr"
   },
   "outputs": [],
   "source": [
    "X_cv_numeric=[]\n",
    "for i in range(X_cv.shape[0]):\n",
    "    vec=[]\n",
    "    vec.append(X_cv.iloc[i,6])\n",
    "    vec.append(X_cv.iloc[i,7])\n",
    "    vec.append(X_cv.iloc[i,8])\n",
    "    vec.append(X_cv.iloc[i,9])\n",
    "    X_cv_numeric.append(vec)\n",
    "    \n",
    "X_cv_numeric=np.array(X_cv_numeric)"
   ]
  },
  {
   "cell_type": "code",
   "execution_count": 0,
   "metadata": {
    "colab": {},
    "colab_type": "code",
    "id": "q26ki4D5-MBt"
   },
   "outputs": [],
   "source": [
    "X_test_numeric=[]\n",
    "for i in range(X_test.shape[0]):\n",
    "    vec=[]\n",
    "    vec.append(X_test.iloc[i,6])\n",
    "    vec.append(X_test.iloc[i,7])\n",
    "    vec.append(X_test.iloc[i,8])\n",
    "    vec.append(X_test.iloc[i,9])\n",
    "    X_test_numeric.append(vec)\n",
    "X_test_numeric=np.array(X_test_numeric)"
   ]
  },
  {
   "cell_type": "markdown",
   "metadata": {},
   "source": [
    "## Model"
   ]
  },
  {
   "cell_type": "code",
   "execution_count": 0,
   "metadata": {
    "colab": {},
    "colab_type": "code",
    "id": "ZsDl0OS3-MB5"
   },
   "outputs": [],
   "source": [
    "import tensorflow as tf\n",
    "from sklearn.metrics import roc_auc_score\n",
    "\n",
    "def auroc(y_true,y_pred):\n",
    "    return tf.py_func(roc_auc_score,(y_true,y_pred),tf.double)"
   ]
  },
  {
   "cell_type": "code",
   "execution_count": 75,
   "metadata": {
    "colab": {
     "base_uri": "https://localhost:8080/",
     "height": 85
    },
    "colab_type": "code",
    "id": "dRF1isK2Fi2k",
    "outputId": "a9ee9145-6106-4995-d436-81f6d78df1c6"
   },
   "outputs": [
    {
     "name": "stdout",
     "output_type": "stream",
     "text": [
      "Requirement already satisfied: tensorboardcolab in /usr/local/lib/python3.6/dist-packages (0.0.22)\n",
      "Wait for 8 seconds...\n",
      "TensorBoard link:\n",
      "http://8ce3ed56.ngrok.io\n"
     ]
    }
   ],
   "source": [
    "!pip install tensorboardcolab\n",
    "from tensorboardcolab import TensorBoardColab, TensorBoardColabCallback\n",
    "\n",
    "tbc=TensorBoardColab()"
   ]
  },
  {
   "cell_type": "code",
   "execution_count": 76,
   "metadata": {
    "colab": {
     "base_uri": "https://localhost:8080/",
     "height": 1000
    },
    "colab_type": "code",
    "id": "8M83M-fS-MB7",
    "outputId": "188eab2c-9a8b-474f-8fd9-f4527c0263f1"
   },
   "outputs": [
    {
     "name": "stdout",
     "output_type": "stream",
     "text": [
      "Model: \"model_3\"\n",
      "__________________________________________________________________________________________________\n",
      "Layer (type)                    Output Shape         Param #     Connected to                     \n",
      "==================================================================================================\n",
      "input_15 (InputLayer)           (None, 300)          0                                            \n",
      "__________________________________________________________________________________________________\n",
      "embedding_13 (Embedding)        (None, 300, 300)     17278800    input_15[0][0]                   \n",
      "__________________________________________________________________________________________________\n",
      "spatial_dropout1d_3 (SpatialDro (None, 300, 300)     0           embedding_13[0][0]               \n",
      "__________________________________________________________________________________________________\n",
      "input_16 (InputLayer)           (None, 1)            0                                            \n",
      "__________________________________________________________________________________________________\n",
      "input_17 (InputLayer)           (None, 1)            0                                            \n",
      "__________________________________________________________________________________________________\n",
      "input_18 (InputLayer)           (None, 1)            0                                            \n",
      "__________________________________________________________________________________________________\n",
      "input_19 (InputLayer)           (None, 1)            0                                            \n",
      "__________________________________________________________________________________________________\n",
      "input_20 (InputLayer)           (None, 1)            0                                            \n",
      "__________________________________________________________________________________________________\n",
      "lstm_3 (LSTM)                   (None, 300, 128)     219648      spatial_dropout1d_3[0][0]        \n",
      "__________________________________________________________________________________________________\n",
      "embedding_14 (Embedding)        (None, 1, 2)         104         input_16[0][0]                   \n",
      "__________________________________________________________________________________________________\n",
      "embedding_15 (Embedding)        (None, 1, 2)         10          input_17[0][0]                   \n",
      "__________________________________________________________________________________________________\n",
      "embedding_16 (Embedding)        (None, 1, 2)         102         input_18[0][0]                   \n",
      "__________________________________________________________________________________________________\n",
      "embedding_17 (Embedding)        (None, 1, 50)        19150       input_19[0][0]                   \n",
      "__________________________________________________________________________________________________\n",
      "embedding_18 (Embedding)        (None, 1, 5)         30          input_20[0][0]                   \n",
      "__________________________________________________________________________________________________\n",
      "input_21 (InputLayer)           (None, 4)            0                                            \n",
      "__________________________________________________________________________________________________\n",
      "flatten_13 (Flatten)            (None, 38400)        0           lstm_3[0][0]                     \n",
      "__________________________________________________________________________________________________\n",
      "flatten_14 (Flatten)            (None, 2)            0           embedding_14[0][0]               \n",
      "__________________________________________________________________________________________________\n",
      "flatten_15 (Flatten)            (None, 2)            0           embedding_15[0][0]               \n",
      "__________________________________________________________________________________________________\n",
      "flatten_16 (Flatten)            (None, 2)            0           embedding_16[0][0]               \n",
      "__________________________________________________________________________________________________\n",
      "flatten_17 (Flatten)            (None, 50)           0           embedding_17[0][0]               \n",
      "__________________________________________________________________________________________________\n",
      "flatten_18 (Flatten)            (None, 5)            0           embedding_18[0][0]               \n",
      "__________________________________________________________________________________________________\n",
      "dense_11 (Dense)                (None, 16)           80          input_21[0][0]                   \n",
      "__________________________________________________________________________________________________\n",
      "concatenate_3 (Concatenate)     (None, 38477)        0           flatten_13[0][0]                 \n",
      "                                                                 flatten_14[0][0]                 \n",
      "                                                                 flatten_15[0][0]                 \n",
      "                                                                 flatten_16[0][0]                 \n",
      "                                                                 flatten_17[0][0]                 \n",
      "                                                                 flatten_18[0][0]                 \n",
      "                                                                 dense_11[0][0]                   \n",
      "__________________________________________________________________________________________________\n",
      "dense_12 (Dense)                (None, 128)          4925184     concatenate_3[0][0]              \n",
      "__________________________________________________________________________________________________\n",
      "dropout_7 (Dropout)             (None, 128)          0           dense_12[0][0]                   \n",
      "__________________________________________________________________________________________________\n",
      "dense_13 (Dense)                (None, 64)           8256        dropout_7[0][0]                  \n",
      "__________________________________________________________________________________________________\n",
      "dropout_8 (Dropout)             (None, 64)           0           dense_13[0][0]                   \n",
      "__________________________________________________________________________________________________\n",
      "batch_normalization_3 (BatchNor (None, 64)           256         dropout_8[0][0]                  \n",
      "__________________________________________________________________________________________________\n",
      "dense_14 (Dense)                (None, 32)           2080        batch_normalization_3[0][0]      \n",
      "__________________________________________________________________________________________________\n",
      "dropout_9 (Dropout)             (None, 32)           0           dense_14[0][0]                   \n",
      "__________________________________________________________________________________________________\n",
      "dense_15 (Dense)                (None, 2)            66          dropout_9[0][0]                  \n",
      "==================================================================================================\n",
      "Total params: 22,453,766\n",
      "Trainable params: 5,174,838\n",
      "Non-trainable params: 17,278,928\n",
      "__________________________________________________________________________________________________\n",
      "None\n"
     ]
    }
   ],
   "source": [
    "from keras.callbacks import TensorBoard\n",
    "\n",
    "input1=Input(shape=(300,))\n",
    "x1=Embedding(input_dim=len_input1, output_dim=300, weights=[embedding_matrix], trainable=False)(input1)\n",
    "x1=SpatialDropout1D(0.3)(x1)\n",
    "x1=LSTM(128,return_sequences=True)(x1)\n",
    "x1=Flatten()(x1)\n",
    "\n",
    "input2=Input(shape=(1,))\n",
    "x2=Embedding(input_dim= len_input2,output_dim= 2)(input2)\n",
    "x2=Flatten()(x2)\n",
    "\n",
    "input3=Input(shape=(1,))\n",
    "x3=Embedding(input_dim= len_input3,output_dim= 2)(input3)\n",
    "x3= Flatten()(x3)\n",
    "\n",
    "input4=Input(shape=(1,))\n",
    "x4=Embedding(input_dim=len_input4,output_dim= 2)(input4)\n",
    "x4=Flatten()(x4)\n",
    "\n",
    "input5=Input(shape=(1,))\n",
    "x5=Embedding(input_dim=len_input5,output_dim= 50)(input5)\n",
    "x5=Flatten()(x5)\n",
    "\n",
    "input6=Input(shape=(1,))\n",
    "x6=Embedding(input_dim=len_input6,output_dim= 5)(input6)\n",
    "x6=Flatten()(x6)\n",
    "\n",
    "input7=Input(shape=(4,))\n",
    "x7=Dense(16,activation='relu',kernel_initializer='he_normal',kernel_regularizer=l2(0.0001))(input7)\n",
    "\n",
    "concat=concatenate([x1,x2,x3,x4,x5,x6,x7])\n",
    "\n",
    "x=Dense(128,activation='relu',kernel_initializer='he_normal',kernel_regularizer=l2(0.0001))(concat)\n",
    "x=Dropout(0.5)(x)\n",
    "x=Dense(64,activation='relu',kernel_initializer='he_normal',kernel_regularizer=l2(0.0001))(x)\n",
    "x=Dropout(0.5)(x)\n",
    "x=BatchNormalization()(x)\n",
    "x=Dense(32,activation='relu',kernel_initializer='he_normal',kernel_regularizer=l2(0.0001))(x)\n",
    "x=Dropout(0.5)(x)\n",
    "output = Dense(2, activation='softmax')(x)\n",
    "\n",
    "\n",
    "model=Model([input1,input2,input3,input4,input5,input6,input7], output)\n",
    "\n",
    "\n",
    "tensorboard=TensorBoard(log_dir=\"logs\")\n",
    "\n",
    "model.compile(loss='categorical_crossentropy', optimizer='adam',metrics=[auroc])\n",
    "\n",
    "print(model.summary())\n",
    "\n"
   ]
  },
  {
   "cell_type": "code",
   "execution_count": 0,
   "metadata": {
    "colab": {},
    "colab_type": "code",
    "id": "HuDa5UwoAx8h"
   },
   "outputs": [],
   "source": []
  },
  {
   "cell_type": "code",
   "execution_count": 77,
   "metadata": {
    "colab": {
     "base_uri": "https://localhost:8080/",
     "height": 663
    },
    "colab_type": "code",
    "id": "AsFE4B79-MB-",
    "outputId": "8c71f1a8-4612-4675-defc-c4158f1c8d61"
   },
   "outputs": [
    {
     "name": "stdout",
     "output_type": "stream",
     "text": [
      "Train on 61178 samples, validate on 15295 samples\n",
      "Epoch 1/18\n",
      "61178/61178 [==============================] - 151s 2ms/step - loss: 0.7614 - auroc: 0.5085 - val_loss: 0.4711 - val_auroc: 0.5937\n",
      "Epoch 2/18\n",
      "61178/61178 [==============================] - 149s 2ms/step - loss: 0.5163 - auroc: 0.5259 - val_loss: 0.4628 - val_auroc: 0.5961\n",
      "Epoch 3/18\n",
      "61178/61178 [==============================] - 150s 2ms/step - loss: 0.4716 - auroc: 0.5466 - val_loss: 0.4486 - val_auroc: 0.6038\n",
      "Epoch 4/18\n",
      "61178/61178 [==============================] - 149s 2ms/step - loss: 0.4550 - auroc: 0.5561 - val_loss: 0.4438 - val_auroc: 0.6090\n",
      "Epoch 5/18\n",
      "61178/61178 [==============================] - 150s 2ms/step - loss: 0.4396 - auroc: 0.5989 - val_loss: 0.4143 - val_auroc: 0.7033\n",
      "Epoch 6/18\n",
      "61178/61178 [==============================] - 149s 2ms/step - loss: 0.4212 - auroc: 0.6724 - val_loss: 0.3992 - val_auroc: 0.7314\n",
      "Epoch 7/18\n",
      "61178/61178 [==============================] - 149s 2ms/step - loss: 0.4089 - auroc: 0.7032 - val_loss: 0.3923 - val_auroc: 0.7494\n",
      "Epoch 8/18\n",
      "61178/61178 [==============================] - 150s 2ms/step - loss: 0.3999 - auroc: 0.7184 - val_loss: 0.3910 - val_auroc: 0.7568\n",
      "Epoch 9/18\n",
      "61178/61178 [==============================] - 148s 2ms/step - loss: 0.3952 - auroc: 0.7281 - val_loss: 0.3903 - val_auroc: 0.7590\n",
      "Epoch 10/18\n",
      "61178/61178 [==============================] - 149s 2ms/step - loss: 0.3909 - auroc: 0.7407 - val_loss: 0.3795 - val_auroc: 0.7638\n",
      "Epoch 11/18\n",
      "61178/61178 [==============================] - 149s 2ms/step - loss: 0.3860 - auroc: 0.7475 - val_loss: 0.3833 - val_auroc: 0.7643\n",
      "Epoch 12/18\n",
      "61178/61178 [==============================] - 150s 2ms/step - loss: 0.3837 - auroc: 0.7541 - val_loss: 0.3793 - val_auroc: 0.7657\n",
      "Epoch 13/18\n",
      "61178/61178 [==============================] - 149s 2ms/step - loss: 0.3811 - auroc: 0.7627 - val_loss: 0.3814 - val_auroc: 0.7662\n",
      "Epoch 14/18\n",
      "61178/61178 [==============================] - 151s 2ms/step - loss: 0.3799 - auroc: 0.7667 - val_loss: 0.3781 - val_auroc: 0.7670\n",
      "Epoch 15/18\n",
      "61178/61178 [==============================] - 148s 2ms/step - loss: 0.3762 - auroc: 0.7731 - val_loss: 0.3901 - val_auroc: 0.7647\n",
      "Epoch 16/18\n",
      "61178/61178 [==============================] - 151s 2ms/step - loss: 0.3755 - auroc: 0.7758 - val_loss: 0.3773 - val_auroc: 0.7723\n",
      "Epoch 17/18\n",
      "61178/61178 [==============================] - 150s 2ms/step - loss: 0.3723 - auroc: 0.7821 - val_loss: 0.3807 - val_auroc: 0.7676\n",
      "Epoch 18/18\n",
      "61178/61178 [==============================] - 150s 2ms/step - loss: 0.3712 - auroc: 0.7858 - val_loss: 0.3845 - val_auroc: 0.7663\n"
     ]
    },
    {
     "data": {
      "text/plain": [
       "<keras.callbacks.History at 0x7fed561fa3c8>"
      ]
     },
     "execution_count": 77,
     "metadata": {
      "tags": []
     },
     "output_type": "execute_result"
    }
   ],
   "source": [
    "#keras.backend.get_session().run(tf.global_variables_initializer())\n",
    "model.fit([encoded_docs_train,encoded_school_state_train,encoded_PGC_train,encoded_PSC_train,encoded_PSSC_train,\n",
    "           encoded_teacher_pre_train,X_train_numeric], y_train, epochs=18,verbose=1,batch_size=256,class_weight='balanced',\n",
    "          validation_data=([encoded_docs_cv,encoded_school_state_cv,encoded_PGC_cv,encoded_PSC_cv,encoded_PSSC_cv,\n",
    "           encoded_teacher_pre_cv,X_cv_numeric],y_cv),callbacks=[TensorBoardColabCallback(tbc)] )"
   ]
  },
  {
   "cell_type": "code",
   "execution_count": 0,
   "metadata": {
    "colab": {},
    "colab_type": "code",
    "id": "LeeuSd3z-MCA"
   },
   "outputs": [],
   "source": [
    "pred=model.predict([encoded_docs_test,encoded_school_state_test,encoded_PGC_test,encoded_PSC_test,encoded_PSSC_test,\n",
    "           encoded_teacher_pre_test,X_test_numeric])"
   ]
  },
  {
   "cell_type": "code",
   "execution_count": 79,
   "metadata": {
    "colab": {
     "base_uri": "https://localhost:8080/",
     "height": 34
    },
    "colab_type": "code",
    "id": "aOLltBn0-MCB",
    "outputId": "fa9baeaa-7240-4a27-a234-5ac7ff255b4d"
   },
   "outputs": [
    {
     "data": {
      "text/plain": [
       "0.7767883423193852"
      ]
     },
     "execution_count": 79,
     "metadata": {
      "tags": []
     },
     "output_type": "execute_result"
    }
   ],
   "source": [
    "roc_auc_score(y_test,pred)"
   ]
  },
  {
   "cell_type": "markdown",
   "metadata": {
    "colab": {},
    "colab_type": "code",
    "id": "3eBkFutd-MCE"
   },
   "source": [
    "### Loss with Epochs [Training:Orange, Validation:Blue]"
   ]
  },
  {
   "cell_type": "code",
   "execution_count": 1,
   "metadata": {
    "colab": {},
    "colab_type": "code",
    "id": "97hAXrE6-MCG"
   },
   "outputs": [
    {
     "data": {
      "image/png": "[encoded data removed]",
      "text/plain": [
       "<IPython.core.display.Image object>"
      ]
     },
     "execution_count": 1,
     "metadata": {},
     "output_type": "execute_result"
    }
   ],
   "source": [
    "from IPython.display import Image\n",
    "Image(filename='model1_loss.png')"
   ]
  },
  {
   "cell_type": "markdown",
   "metadata": {
    "colab": {},
    "colab_type": "code",
    "id": "cBkkGATp-MCI"
   },
   "source": [
    "#### As we can see training and validation loss are very close so there is no overfitting and our model is fine"
   ]
  },
  {
   "cell_type": "markdown",
   "metadata": {
    "colab": {},
    "colab_type": "code",
    "id": "jsRIppdh-MCI"
   },
   "source": [
    "### AUC with Epochs[Training:Orange, Validation:Blue]"
   ]
  },
  {
   "cell_type": "code",
   "execution_count": 2,
   "metadata": {
    "colab": {},
    "colab_type": "code",
    "id": "Y76433CI-MCJ"
   },
   "outputs": [
    {
     "data": {
      "image/png": "[encoded data removed]",
      "text/plain": [
       "<IPython.core.display.Image object>"
      ]
     },
     "execution_count": 2,
     "metadata": {},
     "output_type": "execute_result"
    }
   ],
   "source": [
    "from IPython.display import Image\n",
    "Image(filename='model1_auc.png')"
   ]
  },
  {
   "cell_type": "markdown",
   "metadata": {
    "colab": {},
    "colab_type": "code",
    "id": "DCmoDV3H-MCK"
   },
   "source": [
    "# Conclusion"
   ]
  },
  {
   "cell_type": "markdown",
   "metadata": {
    "colab": {},
    "colab_type": "code",
    "id": "g9xJ_ukE-MCL"
   },
   "source": [
    "* In this model we created seven inputs, First Input will take the total Textual features like project title, Essay, Project Resource Summary and 2,3,4,5,6 inputs are categorical features and the sevents input will contain all the numirical data like price quantity etc\n",
    "* First Input will be passed to a LSTM Layer \n",
    "* Seventh input will be passed to a densu relu activated layer\n",
    "* And all other inputs are passed to embedding layer for trainig \n",
    "* We have used L2 regularizer to prevent our model from overfitting \n",
    "* we have used adam optimizer\n",
    "* After 18 Epochs:\n",
    "    Training Loss-0.3712\n",
    "    Validation Loss-0.3845\n",
    "    Training AUC-0.7858 \n",
    "    Validation AUC-0.7663\n",
    "* Testing AUC of this Model is 0.7767"
   ]
  },
  {
   "cell_type": "code",
   "execution_count": null,
   "metadata": {},
   "outputs": [],
   "source": []
  }
 ],
 "metadata": {
  "accelerator": "GPU",
  "colab": {
   "collapsed_sections": [],
   "name": "Model_1.ipynb",
   "provenance": []
  },
  "kernelspec": {
   "display_name": "Python 3",
   "language": "python",
   "name": "python3"
  },
  "language_info": {
   "codemirror_mode": {
    "name": "ipython",
    "version": 3
   },
   "file_extension": ".py",
   "mimetype": "text/x-python",
   "name": "python",
   "nbconvert_exporter": "python",
   "pygments_lexer": "ipython3",
   "version": "3.6.2"
  }
 },
 "nbformat": 4,
 "nbformat_minor": 1
}
