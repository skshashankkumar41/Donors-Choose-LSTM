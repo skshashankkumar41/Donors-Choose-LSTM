{
 "cells": [
  {
   "cell_type": "code",
   "execution_count": 1,
   "metadata": {
    "colab": {
     "base_uri": "https://localhost:8080/",
     "height": 34
    },
    "colab_type": "code",
    "id": "xmOpGFSHbkdL",
    "outputId": "e59d0106-9a3f-4ad3-e668-52b6511daaf3"
   },
   "outputs": [
    {
     "name": "stderr",
     "output_type": "stream",
     "text": [
      "Using TensorFlow backend.\n"
     ]
    }
   ],
   "source": [
    "import pandas as pd\n",
    "import numpy as np\n",
    "import keras \n",
    "from keras.preprocessing.text import Tokenizer\n",
    "from keras.preprocessing.sequence import pad_sequences\n",
    "from keras.models import Sequential\n",
    "from keras.layers import Dense\n",
    "from keras.layers import Flatten\n",
    "from keras.layers import Embedding\n",
    "from keras.layers import LSTM, BatchNormalization,concatenate,Flatten,Embedding,Dense,Dropout,Reshape\n",
    "from keras import Model,Input\n",
    "from keras.preprocessing.text import one_hot\n",
    "from sklearn.model_selection import train_test_split\n",
    "from keras.regularizers import L1L2,l2\n",
    "from time import time\n",
    "from tensorflow.python.keras.callbacks import TensorBoard"
   ]
  },
  {
   "cell_type": "markdown",
   "metadata": {},
   "source": [
    "## Google Colab Stuff"
   ]
  },
  {
   "cell_type": "code",
   "execution_count": 0,
   "metadata": {
    "colab": {},
    "colab_type": "code",
    "id": "VJCsVJThbsnF"
   },
   "outputs": [],
   "source": [
    "!pip install -U -q PyDrive\n",
    "from pydrive.auth import GoogleAuth\n",
    "from pydrive.drive import GoogleDrive\n",
    "from google.colab import auth\n",
    "from oauth2client.client import GoogleCredentials\n",
    "\n",
    "auth.authenticate_user()\n",
    "gauth = GoogleAuth()\n",
    "gauth.credentials = GoogleCredentials.get_application_default()\n",
    "drive = GoogleDrive(gauth)\n",
    "\n"
   ]
  },
  {
   "cell_type": "code",
   "execution_count": 0,
   "metadata": {
    "colab": {},
    "colab_type": "code",
    "id": "LJiuE_mPbsyS"
   },
   "outputs": [],
   "source": [
    "link = 'https://drive.google.com/open?id=10nvn3wpB-lwwj7dT5BhAgFjwZXw5pS5D'\n",
    "fluff, id = link.split('=')\n",
    "downloaded = drive.CreateFile({'id':id}) \n",
    "downloaded.GetContentFile('preprocessed_complete.csv')  \n",
    "df= pd.read_csv('preprocessed_complete.csv')"
   ]
  },
  {
   "cell_type": "markdown",
   "metadata": {},
   "source": [
    "## Preprocessing"
   ]
  },
  {
   "cell_type": "code",
   "execution_count": 4,
   "metadata": {
    "colab": {
     "base_uri": "https://localhost:8080/",
     "height": 352
    },
    "colab_type": "code",
    "id": "AjxF1PcybkdS",
    "outputId": "12aaf533-eda0-4f76-8a51-fcc95dfa9abd"
   },
   "outputs": [
    {
     "data": {
      "text/html": [
       "<div>\n",
       "<style scoped>\n",
       "    .dataframe tbody tr th:only-of-type {\n",
       "        vertical-align: middle;\n",
       "    }\n",
       "\n",
       "    .dataframe tbody tr th {\n",
       "        vertical-align: top;\n",
       "    }\n",
       "\n",
       "    .dataframe thead th {\n",
       "        text-align: right;\n",
       "    }\n",
       "</style>\n",
       "<table border=\"1\" class=\"dataframe\">\n",
       "  <thead>\n",
       "    <tr style=\"text-align: right;\">\n",
       "      <th></th>\n",
       "      <th>Unnamed: 0</th>\n",
       "      <th>id</th>\n",
       "      <th>teacher_id</th>\n",
       "      <th>teacher_prefix</th>\n",
       "      <th>school_state</th>\n",
       "      <th>project_submitted_datetime</th>\n",
       "      <th>project_grade_category</th>\n",
       "      <th>project_subject_categories</th>\n",
       "      <th>project_subject_subcategories</th>\n",
       "      <th>project_title</th>\n",
       "      <th>project_essay_1</th>\n",
       "      <th>project_essay_2</th>\n",
       "      <th>project_essay_3</th>\n",
       "      <th>project_essay_4</th>\n",
       "      <th>project_resource_summary</th>\n",
       "      <th>teacher_number_of_previously_posted_projects</th>\n",
       "      <th>project_is_approved</th>\n",
       "      <th>essay</th>\n",
       "      <th>price</th>\n",
       "      <th>quantity</th>\n",
       "      <th>std_price</th>\n",
       "      <th>nrm_price</th>\n",
       "      <th>presence_of_the_numerical_digits</th>\n",
       "    </tr>\n",
       "  </thead>\n",
       "  <tbody>\n",
       "    <tr>\n",
       "      <th>0</th>\n",
       "      <td>0</td>\n",
       "      <td>p253737</td>\n",
       "      <td>c90749f5d961ff158d4b4d1e7dc665fc</td>\n",
       "      <td>mrs</td>\n",
       "      <td>in</td>\n",
       "      <td>2016-12-05 13:43:57</td>\n",
       "      <td>grades_prek_2</td>\n",
       "      <td>literacy_language</td>\n",
       "      <td>esl_literacy</td>\n",
       "      <td>Educational Support for English Learners at Home</td>\n",
       "      <td>My students are English learners that are work...</td>\n",
       "      <td>\\\"The limits of your language are the limits o...</td>\n",
       "      <td>NaN</td>\n",
       "      <td>NaN</td>\n",
       "      <td>My students need opportunities to practice beg...</td>\n",
       "      <td>0</td>\n",
       "      <td>0</td>\n",
       "      <td>My students are English learners that are work...</td>\n",
       "      <td>154.6</td>\n",
       "      <td>23</td>\n",
       "      <td>-0.390533</td>\n",
       "      <td>0.015397</td>\n",
       "      <td>0</td>\n",
       "    </tr>\n",
       "    <tr>\n",
       "      <th>1</th>\n",
       "      <td>1</td>\n",
       "      <td>p258326</td>\n",
       "      <td>897464ce9ddc600bced1151f324dd63a</td>\n",
       "      <td>mr</td>\n",
       "      <td>fl</td>\n",
       "      <td>2016-10-25 09:22:10</td>\n",
       "      <td>grades_6_8</td>\n",
       "      <td>history_civics_health_sports</td>\n",
       "      <td>civics_government_teamsports</td>\n",
       "      <td>Wanted: Projector for Hungry Learners</td>\n",
       "      <td>Our students arrive to our school eager to lea...</td>\n",
       "      <td>The projector we need for our school is very c...</td>\n",
       "      <td>NaN</td>\n",
       "      <td>NaN</td>\n",
       "      <td>My students need a projector to help with view...</td>\n",
       "      <td>7</td>\n",
       "      <td>1</td>\n",
       "      <td>Our students arrive to our school eager to lea...</td>\n",
       "      <td>299.0</td>\n",
       "      <td>1</td>\n",
       "      <td>0.002396</td>\n",
       "      <td>0.029839</td>\n",
       "      <td>0</td>\n",
       "    </tr>\n",
       "  </tbody>\n",
       "</table>\n",
       "</div>"
      ],
      "text/plain": [
       "   Unnamed: 0       id  ... nrm_price presence_of_the_numerical_digits\n",
       "0           0  p253737  ...  0.015397                                0\n",
       "1           1  p258326  ...  0.029839                                0\n",
       "\n",
       "[2 rows x 23 columns]"
      ]
     },
     "execution_count": 4,
     "metadata": {
      "tags": []
     },
     "output_type": "execute_result"
    }
   ],
   "source": [
    "df.head(2)"
   ]
  },
  {
   "cell_type": "code",
   "execution_count": 5,
   "metadata": {
    "colab": {
     "base_uri": "https://localhost:8080/",
     "height": 335
    },
    "colab_type": "code",
    "id": "lw_vaYTvhfFf",
    "outputId": "c9622f1f-dab7-4bae-fec8-ee00e6c1aaf5"
   },
   "outputs": [
    {
     "data": {
      "text/html": [
       "<div>\n",
       "<style scoped>\n",
       "    .dataframe tbody tr th:only-of-type {\n",
       "        vertical-align: middle;\n",
       "    }\n",
       "\n",
       "    .dataframe tbody tr th {\n",
       "        vertical-align: top;\n",
       "    }\n",
       "\n",
       "    .dataframe thead th {\n",
       "        text-align: right;\n",
       "    }\n",
       "</style>\n",
       "<table border=\"1\" class=\"dataframe\">\n",
       "  <thead>\n",
       "    <tr style=\"text-align: right;\">\n",
       "      <th></th>\n",
       "      <th>id</th>\n",
       "      <th>teacher_id</th>\n",
       "      <th>teacher_prefix</th>\n",
       "      <th>school_state</th>\n",
       "      <th>project_submitted_datetime</th>\n",
       "      <th>project_grade_category</th>\n",
       "      <th>project_subject_categories</th>\n",
       "      <th>project_subject_subcategories</th>\n",
       "      <th>project_title</th>\n",
       "      <th>project_essay_1</th>\n",
       "      <th>project_essay_2</th>\n",
       "      <th>project_essay_3</th>\n",
       "      <th>project_essay_4</th>\n",
       "      <th>project_resource_summary</th>\n",
       "      <th>teacher_number_of_previously_posted_projects</th>\n",
       "      <th>project_is_approved</th>\n",
       "      <th>essay</th>\n",
       "      <th>price</th>\n",
       "      <th>quantity</th>\n",
       "      <th>std_price</th>\n",
       "      <th>nrm_price</th>\n",
       "      <th>presence_of_the_numerical_digits</th>\n",
       "    </tr>\n",
       "  </thead>\n",
       "  <tbody>\n",
       "    <tr>\n",
       "      <th>0</th>\n",
       "      <td>p253737</td>\n",
       "      <td>c90749f5d961ff158d4b4d1e7dc665fc</td>\n",
       "      <td>mrs</td>\n",
       "      <td>in</td>\n",
       "      <td>2016-12-05 13:43:57</td>\n",
       "      <td>grades_prek_2</td>\n",
       "      <td>literacy_language</td>\n",
       "      <td>esl_literacy</td>\n",
       "      <td>Educational Support for English Learners at Home</td>\n",
       "      <td>My students are English learners that are work...</td>\n",
       "      <td>\\\"The limits of your language are the limits o...</td>\n",
       "      <td>NaN</td>\n",
       "      <td>NaN</td>\n",
       "      <td>My students need opportunities to practice beg...</td>\n",
       "      <td>0</td>\n",
       "      <td>0</td>\n",
       "      <td>My students are English learners that are work...</td>\n",
       "      <td>154.6</td>\n",
       "      <td>23</td>\n",
       "      <td>-0.390533</td>\n",
       "      <td>0.015397</td>\n",
       "      <td>0</td>\n",
       "    </tr>\n",
       "    <tr>\n",
       "      <th>1</th>\n",
       "      <td>p258326</td>\n",
       "      <td>897464ce9ddc600bced1151f324dd63a</td>\n",
       "      <td>mr</td>\n",
       "      <td>fl</td>\n",
       "      <td>2016-10-25 09:22:10</td>\n",
       "      <td>grades_6_8</td>\n",
       "      <td>history_civics_health_sports</td>\n",
       "      <td>civics_government_teamsports</td>\n",
       "      <td>Wanted: Projector for Hungry Learners</td>\n",
       "      <td>Our students arrive to our school eager to lea...</td>\n",
       "      <td>The projector we need for our school is very c...</td>\n",
       "      <td>NaN</td>\n",
       "      <td>NaN</td>\n",
       "      <td>My students need a projector to help with view...</td>\n",
       "      <td>7</td>\n",
       "      <td>1</td>\n",
       "      <td>Our students arrive to our school eager to lea...</td>\n",
       "      <td>299.0</td>\n",
       "      <td>1</td>\n",
       "      <td>0.002396</td>\n",
       "      <td>0.029839</td>\n",
       "      <td>0</td>\n",
       "    </tr>\n",
       "  </tbody>\n",
       "</table>\n",
       "</div>"
      ],
      "text/plain": [
       "        id  ... presence_of_the_numerical_digits\n",
       "0  p253737  ...                                0\n",
       "1  p258326  ...                                0\n",
       "\n",
       "[2 rows x 22 columns]"
      ]
     },
     "execution_count": 5,
     "metadata": {
      "tags": []
     },
     "output_type": "execute_result"
    }
   ],
   "source": [
    "df.drop(['Unnamed: 0'],axis = 1,inplace = True)\n",
    "df.head(2)"
   ]
  },
  {
   "cell_type": "code",
   "execution_count": 0,
   "metadata": {
    "colab": {},
    "colab_type": "code",
    "id": "ZgbVJMl4bkdY"
   },
   "outputs": [],
   "source": [
    "y=df['project_is_approved']"
   ]
  },
  {
   "cell_type": "code",
   "execution_count": 0,
   "metadata": {
    "colab": {},
    "colab_type": "code",
    "id": "rVJstUEYbkdb"
   },
   "outputs": [],
   "source": [
    "df.drop('project_is_approved',axis=1,inplace=True)"
   ]
  },
  {
   "cell_type": "code",
   "execution_count": 0,
   "metadata": {
    "colab": {},
    "colab_type": "code",
    "id": "bEf2wzJQbkdf"
   },
   "outputs": [],
   "source": [
    "X_train,X_test,y_train,y_test=train_test_split(df,y,stratify = y, test_size = 0.3)\n",
    "X_train,X_cv,y_train,y_cv=train_test_split(X_train,y_train,stratify = y_train, test_size = 0.2)"
   ]
  },
  {
   "cell_type": "code",
   "execution_count": null,
   "metadata": {},
   "outputs": [],
   "source": [
    "from keras.utils import to_categorical\n",
    "y_train=to_categorical(y_train)\n",
    "y_test=to_categorical(y_test)\n",
    "y_cv=to_categorical(y_cv)"
   ]
  },
  {
   "cell_type": "markdown",
   "metadata": {
    "colab_type": "text",
    "id": "8WRN_4Xcbkdi"
   },
   "source": [
    "# Essay Feature with selected_words"
   ]
  },
  {
   "cell_type": "code",
   "execution_count": 0,
   "metadata": {
    "colab": {},
    "colab_type": "code",
    "id": "IM34cbyebkdj"
   },
   "outputs": [],
   "source": [
    "from sklearn.feature_extraction.text import TfidfVectorizer\n",
    "import matplotlib.pyplot as plt"
   ]
  },
  {
   "cell_type": "code",
   "execution_count": 0,
   "metadata": {
    "colab": {},
    "colab_type": "code",
    "id": "wkxc_Tpibkdl"
   },
   "outputs": [],
   "source": [
    "tfidf=TfidfVectorizer()"
   ]
  },
  {
   "cell_type": "code",
   "execution_count": 0,
   "metadata": {
    "colab": {},
    "colab_type": "code",
    "id": "od6BtYOUbkdn"
   },
   "outputs": [],
   "source": [
    "tfidf_text=tfidf.fit_transform(X_train.essay)"
   ]
  },
  {
   "cell_type": "code",
   "execution_count": 12,
   "metadata": {
    "colab": {
     "base_uri": "https://localhost:8080/",
     "height": 286
    },
    "colab_type": "code",
    "id": "eG7lhjdObkdp",
    "outputId": "7079bb6b-ed4a-4551-8bb6-3a8d179d22a7"
   },
   "outputs": [
    {
     "data": {
      "text/plain": [
       "Text(0, 0.5, 'IDF')"
      ]
     },
     "execution_count": 12,
     "metadata": {
      "tags": []
     },
     "output_type": "execute_result"
    },
    {
     "data": {
      "image/png": "[encoded data removed]",
      "text/plain": [
       "<Figure size 432x288 with 1 Axes>"
      ]
     },
     "metadata": {
      "tags": []
     },
     "output_type": "display_data"
    }
   ],
   "source": [
    "plt.boxplot(tfidf.idf_)\n",
    "plt.ylabel(\"IDF\")"
   ]
  },
  {
   "cell_type": "code",
   "execution_count": 13,
   "metadata": {
    "colab": {
     "base_uri": "https://localhost:8080/",
     "height": 34
    },
    "colab_type": "code",
    "id": "l2BvikuEbkds",
    "outputId": "448c82b6-5694-4e54-ffc4-0b524aa79596"
   },
   "outputs": [
    {
     "data": {
      "text/plain": [
       "9.382501942745199"
      ]
     },
     "execution_count": 13,
     "metadata": {
      "tags": []
     },
     "output_type": "execute_result"
    }
   ],
   "source": [
    "np.percentile(tfidf.idf_,25)"
   ]
  },
  {
   "cell_type": "code",
   "execution_count": 14,
   "metadata": {
    "colab": {
     "base_uri": "https://localhost:8080/",
     "height": 34
    },
    "colab_type": "code",
    "id": "YJrbNgK1bkdu",
    "outputId": "00b3e2f5-8ec0-4267-dbea-a90b63fffacb"
   },
   "outputs": [
    {
     "data": {
      "text/plain": [
       "11.328412091800512"
      ]
     },
     "execution_count": 14,
     "metadata": {
      "tags": []
     },
     "output_type": "execute_result"
    }
   ],
   "source": [
    "np.percentile(tfidf.idf_,75)"
   ]
  },
  {
   "cell_type": "code",
   "execution_count": 0,
   "metadata": {
    "colab": {},
    "colab_type": "code",
    "id": "SH0SIp3cbkdx"
   },
   "outputs": [],
   "source": [
    "feature_idf=dict(zip(tfidf.get_feature_names(), tfidf.idf_))"
   ]
  },
  {
   "cell_type": "code",
   "execution_count": 0,
   "metadata": {
    "colab": {},
    "colab_type": "code",
    "id": "K-KxzCeVbkdz"
   },
   "outputs": [],
   "source": [
    "iqr_features=[]\n"
   ]
  },
  {
   "cell_type": "code",
   "execution_count": 0,
   "metadata": {
    "colab": {},
    "colab_type": "code",
    "id": "sbqByn2Fbkd1"
   },
   "outputs": [],
   "source": [
    "for i,j in feature_idf.items():\n",
    "    if j>=9.38 and j<=11.32:\n",
    "        iqr_features.append(i)"
   ]
  },
  {
   "cell_type": "code",
   "execution_count": 18,
   "metadata": {
    "colab": {
     "base_uri": "https://localhost:8080/",
     "height": 34
    },
    "colab_type": "code",
    "id": "vj1nSY-wbkd3",
    "outputId": "2d3be251-2245-4323-da4e-a4afb543f81a"
   },
   "outputs": [
    {
     "data": {
      "text/plain": [
       "17244"
      ]
     },
     "execution_count": 18,
     "metadata": {
      "tags": []
     },
     "output_type": "execute_result"
    }
   ],
   "source": [
    "len(iqr_features)"
   ]
  },
  {
   "cell_type": "code",
   "execution_count": 19,
   "metadata": {
    "colab": {
     "base_uri": "https://localhost:8080/",
     "height": 34
    },
    "colab_type": "code",
    "id": "LfYWDW-Lbkd9",
    "outputId": "443048da-77e6-42b4-b045-588f8b6cb43a"
   },
   "outputs": [
    {
     "data": {
      "text/plain": [
       "48228"
      ]
     },
     "execution_count": 19,
     "metadata": {
      "tags": []
     },
     "output_type": "execute_result"
    }
   ],
   "source": [
    "len(tfidf.get_feature_names())"
   ]
  },
  {
   "cell_type": "code",
   "execution_count": 20,
   "metadata": {
    "colab": {
     "base_uri": "https://localhost:8080/",
     "height": 34
    },
    "colab_type": "code",
    "id": "k03g--_JbkeA",
    "outputId": "e8108b41-ca11-4519-8bf4-535f82d7a10f"
   },
   "outputs": [
    {
     "name": "stderr",
     "output_type": "stream",
     "text": [
      "100%|██████████| 61178/61178 [1:25:45<00:00, 11.89it/s]\n"
     ]
    }
   ],
   "source": [
    "from tqdm import tqdm\n",
    "short_text_train=[]\n",
    "for i in tqdm(X_train.essay):\n",
    "    k=' '\n",
    "    words=i.split()\n",
    "    for j in words:\n",
    "        if j in iqr_features:\n",
    "            k=k+' '+j\n",
    "    if len(k)>1:\n",
    "        short_text_train.append(k.strip())\n",
    "    else:\n",
    "        short_text_train.append(k)"
   ]
  },
  {
   "cell_type": "code",
   "execution_count": 21,
   "metadata": {
    "colab": {
     "base_uri": "https://localhost:8080/",
     "height": 34
    },
    "colab_type": "code",
    "id": "SoEfHwXHbkeD",
    "outputId": "b9d5f6a3-b9f4-41f8-eeaf-3e591c19f71f"
   },
   "outputs": [
    {
     "name": "stderr",
     "output_type": "stream",
     "text": [
      "100%|██████████| 15295/15295 [21:29<00:00, 11.43it/s]\n"
     ]
    }
   ],
   "source": [
    "short_text_cv=[]\n",
    "for i in tqdm(X_cv.essay):\n",
    "    k=' '\n",
    "    words=i.split()\n",
    "    for j in words:\n",
    "        if j in iqr_features:\n",
    "            k=k+' '+j\n",
    "    if len(k)>1:\n",
    "        short_text_cv.append(k.strip())\n",
    "    else:\n",
    "        short_text_cv.append(k)"
   ]
  },
  {
   "cell_type": "code",
   "execution_count": 22,
   "metadata": {
    "colab": {
     "base_uri": "https://localhost:8080/",
     "height": 34
    },
    "colab_type": "code",
    "id": "fp-4KD4zbkeF",
    "outputId": "b8f2e406-9413-4f83-86a9-79f06157c391"
   },
   "outputs": [
    {
     "name": "stderr",
     "output_type": "stream",
     "text": [
      "100%|██████████| 32775/32775 [45:59<00:00, 11.88it/s]\n"
     ]
    }
   ],
   "source": [
    "short_text_test=[]\n",
    "for i in tqdm(X_test.essay):\n",
    "    k=' '\n",
    "    words=i.split()\n",
    "    for j in words:\n",
    "        if j in iqr_features:\n",
    "            k=k+' '+j\n",
    "    if len(k)>1:\n",
    "        short_text_test.append(k.strip())\n",
    "    else:\n",
    "        short_text_test.append(k)"
   ]
  },
  {
   "cell_type": "code",
   "execution_count": 23,
   "metadata": {
    "colab": {
     "base_uri": "https://localhost:8080/",
     "height": 119
    },
    "colab_type": "code",
    "id": "2F-f0vlaippT",
    "outputId": "34de6de3-d259-4c0d-ce1f-21e15b076d8f"
   },
   "outputs": [
    {
     "name": "stderr",
     "output_type": "stream",
     "text": [
      "/usr/local/lib/python3.6/dist-packages/ipykernel_launcher.py:3: SettingWithCopyWarning: \n",
      "A value is trying to be set on a copy of a slice from a DataFrame.\n",
      "Try using .loc[row_indexer,col_indexer] = value instead\n",
      "\n",
      "See the caveats in the documentation: http://pandas.pydata.org/pandas-docs/stable/indexing.html#indexing-view-versus-copy\n",
      "  This is separate from the ipykernel package so we can avoid doing imports until\n"
     ]
    }
   ],
   "source": [
    "X_train['short_essay']=short_text_train\n",
    "X_cv['short_essay']=short_text_cv\n",
    "X_test['short_essay']=short_text_test"
   ]
  },
  {
   "cell_type": "markdown",
   "metadata": {},
   "source": [
    "## Combining Selected_Essay,Project Title, Project Resource summary"
   ]
  },
  {
   "cell_type": "code",
   "execution_count": 24,
   "metadata": {
    "colab": {
     "base_uri": "https://localhost:8080/",
     "height": 119
    },
    "colab_type": "code",
    "id": "qtwNcgvgido9",
    "outputId": "4eb69302-3cb2-4711-f773-c2d7feb09b9f"
   },
   "outputs": [
    {
     "name": "stderr",
     "output_type": "stream",
     "text": [
      "/usr/local/lib/python3.6/dist-packages/ipykernel_launcher.py:3: SettingWithCopyWarning: \n",
      "A value is trying to be set on a copy of a slice from a DataFrame.\n",
      "Try using .loc[row_indexer,col_indexer] = value instead\n",
      "\n",
      "See the caveats in the documentation: http://pandas.pydata.org/pandas-docs/stable/indexing.html#indexing-view-versus-copy\n",
      "  This is separate from the ipykernel package so we can avoid doing imports until\n"
     ]
    }
   ],
   "source": [
    "X_train['total_text']=X_train['project_title']+' '+X_train['short_essay']+' '+X_train['project_resource_summary']\n",
    "X_cv['total_text']=X_cv['project_title']+' '+X_cv['short_essay']+' '+X_cv['project_resource_summary']\n",
    "X_test['total_text']=X_test['project_title']+' '+X_test['short_essay']+' '+X_test['project_resource_summary']"
   ]
  },
  {
   "cell_type": "code",
   "execution_count": 0,
   "metadata": {
    "colab": {},
    "colab_type": "code",
    "id": "YziUvI_iidwy"
   },
   "outputs": [],
   "source": [
    "X_train=X_train[['total_text','school_state','project_grade_category','project_subject_categories','project_subject_subcategories','teacher_prefix','teacher_number_of_previously_posted_projects','presence_of_the_numerical_digits','price','quantity']]\n",
    "X_cv=X_cv[['total_text','school_state','project_grade_category','project_subject_categories','project_subject_subcategories','teacher_prefix','teacher_number_of_previously_posted_projects','presence_of_the_numerical_digits','price','quantity']]\n",
    "X_test=X_test[['total_text','school_state','project_grade_category','project_subject_categories','project_subject_subcategories','teacher_prefix','teacher_number_of_previously_posted_projects','presence_of_the_numerical_digits','price','quantity']]"
   ]
  },
  {
   "cell_type": "code",
   "execution_count": 29,
   "metadata": {
    "colab": {
     "base_uri": "https://localhost:8080/",
     "height": 267
    },
    "colab_type": "code",
    "id": "yJC50fOzoKM7",
    "outputId": "9a3b2961-46e8-4ef0-9f38-e6a7fdf5fbef"
   },
   "outputs": [
    {
     "data": {
      "text/html": [
       "<div>\n",
       "<style scoped>\n",
       "    .dataframe tbody tr th:only-of-type {\n",
       "        vertical-align: middle;\n",
       "    }\n",
       "\n",
       "    .dataframe tbody tr th {\n",
       "        vertical-align: top;\n",
       "    }\n",
       "\n",
       "    .dataframe thead th {\n",
       "        text-align: right;\n",
       "    }\n",
       "</style>\n",
       "<table border=\"1\" class=\"dataframe\">\n",
       "  <thead>\n",
       "    <tr style=\"text-align: right;\">\n",
       "      <th></th>\n",
       "      <th>total_text</th>\n",
       "      <th>school_state</th>\n",
       "      <th>project_grade_category</th>\n",
       "      <th>project_subject_categories</th>\n",
       "      <th>project_subject_subcategories</th>\n",
       "      <th>teacher_prefix</th>\n",
       "      <th>teacher_number_of_previously_posted_projects</th>\n",
       "      <th>presence_of_the_numerical_digits</th>\n",
       "      <th>price</th>\n",
       "      <th>quantity</th>\n",
       "    </tr>\n",
       "  </thead>\n",
       "  <tbody>\n",
       "    <tr>\n",
       "      <th>34240</th>\n",
       "      <td>Get Us to the Next Year!   My students need th...</td>\n",
       "      <td>al</td>\n",
       "      <td>grades_3_5</td>\n",
       "      <td>appliedlearning_literacy_language</td>\n",
       "      <td>charactereducation_literacy</td>\n",
       "      <td>mrs</td>\n",
       "      <td>9</td>\n",
       "      <td>0</td>\n",
       "      <td>150.82</td>\n",
       "      <td>16</td>\n",
       "    </tr>\n",
       "    <tr>\n",
       "      <th>94405</th>\n",
       "      <td>Projecting Pride   My students need a replacem...</td>\n",
       "      <td>de</td>\n",
       "      <td>grades_3_5</td>\n",
       "      <td>appliedlearning_history_civics</td>\n",
       "      <td>earlydevelopment_financialliteracy</td>\n",
       "      <td>mrs</td>\n",
       "      <td>15</td>\n",
       "      <td>0</td>\n",
       "      <td>127.39</td>\n",
       "      <td>1</td>\n",
       "    </tr>\n",
       "  </tbody>\n",
       "</table>\n",
       "</div>"
      ],
      "text/plain": [
       "                                              total_text  ... quantity\n",
       "34240  Get Us to the Next Year!   My students need th...  ...       16\n",
       "94405  Projecting Pride   My students need a replacem...  ...        1\n",
       "\n",
       "[2 rows x 10 columns]"
      ]
     },
     "execution_count": 29,
     "metadata": {
      "tags": []
     },
     "output_type": "execute_result"
    }
   ],
   "source": [
    "X_train.head(2)"
   ]
  },
  {
   "cell_type": "code",
   "execution_count": 28,
   "metadata": {
    "colab": {
     "base_uri": "https://localhost:8080/",
     "height": 34
    },
    "colab_type": "code",
    "id": "PJoGx6ceGz5y",
    "outputId": "61ce54cd-fe1a-4a0e-cab0-df0064d5277c"
   },
   "outputs": [
    {
     "data": {
      "text/plain": [
       "(61178, 10)"
      ]
     },
     "execution_count": 28,
     "metadata": {
      "tags": []
     },
     "output_type": "execute_result"
    }
   ],
   "source": [
    "X_train.shape"
   ]
  },
  {
   "cell_type": "code",
   "execution_count": 0,
   "metadata": {
    "colab": {},
    "colab_type": "code",
    "id": "dPqfH9qJbkeJ"
   },
   "outputs": [],
   "source": [
    "t = Tokenizer()\n",
    "t.fit_on_texts(X_train.total_text)"
   ]
  },
  {
   "cell_type": "code",
   "execution_count": 0,
   "metadata": {
    "colab": {},
    "colab_type": "code",
    "id": "KM6mM44XbkeO"
   },
   "outputs": [],
   "source": [
    "len_input1 = len(t.word_index) + 1"
   ]
  },
  {
   "cell_type": "code",
   "execution_count": 32,
   "metadata": {
    "colab": {
     "base_uri": "https://localhost:8080/",
     "height": 34
    },
    "colab_type": "code",
    "id": "ZlIh74UfbkeQ",
    "outputId": "224ecc68-b8bb-4b93-c5e9-3a010efa656c"
   },
   "outputs": [
    {
     "data": {
      "text/plain": [
       "30388"
      ]
     },
     "execution_count": 32,
     "metadata": {
      "tags": []
     },
     "output_type": "execute_result"
    }
   ],
   "source": [
    "len_input1\n"
   ]
  },
  {
   "cell_type": "code",
   "execution_count": 0,
   "metadata": {
    "colab": {},
    "colab_type": "code",
    "id": "HcidHTShbkeS"
   },
   "outputs": [],
   "source": [
    "# Converting Textual Data to Numerical form so we can use this in Embedding Layer\n",
    "encoded_docs_train = t.texts_to_sequences(X_train.total_text)\n",
    "encoded_docs_train=np.array(encoded_docs_train)\n",
    "encoded_docs_train=pad_sequences(encoded_docs_train, maxlen=300, padding='post')"
   ]
  },
  {
   "cell_type": "code",
   "execution_count": 0,
   "metadata": {
    "colab": {},
    "colab_type": "code",
    "id": "2_L-Zz-HbkeU"
   },
   "outputs": [],
   "source": [
    "encoded_docs_cv = t.texts_to_sequences(X_cv.total_text)\n",
    "encoded_docs_cv=np.array(encoded_docs_cv)\n",
    "encoded_docs_cv=pad_sequences(encoded_docs_cv, maxlen=300, padding='post')"
   ]
  },
  {
   "cell_type": "code",
   "execution_count": 0,
   "metadata": {
    "colab": {},
    "colab_type": "code",
    "id": "QY-ivZYKbkeX"
   },
   "outputs": [],
   "source": [
    "encoded_docs_test = t.texts_to_sequences(X_test.total_text)\n",
    "encoded_docs_test=np.array(encoded_docs_test)\n",
    "encoded_docs_test=pad_sequences(encoded_docs_test, maxlen=300, padding='post')"
   ]
  },
  {
   "cell_type": "code",
   "execution_count": 36,
   "metadata": {
    "colab": {
     "base_uri": "https://localhost:8080/",
     "height": 34
    },
    "colab_type": "code",
    "id": "fZ4lpn0abkeZ",
    "outputId": "9016abc3-9e33-4a88-9b86-69f018921ff4"
   },
   "outputs": [
    {
     "data": {
      "text/plain": [
       "(61178, 300)"
      ]
     },
     "execution_count": 36,
     "metadata": {
      "tags": []
     },
     "output_type": "execute_result"
    }
   ],
   "source": [
    "encoded_docs_train.shape"
   ]
  },
  {
   "cell_type": "code",
   "execution_count": 0,
   "metadata": {
    "colab": {},
    "colab_type": "code",
    "id": "LTadqP6LdFPr"
   },
   "outputs": [],
   "source": [
    "link = 'https://drive.google.com/open?id=1jyOxxCTqzM-eKXUc8qxGTZPgqkd-zUKC'\n",
    "fluff, id = link.split('=')\n",
    "downloaded = drive.CreateFile({'id':id}) \n",
    "downloaded.GetContentFile('glove_vectors')  "
   ]
  },
  {
   "cell_type": "code",
   "execution_count": 0,
   "metadata": {
    "colab": {},
    "colab_type": "code",
    "id": "XoJELSPcbkeb"
   },
   "outputs": [],
   "source": [
    "# Using Pretrained Glove Embedding Model\n",
    "import pickle\n",
    "glove = open('glove_vectors', 'rb')      \n",
    "glove = pickle.load(glove)"
   ]
  },
  {
   "cell_type": "code",
   "execution_count": 0,
   "metadata": {
    "colab": {},
    "colab_type": "code",
    "id": "zw8giFyQbkee"
   },
   "outputs": [],
   "source": [
    "embedding_matrix = np.zeros((len_input1, 300))\n",
    "for word, i in t.word_index.items():\n",
    "    embedding_vector = glove.get(word)\n",
    "    if embedding_vector is not None:\n",
    "        embedding_matrix[i] = embedding_vector"
   ]
  },
  {
   "cell_type": "code",
   "execution_count": 42,
   "metadata": {
    "colab": {
     "base_uri": "https://localhost:8080/",
     "height": 34
    },
    "colab_type": "code",
    "id": "Fmv_Vmnmbkeg",
    "outputId": "fc8f1cac-a575-4b9a-bb1c-38efe0dd6215"
   },
   "outputs": [
    {
     "data": {
      "text/plain": [
       "(30388, 300)"
      ]
     },
     "execution_count": 42,
     "metadata": {
      "tags": []
     },
     "output_type": "execute_result"
    }
   ],
   "source": [
    "embedding_matrix.shape"
   ]
  },
  {
   "cell_type": "markdown",
   "metadata": {
    "colab_type": "text",
    "id": "_gnaGOACbkep"
   },
   "source": [
    "## School State Feature"
   ]
  },
  {
   "cell_type": "code",
   "execution_count": 0,
   "metadata": {
    "colab": {},
    "colab_type": "code",
    "id": "8i8BnPkGbkeq"
   },
   "outputs": [],
   "source": [
    "school_state_train=X_train.school_state.values"
   ]
  },
  {
   "cell_type": "code",
   "execution_count": 0,
   "metadata": {
    "colab": {},
    "colab_type": "code",
    "id": "rBdC6rOsbket"
   },
   "outputs": [],
   "source": [
    "t = Tokenizer()\n",
    "t.fit_on_texts(school_state_train)"
   ]
  },
  {
   "cell_type": "code",
   "execution_count": 0,
   "metadata": {
    "colab": {},
    "colab_type": "code",
    "id": "VOjRd7xHbkew"
   },
   "outputs": [],
   "source": [
    "len_input2 = len(t.word_index) + 1"
   ]
  },
  {
   "cell_type": "code",
   "execution_count": 46,
   "metadata": {
    "colab": {
     "base_uri": "https://localhost:8080/",
     "height": 34
    },
    "colab_type": "code",
    "id": "y9eom92jbkez",
    "outputId": "6888bb4f-54f0-4f6d-e216-6ba9bd4bf957"
   },
   "outputs": [
    {
     "data": {
      "text/plain": [
       "52"
      ]
     },
     "execution_count": 46,
     "metadata": {
      "tags": []
     },
     "output_type": "execute_result"
    }
   ],
   "source": [
    "len_input2"
   ]
  },
  {
   "cell_type": "code",
   "execution_count": 0,
   "metadata": {
    "colab": {},
    "colab_type": "code",
    "id": "l17HRmvobke4"
   },
   "outputs": [],
   "source": [
    "encoded_school_state_train = t.texts_to_sequences(school_state_train)\n",
    "encoded_school_state_train=np.array(encoded_school_state_train)\n",
    "encoded_school_state_train=pad_sequences(encoded_school_state_train, maxlen=1, padding='post')"
   ]
  },
  {
   "cell_type": "code",
   "execution_count": 0,
   "metadata": {
    "colab": {},
    "colab_type": "code",
    "id": "I0rK3Xhwbke7"
   },
   "outputs": [],
   "source": [
    "encoded_school_state_cv = t.texts_to_sequences(X_cv.school_state)\n",
    "encoded_school_state_cv=np.array(encoded_school_state_cv)\n",
    "encoded_school_state_cv=pad_sequences(encoded_school_state_cv, maxlen=1, padding='post')"
   ]
  },
  {
   "cell_type": "code",
   "execution_count": 0,
   "metadata": {
    "colab": {},
    "colab_type": "code",
    "id": "tOI28DMEbkfA"
   },
   "outputs": [],
   "source": [
    "encoded_school_state_test = t.texts_to_sequences(X_test.school_state)\n",
    "encoded_school_state_test=np.array(encoded_school_state_test)\n",
    "encoded_school_state_test=pad_sequences(encoded_school_state_test, maxlen=1, padding='post')"
   ]
  },
  {
   "cell_type": "markdown",
   "metadata": {
    "colab_type": "text",
    "id": "ikCmK0cDbkfK"
   },
   "source": [
    "## Project Grade Category Feature"
   ]
  },
  {
   "cell_type": "code",
   "execution_count": 0,
   "metadata": {
    "colab": {},
    "colab_type": "code",
    "id": "Odtjeza8bkfL"
   },
   "outputs": [],
   "source": [
    "school_PGC_train=X_train.project_grade_category.values"
   ]
  },
  {
   "cell_type": "code",
   "execution_count": 51,
   "metadata": {
    "colab": {
     "base_uri": "https://localhost:8080/",
     "height": 34
    },
    "colab_type": "code",
    "id": "kP7_jr-tbkfN",
    "outputId": "17f5bdf8-2c48-4533-8d34-c22562bf8784"
   },
   "outputs": [
    {
     "name": "stdout",
     "output_type": "stream",
     "text": [
      "5\n"
     ]
    }
   ],
   "source": [
    "t = Tokenizer(filters='!\"#$%&()*+,-./:;<=>?@[\\\\]^`{|}~\\t\\n')\n",
    "t.fit_on_texts(school_PGC_train)\n",
    "len_input3 = len(t.word_index) + 1\n",
    "print(len_input3)"
   ]
  },
  {
   "cell_type": "code",
   "execution_count": 0,
   "metadata": {
    "colab": {},
    "colab_type": "code",
    "id": "6x51X4f8bkfO"
   },
   "outputs": [],
   "source": [
    "encoded_PGC_train = t.texts_to_sequences(school_PGC_train)\n",
    "encoded_PGC_train=np.array(encoded_PGC_train)\n",
    "encoded_PGC_train=pad_sequences(encoded_PGC_train, maxlen=1, padding='post')"
   ]
  },
  {
   "cell_type": "code",
   "execution_count": 0,
   "metadata": {
    "colab": {},
    "colab_type": "code",
    "id": "wn-KzWdHbkfQ"
   },
   "outputs": [],
   "source": [
    "encoded_PGC_cv = t.texts_to_sequences(X_cv.project_grade_category)\n",
    "encoded_PGC_cv=np.array(encoded_PGC_cv)\n",
    "encoded_PGC_cv=pad_sequences(encoded_PGC_cv, maxlen=1, padding='post')"
   ]
  },
  {
   "cell_type": "code",
   "execution_count": 0,
   "metadata": {
    "colab": {},
    "colab_type": "code",
    "id": "zRsrlF9JbkfS"
   },
   "outputs": [],
   "source": [
    "encoded_PGC_test = t.texts_to_sequences(X_test.project_grade_category)\n",
    "encoded_PGC_test=np.array(encoded_PGC_test)\n",
    "encoded_PGC_test=pad_sequences(encoded_PGC_test, maxlen=1, padding='post')"
   ]
  },
  {
   "cell_type": "markdown",
   "metadata": {
    "colab_type": "text",
    "id": "QqB3RyrCbkfV"
   },
   "source": [
    "## Project Subject Category Feature"
   ]
  },
  {
   "cell_type": "code",
   "execution_count": 0,
   "metadata": {
    "colab": {},
    "colab_type": "code",
    "id": "JRldtaSnbkfZ"
   },
   "outputs": [],
   "source": [
    "school_PSC_train=X_train.project_subject_categories.values"
   ]
  },
  {
   "cell_type": "code",
   "execution_count": 56,
   "metadata": {
    "colab": {
     "base_uri": "https://localhost:8080/",
     "height": 34
    },
    "colab_type": "code",
    "id": "pGy8dm6tbkff",
    "outputId": "96d840a8-3762-496b-adff-b721e2903538"
   },
   "outputs": [
    {
     "name": "stdout",
     "output_type": "stream",
     "text": [
      "51\n"
     ]
    }
   ],
   "source": [
    "t = Tokenizer(filters='!\"#$%&()*+,-./:;<=>?@[\\\\]^`{|}~\\n')\n",
    "t.fit_on_texts(school_PSC_train)\n",
    "len_input4 = len(t.word_index) + 1\n",
    "print(len_input4)"
   ]
  },
  {
   "cell_type": "code",
   "execution_count": 0,
   "metadata": {
    "colab": {},
    "colab_type": "code",
    "id": "Ps-R8Rr3bkfl"
   },
   "outputs": [],
   "source": [
    "t.word_index"
   ]
  },
  {
   "cell_type": "code",
   "execution_count": 0,
   "metadata": {
    "colab": {},
    "colab_type": "code",
    "id": "2ISONYDVbkfp"
   },
   "outputs": [],
   "source": [
    "encoded_PSC_train = t.texts_to_sequences(school_PSC_train)\n",
    "encoded_PSC_train=np.array(encoded_PSC_train)\n",
    "encoded_PSC_train=pad_sequences(encoded_PSC_train, maxlen=1, padding='post')"
   ]
  },
  {
   "cell_type": "code",
   "execution_count": 0,
   "metadata": {
    "colab": {},
    "colab_type": "code",
    "id": "G9Wn72jybkfr"
   },
   "outputs": [],
   "source": [
    "encoded_PSC_cv = t.texts_to_sequences(X_cv.project_subject_categories)\n",
    "encoded_PSC_cv=np.array(encoded_PSC_cv)\n",
    "encoded_PSC_cv=pad_sequences(encoded_PSC_cv, maxlen=1, padding='post')"
   ]
  },
  {
   "cell_type": "code",
   "execution_count": 0,
   "metadata": {
    "colab": {},
    "colab_type": "code",
    "id": "DHZpEvG4bkf0"
   },
   "outputs": [],
   "source": [
    "encoded_PSC_test = t.texts_to_sequences(X_test.project_subject_categories)\n",
    "encoded_PSC_test=np.array(encoded_PSC_test)\n",
    "encoded_PSC_test=pad_sequences(encoded_PSC_test, maxlen=1, padding='post')"
   ]
  },
  {
   "cell_type": "markdown",
   "metadata": {
    "colab_type": "text",
    "id": "xLd12O_3bkf_"
   },
   "source": [
    "## Project Subject SubCategory Feature"
   ]
  },
  {
   "cell_type": "code",
   "execution_count": 0,
   "metadata": {
    "colab": {},
    "colab_type": "code",
    "id": "sGektorUbkgA"
   },
   "outputs": [],
   "source": [
    "school_PSSC_train=X_train.project_subject_subcategories.values"
   ]
  },
  {
   "cell_type": "code",
   "execution_count": 62,
   "metadata": {
    "colab": {
     "base_uri": "https://localhost:8080/",
     "height": 34
    },
    "colab_type": "code",
    "id": "UXaBv6XVbkgC",
    "outputId": "10695e81-d412-4240-de37-13e752666f6b"
   },
   "outputs": [
    {
     "name": "stdout",
     "output_type": "stream",
     "text": [
      "386\n"
     ]
    }
   ],
   "source": [
    "t = Tokenizer(filters='!\"#$%&()*+,-./:;<=>?@[\\\\]^`{|}~\\t\\n')\n",
    "t.fit_on_texts(school_PSSC_train)\n",
    "len_input5 = len(t.word_index) + 1\n",
    "print(len_input5)"
   ]
  },
  {
   "cell_type": "code",
   "execution_count": 0,
   "metadata": {
    "colab": {},
    "colab_type": "code",
    "id": "9bOZqELYbkgF"
   },
   "outputs": [],
   "source": [
    "encoded_PSSC_train = t.texts_to_sequences(school_PSSC_train)\n",
    "encoded_PSSC_train=np.array(encoded_PSSC_train)\n",
    "encoded_PSSC_train=pad_sequences(encoded_PSSC_train, maxlen=1, padding='post')"
   ]
  },
  {
   "cell_type": "code",
   "execution_count": 0,
   "metadata": {
    "colab": {},
    "colab_type": "code",
    "id": "ooRiEOTpbkgG"
   },
   "outputs": [],
   "source": [
    "encoded_PSSC_cv = t.texts_to_sequences(X_cv.project_subject_subcategories)\n",
    "encoded_PSSC_cv=np.array(encoded_PSSC_cv)\n",
    "encoded_PSSC_cv=pad_sequences(encoded_PSSC_cv, maxlen=1, padding='post')"
   ]
  },
  {
   "cell_type": "code",
   "execution_count": 0,
   "metadata": {
    "colab": {},
    "colab_type": "code",
    "id": "YPnkTHDjbkgK"
   },
   "outputs": [],
   "source": [
    "encoded_PSSC_test = t.texts_to_sequences(X_test.project_subject_subcategories)\n",
    "encoded_PSSC_test=np.array(encoded_PSSC_test)\n",
    "encoded_PSSC_test=pad_sequences(encoded_PSSC_test, maxlen=1, padding='post')"
   ]
  },
  {
   "cell_type": "markdown",
   "metadata": {
    "colab_type": "text",
    "id": "bpWD1zuEbkgP"
   },
   "source": [
    "## Teacher_prefix Feature"
   ]
  },
  {
   "cell_type": "code",
   "execution_count": 0,
   "metadata": {
    "colab": {},
    "colab_type": "code",
    "id": "PjWelcRrbkgP"
   },
   "outputs": [],
   "source": [
    "teacher_prefix_train=X_train.teacher_prefix.values"
   ]
  },
  {
   "cell_type": "code",
   "execution_count": 67,
   "metadata": {
    "colab": {
     "base_uri": "https://localhost:8080/",
     "height": 34
    },
    "colab_type": "code",
    "id": "Quz45sWwbkgQ",
    "outputId": "705b4e0f-02d6-4a72-9f03-7ef484716bdb"
   },
   "outputs": [
    {
     "name": "stdout",
     "output_type": "stream",
     "text": [
      "6\n"
     ]
    }
   ],
   "source": [
    "t = Tokenizer(filters='!\"#$%&()*+,-./:;<=>?@[\\\\]^`{|}~\\t\\n')\n",
    "t.fit_on_texts(teacher_prefix_train)\n",
    "len_input6 = len(t.word_index) + 1\n",
    "print(len_input6)"
   ]
  },
  {
   "cell_type": "code",
   "execution_count": 0,
   "metadata": {
    "colab": {},
    "colab_type": "code",
    "id": "HCXoL-ZDbkgU"
   },
   "outputs": [],
   "source": [
    "encoded_teacher_pre_train = t.texts_to_sequences(teacher_prefix_train)\n",
    "encoded_teacher_pre_train=np.array(encoded_teacher_pre_train)\n",
    "encoded_teacher_pre_train=pad_sequences(encoded_teacher_pre_train, maxlen=1, padding='post')"
   ]
  },
  {
   "cell_type": "code",
   "execution_count": 0,
   "metadata": {
    "colab": {},
    "colab_type": "code",
    "id": "quwRT-uDbkgV"
   },
   "outputs": [],
   "source": [
    "encoded_teacher_pre_cv = t.texts_to_sequences(X_cv.teacher_prefix)\n",
    "encoded_teacher_pre_cv=np.array(encoded_teacher_pre_cv)\n",
    "encoded_teacher_pre_cv=pad_sequences(encoded_teacher_pre_cv, maxlen=1, padding='post')"
   ]
  },
  {
   "cell_type": "code",
   "execution_count": 0,
   "metadata": {
    "colab": {},
    "colab_type": "code",
    "id": "GHBLBBjTbkgW"
   },
   "outputs": [],
   "source": [
    "encoded_teacher_pre_test = t.texts_to_sequences(X_test.teacher_prefix)\n",
    "encoded_teacher_pre_test=np.array(encoded_teacher_pre_test)\n",
    "encoded_teacher_pre_test=pad_sequences(encoded_teacher_pre_test, maxlen=1, padding='post')"
   ]
  },
  {
   "cell_type": "markdown",
   "metadata": {
    "colab_type": "text",
    "id": "E-r2lh7ybkgb"
   },
   "source": [
    "## Numerical Features"
   ]
  },
  {
   "cell_type": "code",
   "execution_count": 0,
   "metadata": {
    "colab": {},
    "colab_type": "code",
    "id": "Ll1mKSeNbkgc"
   },
   "outputs": [],
   "source": [
    "X_train_numeric=[]\n",
    "for i in range(X_train.shape[0]):\n",
    "    vec=[]\n",
    "    vec.append(X_train.iloc[i,6])\n",
    "    vec.append(X_train.iloc[i,7])\n",
    "    vec.append(X_train.iloc[i,8])\n",
    "    vec.append(X_train.iloc[i,9])\n",
    "    X_train_numeric.append(vec)\n",
    "X_train_numeric=np.array(X_train_numeric)    "
   ]
  },
  {
   "cell_type": "code",
   "execution_count": 0,
   "metadata": {
    "colab": {},
    "colab_type": "code",
    "id": "bwsHyFLhbkgd"
   },
   "outputs": [],
   "source": [
    "X_cv_numeric=[]\n",
    "for i in range(X_cv.shape[0]):\n",
    "    vec=[]\n",
    "    vec.append(X_cv.iloc[i,6])\n",
    "    vec.append(X_cv.iloc[i,7])\n",
    "    vec.append(X_cv.iloc[i,8])\n",
    "    vec.append(X_cv.iloc[i,9])\n",
    "    X_cv_numeric.append(vec)\n",
    "    \n",
    "X_cv_numeric=np.array(X_cv_numeric)"
   ]
  },
  {
   "cell_type": "code",
   "execution_count": 0,
   "metadata": {
    "colab": {},
    "colab_type": "code",
    "id": "yIcyxe3Vbkgf"
   },
   "outputs": [],
   "source": [
    "X_test_numeric=[]\n",
    "for i in range(X_test.shape[0]):\n",
    "    vec=[]\n",
    "    vec.append(X_test.iloc[i,6])\n",
    "    vec.append(X_test.iloc[i,7])\n",
    "    vec.append(X_test.iloc[i,8])\n",
    "    vec.append(X_test.iloc[i,9])\n",
    "    X_test_numeric.append(vec)\n",
    "X_test_numeric=np.array(X_test_numeric)"
   ]
  },
  {
   "cell_type": "markdown",
   "metadata": {},
   "source": [
    "## Model"
   ]
  },
  {
   "cell_type": "code",
   "execution_count": 0,
   "metadata": {
    "colab": {},
    "colab_type": "code",
    "id": "eS8flyRCbkgo"
   },
   "outputs": [],
   "source": [
    "import tensorflow as tf\n",
    "from sklearn.metrics import roc_auc_score\n",
    "\n",
    "def auroc(y_true,y_pred):\n",
    "    return tf.py_func(roc_auc_score,(y_true,y_pred),tf.double)"
   ]
  },
  {
   "cell_type": "code",
   "execution_count": 81,
   "metadata": {
    "colab": {
     "base_uri": "https://localhost:8080/",
     "height": 85
    },
    "colab_type": "code",
    "id": "j5rK-txrd9ay",
    "outputId": "a0787d82-2cdb-4806-b15b-8843ab3f88f1"
   },
   "outputs": [
    {
     "name": "stdout",
     "output_type": "stream",
     "text": [
      "Requirement already satisfied: tensorboardcolab in /usr/local/lib/python3.6/dist-packages (0.0.22)\n",
      "Wait for 8 seconds...\n",
      "TensorBoard link:\n",
      "https://dda1d724.ngrok.io\n"
     ]
    }
   ],
   "source": [
    "!pip install tensorboardcolab\n",
    "from tensorboardcolab import TensorBoardColab, TensorBoardColabCallback\n",
    "\n",
    "tbc=TensorBoardColab()"
   ]
  },
  {
   "cell_type": "code",
   "execution_count": 82,
   "metadata": {
    "colab": {
     "base_uri": "https://localhost:8080/",
     "height": 1000
    },
    "colab_type": "code",
    "id": "g1oUK9y4bkgq",
    "outputId": "6c9117e5-509f-4dde-f1b3-381bc7a37a85"
   },
   "outputs": [
    {
     "name": "stdout",
     "output_type": "stream",
     "text": [
      "Model: \"model_2\"\n",
      "__________________________________________________________________________________________________\n",
      "Layer (type)                    Output Shape         Param #     Connected to                     \n",
      "==================================================================================================\n",
      "input_8 (InputLayer)            (None, 300)          0                                            \n",
      "__________________________________________________________________________________________________\n",
      "embedding_7 (Embedding)         (None, 300, 300)     9116400     input_8[0][0]                    \n",
      "__________________________________________________________________________________________________\n",
      "spatial_dropout1d_2 (SpatialDro (None, 300, 300)     0           embedding_7[0][0]                \n",
      "__________________________________________________________________________________________________\n",
      "input_9 (InputLayer)            (None, 1)            0                                            \n",
      "__________________________________________________________________________________________________\n",
      "input_10 (InputLayer)           (None, 1)            0                                            \n",
      "__________________________________________________________________________________________________\n",
      "input_11 (InputLayer)           (None, 1)            0                                            \n",
      "__________________________________________________________________________________________________\n",
      "input_12 (InputLayer)           (None, 1)            0                                            \n",
      "__________________________________________________________________________________________________\n",
      "input_13 (InputLayer)           (None, 1)            0                                            \n",
      "__________________________________________________________________________________________________\n",
      "lstm_2 (LSTM)                   (None, 300, 140)     246960      spatial_dropout1d_2[0][0]        \n",
      "__________________________________________________________________________________________________\n",
      "embedding_8 (Embedding)         (None, 1, 2)         104         input_9[0][0]                    \n",
      "__________________________________________________________________________________________________\n",
      "embedding_9 (Embedding)         (None, 1, 2)         10          input_10[0][0]                   \n",
      "__________________________________________________________________________________________________\n",
      "embedding_10 (Embedding)        (None, 1, 2)         102         input_11[0][0]                   \n",
      "__________________________________________________________________________________________________\n",
      "embedding_11 (Embedding)        (None, 1, 10)        3860        input_12[0][0]                   \n",
      "__________________________________________________________________________________________________\n",
      "embedding_12 (Embedding)        (None, 1, 5)         30          input_13[0][0]                   \n",
      "__________________________________________________________________________________________________\n",
      "input_14 (InputLayer)           (None, 4)            0                                            \n",
      "__________________________________________________________________________________________________\n",
      "flatten_7 (Flatten)             (None, 42000)        0           lstm_2[0][0]                     \n",
      "__________________________________________________________________________________________________\n",
      "flatten_8 (Flatten)             (None, 2)            0           embedding_8[0][0]                \n",
      "__________________________________________________________________________________________________\n",
      "flatten_9 (Flatten)             (None, 2)            0           embedding_9[0][0]                \n",
      "__________________________________________________________________________________________________\n",
      "flatten_10 (Flatten)            (None, 2)            0           embedding_10[0][0]               \n",
      "__________________________________________________________________________________________________\n",
      "flatten_11 (Flatten)            (None, 10)           0           embedding_11[0][0]               \n",
      "__________________________________________________________________________________________________\n",
      "flatten_12 (Flatten)            (None, 5)            0           embedding_12[0][0]               \n",
      "__________________________________________________________________________________________________\n",
      "dense_6 (Dense)                 (None, 40)           200         input_14[0][0]                   \n",
      "__________________________________________________________________________________________________\n",
      "concatenate_2 (Concatenate)     (None, 42061)        0           flatten_7[0][0]                  \n",
      "                                                                 flatten_8[0][0]                  \n",
      "                                                                 flatten_9[0][0]                  \n",
      "                                                                 flatten_10[0][0]                 \n",
      "                                                                 flatten_11[0][0]                 \n",
      "                                                                 flatten_12[0][0]                 \n",
      "                                                                 dense_6[0][0]                    \n",
      "__________________________________________________________________________________________________\n",
      "dense_7 (Dense)                 (None, 128)          5383936     concatenate_2[0][0]              \n",
      "__________________________________________________________________________________________________\n",
      "dropout_4 (Dropout)             (None, 128)          0           dense_7[0][0]                    \n",
      "__________________________________________________________________________________________________\n",
      "dense_8 (Dense)                 (None, 64)           8256        dropout_4[0][0]                  \n",
      "__________________________________________________________________________________________________\n",
      "dropout_5 (Dropout)             (None, 64)           0           dense_8[0][0]                    \n",
      "__________________________________________________________________________________________________\n",
      "batch_normalization_2 (BatchNor (None, 64)           256         dropout_5[0][0]                  \n",
      "__________________________________________________________________________________________________\n",
      "dense_9 (Dense)                 (None, 32)           2080        batch_normalization_2[0][0]      \n",
      "__________________________________________________________________________________________________\n",
      "dropout_6 (Dropout)             (None, 32)           0           dense_9[0][0]                    \n",
      "__________________________________________________________________________________________________\n",
      "dense_10 (Dense)                (None, 2)            66          dropout_6[0][0]                  \n",
      "==================================================================================================\n",
      "Total params: 14,762,260\n",
      "Trainable params: 5,645,732\n",
      "Non-trainable params: 9,116,528\n",
      "__________________________________________________________________________________________________\n",
      "None\n"
     ]
    }
   ],
   "source": [
    "from keras.layers import SpatialDropout1D\n",
    "from keras.callbacks import TensorBoard\n",
    "input1 = Input(shape=(300,))\n",
    "x1 = Embedding(len_input1, 300, weights=[embedding_matrix], trainable=False)(input1)\n",
    "x1=SpatialDropout1D(0.3)(x1)\n",
    "x1 = LSTM(140,return_sequences=True)(x1)\n",
    "x1 = Flatten()(x1)\n",
    "\n",
    "input2=Input(shape=(1,))\n",
    "x2=Embedding(input_dim=len_input2,output_dim= 2)(input2)\n",
    "x2=Flatten()(x2)\n",
    "\n",
    "input3=Input(shape=(1,))\n",
    "x3=Embedding(input_dim=len_input3,output_dim= 2)(input3)\n",
    "x3= Flatten()(x3)\n",
    "\n",
    "input4=Input(shape=(1,))\n",
    "x4=Embedding(input_dim=len_input4,output_dim= 2)(input4)\n",
    "x4=Flatten()(x4)\n",
    "\n",
    "input5=Input(shape=(1,))\n",
    "x5=Embedding(input_dim=len_input5,output_dim= 10)(input5)\n",
    "x5=Flatten()(x5)\n",
    "\n",
    "input6=Input(shape=(1,))\n",
    "x6=Embedding(input_dim=len_input6,output_dim= 5)(input6)\n",
    "x6=Flatten()(x6)\n",
    "\n",
    "input7=Input(shape=(4,))\n",
    "x7=Dense(40,activation='relu',kernel_initializer='he_normal',kernel_regularizer=l2(0.0001))(input7)\n",
    "\n",
    "concat=concatenate([x1,x2,x3,x4,x5,x6,x7])\n",
    "\n",
    "x=Dense(128,activation='relu',kernel_initializer='he_normal',kernel_regularizer=l2(0.0001))(concat)\n",
    "x=Dropout(0.5)(x)\n",
    "x=Dense(64,activation='relu',kernel_initializer='he_normal',kernel_regularizer=l2(0.0001))(x)\n",
    "x=Dropout(0.5)(x)\n",
    "x=BatchNormalization()(x)\n",
    "x=Dense(32,activation='relu',kernel_initializer='he_normal',kernel_regularizer=l2(0.0001))(x)\n",
    "x=Dropout(0.5)(x)\n",
    "output=Dense(2, activation='softmax')(x)\n",
    "\n",
    "\n",
    "model=Model([input1,input2,input3,input4,input5,input6,input7], output)\n",
    "\n",
    "\n",
    "tensorboard=TensorBoard(log_dir=\"logs\")\n",
    "\n",
    "model.compile(loss='categorical_crossentropy', optimizer='adam',metrics=[auroc])\n",
    "\n",
    "print(model.summary())\n",
    "\n"
   ]
  },
  {
   "cell_type": "code",
   "execution_count": 83,
   "metadata": {
    "colab": {
     "base_uri": "https://localhost:8080/",
     "height": 1000
    },
    "colab_type": "code",
    "id": "yxwHRwDGbkgt",
    "outputId": "f1313a4b-3226-4313-ea14-3b4bf602956e"
   },
   "outputs": [
    {
     "name": "stdout",
     "output_type": "stream",
     "text": [
      "Train on 61178 samples, validate on 15295 samples\n",
      "Epoch 1/35\n",
      "61178/61178 [==============================] - 152s 2ms/step - loss: 0.6097 - auroc: 0.5039 - val_loss: 0.4852 - val_auroc: 0.5798\n",
      "Epoch 2/35\n",
      "61178/61178 [==============================] - 151s 2ms/step - loss: 0.4802 - auroc: 0.5308 - val_loss: 0.4513 - val_auroc: 0.5914\n",
      "Epoch 3/35\n",
      "61178/61178 [==============================] - 151s 2ms/step - loss: 0.4534 - auroc: 0.5486 - val_loss: 0.4417 - val_auroc: 0.5941\n",
      "Epoch 4/35\n",
      "61178/61178 [==============================] - 150s 2ms/step - loss: 0.4443 - auroc: 0.5568 - val_loss: 0.4339 - val_auroc: 0.6013\n",
      "Epoch 5/35\n",
      "61178/61178 [==============================] - 152s 2ms/step - loss: 0.4434 - auroc: 0.5559 - val_loss: 0.4354 - val_auroc: 0.5933\n",
      "Epoch 6/35\n",
      "61178/61178 [==============================] - 150s 2ms/step - loss: 0.4372 - auroc: 0.5730 - val_loss: 0.4327 - val_auroc: 0.6033\n",
      "Epoch 7/35\n",
      "61178/61178 [==============================] - 151s 2ms/step - loss: 0.4339 - auroc: 0.5782 - val_loss: 0.4314 - val_auroc: 0.6032\n",
      "Epoch 8/35\n",
      "61178/61178 [==============================] - 149s 2ms/step - loss: 0.4328 - auroc: 0.5902 - val_loss: 0.4261 - val_auroc: 0.6299\n",
      "Epoch 9/35\n",
      "61178/61178 [==============================] - 151s 2ms/step - loss: 0.4287 - auroc: 0.6072 - val_loss: 0.4239 - val_auroc: 0.6541\n",
      "Epoch 10/35\n",
      "61178/61178 [==============================] - 149s 2ms/step - loss: 0.4254 - auroc: 0.6345 - val_loss: 0.4217 - val_auroc: 0.6671\n",
      "Epoch 11/35\n",
      "61178/61178 [==============================] - 150s 2ms/step - loss: 0.4201 - auroc: 0.6515 - val_loss: 0.4165 - val_auroc: 0.6790\n",
      "Epoch 12/35\n",
      "61178/61178 [==============================] - 151s 2ms/step - loss: 0.4210 - auroc: 0.6458 - val_loss: 0.4141 - val_auroc: 0.6802\n",
      "Epoch 13/35\n",
      "61178/61178 [==============================] - 150s 2ms/step - loss: 0.4191 - auroc: 0.6463 - val_loss: 0.4265 - val_auroc: 0.6360\n",
      "Epoch 14/35\n",
      "61178/61178 [==============================] - 149s 2ms/step - loss: 0.4189 - auroc: 0.6473 - val_loss: 0.4110 - val_auroc: 0.6820\n",
      "Epoch 15/35\n",
      "61178/61178 [==============================] - 150s 2ms/step - loss: 0.4126 - auroc: 0.6672 - val_loss: 0.4204 - val_auroc: 0.6848\n",
      "Epoch 16/35\n",
      "61178/61178 [==============================] - 150s 2ms/step - loss: 0.4124 - auroc: 0.6670 - val_loss: 0.4069 - val_auroc: 0.6881\n",
      "Epoch 17/35\n",
      "61178/61178 [==============================] - 152s 2ms/step - loss: 0.4094 - auroc: 0.6708 - val_loss: 0.4072 - val_auroc: 0.6909\n",
      "Epoch 18/35\n",
      "61178/61178 [==============================] - 150s 2ms/step - loss: 0.4102 - auroc: 0.6682 - val_loss: 0.4127 - val_auroc: 0.6723\n",
      "Epoch 19/35\n",
      "61178/61178 [==============================] - 151s 2ms/step - loss: 0.4106 - auroc: 0.6661 - val_loss: 0.4065 - val_auroc: 0.6895\n",
      "Epoch 20/35\n",
      "61178/61178 [==============================] - 151s 2ms/step - loss: 0.4063 - auroc: 0.6767 - val_loss: 0.4094 - val_auroc: 0.6902\n",
      "Epoch 21/35\n",
      "61178/61178 [==============================] - 150s 2ms/step - loss: 0.4057 - auroc: 0.6796 - val_loss: 0.4044 - val_auroc: 0.6914\n",
      "Epoch 22/35\n",
      "61178/61178 [==============================] - 150s 2ms/step - loss: 0.4053 - auroc: 0.6798 - val_loss: 0.4058 - val_auroc: 0.6869\n",
      "Epoch 23/35\n",
      "61178/61178 [==============================] - 150s 2ms/step - loss: 0.4064 - auroc: 0.6781 - val_loss: 0.4046 - val_auroc: 0.6950\n",
      "Epoch 24/35\n",
      "61178/61178 [==============================] - 149s 2ms/step - loss: 0.4029 - auroc: 0.6856 - val_loss: 0.4037 - val_auroc: 0.6973\n",
      "Epoch 25/35\n",
      "61178/61178 [==============================] - 148s 2ms/step - loss: 0.4018 - auroc: 0.6868 - val_loss: 0.4004 - val_auroc: 0.6990\n",
      "Epoch 26/35\n",
      "61178/61178 [==============================] - 152s 2ms/step - loss: 0.4079 - auroc: 0.6719 - val_loss: 0.4068 - val_auroc: 0.6861\n",
      "Epoch 27/35\n",
      "61178/61178 [==============================] - 150s 2ms/step - loss: 0.4072 - auroc: 0.6737 - val_loss: 0.4025 - val_auroc: 0.6931\n",
      "Epoch 28/35\n",
      "61178/61178 [==============================] - 151s 2ms/step - loss: 0.4041 - auroc: 0.6819 - val_loss: 0.4037 - val_auroc: 0.6929\n",
      "Epoch 29/35\n",
      "61178/61178 [==============================] - 150s 2ms/step - loss: 0.4024 - auroc: 0.6846 - val_loss: 0.4011 - val_auroc: 0.6959\n",
      "Epoch 30/35\n",
      "61178/61178 [==============================] - 150s 2ms/step - loss: 0.4006 - auroc: 0.6917 - val_loss: 0.4014 - val_auroc: 0.6976\n",
      "Epoch 31/35\n",
      "61178/61178 [==============================] - 150s 2ms/step - loss: 0.3981 - auroc: 0.6970 - val_loss: 0.3997 - val_auroc: 0.6987\n",
      "Epoch 32/35\n",
      "61178/61178 [==============================] - 151s 2ms/step - loss: 0.3975 - auroc: 0.6985 - val_loss: 0.4030 - val_auroc: 0.6975\n",
      "Epoch 33/35\n",
      "61178/61178 [==============================] - 150s 2ms/step - loss: 0.3956 - auroc: 0.7030 - val_loss: 0.3992 - val_auroc: 0.7006\n",
      "Epoch 34/35\n",
      "61178/61178 [==============================] - 151s 2ms/step - loss: 0.3970 - auroc: 0.6974 - val_loss: 0.4004 - val_auroc: 0.7001\n",
      "Epoch 35/35\n",
      "61178/61178 [==============================] - 150s 2ms/step - loss: 0.3950 - auroc: 0.7044 - val_loss: 0.3985 - val_auroc: 0.6984\n"
     ]
    },
    {
     "data": {
      "text/plain": [
       "<keras.callbacks.History at 0x7f32d6293a58>"
      ]
     },
     "execution_count": 83,
     "metadata": {
      "tags": []
     },
     "output_type": "execute_result"
    }
   ],
   "source": [
    "#keras.backend.get_session().run(tf.global_variables_initializer())\n",
    "model.fit([encoded_docs_train,encoded_school_state_train,encoded_PGC_train,encoded_PSC_train,encoded_PSSC_train,\n",
    "           encoded_teacher_pre_train,X_train_numeric], y_train, epochs=35,verbose=1,batch_size=256,class_weight='balanced',\n",
    "          validation_data=([encoded_docs_cv,encoded_school_state_cv,encoded_PGC_cv,encoded_PSC_cv,encoded_PSSC_cv,\n",
    "           encoded_teacher_pre_cv,X_cv_numeric]  , y_cv),callbacks=[TensorBoardColabCallback(tbc)] )"
   ]
  },
  {
   "cell_type": "code",
   "execution_count": 0,
   "metadata": {
    "colab": {},
    "colab_type": "code",
    "id": "ZW5qP5Cwbkgv"
   },
   "outputs": [],
   "source": [
    "pred=model.predict([encoded_docs_test,encoded_school_state_test,encoded_PGC_test,encoded_PSC_test,encoded_PSSC_test,\n",
    "           encoded_teacher_pre_test,X_test_numeric])"
   ]
  },
  {
   "cell_type": "code",
   "execution_count": 85,
   "metadata": {
    "colab": {
     "base_uri": "https://localhost:8080/",
     "height": 34
    },
    "colab_type": "code",
    "id": "1Fga07S3bkgx",
    "outputId": "b9b01154-15b4-417e-d06f-7e5476b0b2bb"
   },
   "outputs": [
    {
     "data": {
      "text/plain": [
       "0.7006759103370985"
      ]
     },
     "execution_count": 85,
     "metadata": {
      "tags": []
     },
     "output_type": "execute_result"
    }
   ],
   "source": [
    "roc_auc_score(y_test,pred)"
   ]
  },
  {
   "cell_type": "markdown",
   "metadata": {
    "colab": {},
    "colab_type": "code",
    "id": "CYpMlM_mbkg0"
   },
   "source": [
    "### Loss with Epochs [Training:Orange, Validation:Blue]"
   ]
  },
  {
   "cell_type": "code",
   "execution_count": 1,
   "metadata": {
    "colab": {},
    "colab_type": "code",
    "id": "pAEPn-dRbkhZ"
   },
   "outputs": [
    {
     "data": {
      "image/png": "[encoded data removed]",
      "text/plain": [
       "<IPython.core.display.Image object>"
      ]
     },
     "execution_count": 1,
     "metadata": {},
     "output_type": "execute_result"
    }
   ],
   "source": [
    "from IPython.display import Image\n",
    "Image(filename='model2_loss.png')"
   ]
  },
  {
   "cell_type": "markdown",
   "metadata": {},
   "source": [
    "#### As we can see training and validation loss are very close so there is no overfitting and our model is fine"
   ]
  },
  {
   "cell_type": "markdown",
   "metadata": {},
   "source": [
    "### AUC with Epochs [Training:Orange, Validation:Blue]"
   ]
  },
  {
   "cell_type": "code",
   "execution_count": 2,
   "metadata": {},
   "outputs": [
    {
     "data": {
      "image/png": "[encoded data removed]",
      "text/plain": [
       "<IPython.core.display.Image object>"
      ]
     },
     "execution_count": 2,
     "metadata": {},
     "output_type": "execute_result"
    }
   ],
   "source": [
    "from IPython.display import Image\n",
    "Image(filename='model2_auc.png')"
   ]
  },
  {
   "cell_type": "markdown",
   "metadata": {},
   "source": [
    "# Conclusion"
   ]
  },
  {
   "cell_type": "markdown",
   "metadata": {},
   "source": [
    "* We have used the same approach as Model 1 just 1 change as in this model we created a new short_essay feature from essay feature by using top words from there IDF values \n",
    "* First Input will be passed to a LSTM Layer \n",
    "* Seventh input will be passed to a densu relu activated layer\n",
    "* And all other inputs are passed to embedding layer for trainig \n",
    "* We have used L2 regularizer to prevent our model from overfitting \n",
    "* we have used adam optimizer\n",
    "* After 35 Epochs:\n",
    "    Training Loss-0.3950\n",
    "    Validation Loss-0.3985\n",
    "    Training AUC-0.7044 \n",
    "    Validation AUC-0.6984\n",
    "* Testing AUC of this Model is 0.7006"
   ]
  },
  {
   "cell_type": "code",
   "execution_count": null,
   "metadata": {},
   "outputs": [],
   "source": []
  }
 ],
 "metadata": {
  "accelerator": "GPU",
  "colab": {
   "name": "Model_2.ipynb",
   "provenance": []
  },
  "kernelspec": {
   "display_name": "Python 3",
   "language": "python",
   "name": "python3"
  },
  "language_info": {
   "codemirror_mode": {
    "name": "ipython",
    "version": 3
   },
   "file_extension": ".py",
   "mimetype": "text/x-python",
   "name": "python",
   "nbconvert_exporter": "python",
   "pygments_lexer": "ipython3",
   "version": "3.6.2"
  }
 },
 "nbformat": 4,
 "nbformat_minor": 1
}
