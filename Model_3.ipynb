{
 "cells": [
  {
   "cell_type": "code",
   "execution_count": 1,
   "metadata": {
    "colab": {
     "base_uri": "https://localhost:8080/",
     "height": 34
    },
    "colab_type": "code",
    "id": "eyH0HqoeShfC",
    "outputId": "9b94dd38-b9ee-49a2-8407-ad0d267c455e"
   },
   "outputs": [
    {
     "name": "stderr",
     "output_type": "stream",
     "text": [
      "Using TensorFlow backend.\n"
     ]
    }
   ],
   "source": [
    "import pandas as pd\n",
    "import numpy as np\n",
    "import keras \n",
    "from keras.preprocessing.text import Tokenizer\n",
    "from keras.preprocessing.sequence import pad_sequences\n",
    "from keras.models import Sequential\n",
    "from keras.layers import Dense\n",
    "from keras.layers import Flatten\n",
    "from keras.layers import Embedding\n",
    "from keras.layers import LSTM, BatchNormalization,concatenate,Flatten,Embedding,Dense,Dropout,Reshape\n",
    "from keras import Model,Input\n",
    "from keras.preprocessing.text import one_hot\n",
    "from sklearn.model_selection import train_test_split\n",
    "from keras.regularizers import l2\n",
    "from time import time\n",
    "from tensorflow.python.keras.callbacks import TensorBoard"
   ]
  },
  {
   "cell_type": "code",
   "execution_count": 2,
   "metadata": {
    "colab": {
     "base_uri": "https://localhost:8080/",
     "height": 34
    },
    "colab_type": "code",
    "id": "hwhIaJzLTWDk",
    "outputId": "cf600689-4ab2-4037-daf4-806a97ed9d52"
   },
   "outputs": [
    {
     "data": {
      "text/plain": [
       "'/device:GPU:0'"
      ]
     },
     "execution_count": 2,
     "metadata": {
      "tags": []
     },
     "output_type": "execute_result"
    }
   ],
   "source": [
    "import tensorflow as tf\n",
    "tf.test.gpu_device_name()"
   ]
  },
  {
   "cell_type": "markdown",
   "metadata": {},
   "source": [
    "## Google Colab Stuff"
   ]
  },
  {
   "cell_type": "code",
   "execution_count": 0,
   "metadata": {
    "colab": {},
    "colab_type": "code",
    "id": "LmRfx91TuflZ"
   },
   "outputs": [],
   "source": [
    "!pip install -U -q PyDrive\n",
    "from pydrive.auth import GoogleAuth\n",
    "from pydrive.drive import GoogleDrive\n",
    "from google.colab import auth\n",
    "from oauth2client.client import GoogleCredentials"
   ]
  },
  {
   "cell_type": "code",
   "execution_count": 0,
   "metadata": {
    "colab": {},
    "colab_type": "code",
    "id": "yL__yO7Jug12"
   },
   "outputs": [],
   "source": [
    "auth.authenticate_user()\n",
    "gauth = GoogleAuth()\n",
    "gauth.credentials = GoogleCredentials.get_application_default()\n",
    "drive = GoogleDrive(gauth)"
   ]
  },
  {
   "cell_type": "code",
   "execution_count": 0,
   "metadata": {
    "colab": {},
    "colab_type": "code",
    "id": "yn9wi3v6uhD2"
   },
   "outputs": [],
   "source": [
    "link = 'https://drive.google.com/open?id=10nvn3wpB-lwwj7dT5BhAgFjwZXw5pS5D'"
   ]
  },
  {
   "cell_type": "code",
   "execution_count": 6,
   "metadata": {
    "colab": {
     "base_uri": "https://localhost:8080/",
     "height": 34
    },
    "colab_type": "code",
    "id": "wT5y6BQlvLoD",
    "outputId": "e33e6755-f92f-4779-837e-ec125c0053ac"
   },
   "outputs": [
    {
     "name": "stdout",
     "output_type": "stream",
     "text": [
      "10nvn3wpB-lwwj7dT5BhAgFjwZXw5pS5D\n"
     ]
    }
   ],
   "source": [
    "fluff, id = link.split('=')\n",
    "print (id) # Verify that you have everything after '='"
   ]
  },
  {
   "cell_type": "code",
   "execution_count": 0,
   "metadata": {
    "colab": {},
    "colab_type": "code",
    "id": "g0MvNJxdvLuy"
   },
   "outputs": [],
   "source": [
    "downloaded = drive.CreateFile({'id':id}) \n",
    "downloaded.GetContentFile('preprocessed_complete.csv')  \n",
    "df= pd.read_csv('preprocessed_complete.csv')"
   ]
  },
  {
   "cell_type": "markdown",
   "metadata": {},
   "source": [
    "## Preprocessing"
   ]
  },
  {
   "cell_type": "code",
   "execution_count": 8,
   "metadata": {
    "colab": {
     "base_uri": "https://localhost:8080/",
     "height": 352
    },
    "colab_type": "code",
    "id": "eHh8IHXXvL1F",
    "outputId": "7e607ed9-51f1-40f4-d002-014378e05632"
   },
   "outputs": [
    {
     "data": {
      "text/html": [
       "<div>\n",
       "<style scoped>\n",
       "    .dataframe tbody tr th:only-of-type {\n",
       "        vertical-align: middle;\n",
       "    }\n",
       "\n",
       "    .dataframe tbody tr th {\n",
       "        vertical-align: top;\n",
       "    }\n",
       "\n",
       "    .dataframe thead th {\n",
       "        text-align: right;\n",
       "    }\n",
       "</style>\n",
       "<table border=\"1\" class=\"dataframe\">\n",
       "  <thead>\n",
       "    <tr style=\"text-align: right;\">\n",
       "      <th></th>\n",
       "      <th>Unnamed: 0</th>\n",
       "      <th>id</th>\n",
       "      <th>teacher_id</th>\n",
       "      <th>teacher_prefix</th>\n",
       "      <th>school_state</th>\n",
       "      <th>project_submitted_datetime</th>\n",
       "      <th>project_grade_category</th>\n",
       "      <th>project_subject_categories</th>\n",
       "      <th>project_subject_subcategories</th>\n",
       "      <th>project_title</th>\n",
       "      <th>project_essay_1</th>\n",
       "      <th>project_essay_2</th>\n",
       "      <th>project_essay_3</th>\n",
       "      <th>project_essay_4</th>\n",
       "      <th>project_resource_summary</th>\n",
       "      <th>teacher_number_of_previously_posted_projects</th>\n",
       "      <th>project_is_approved</th>\n",
       "      <th>essay</th>\n",
       "      <th>price</th>\n",
       "      <th>quantity</th>\n",
       "      <th>std_price</th>\n",
       "      <th>nrm_price</th>\n",
       "      <th>presence_of_the_numerical_digits</th>\n",
       "    </tr>\n",
       "  </thead>\n",
       "  <tbody>\n",
       "    <tr>\n",
       "      <th>0</th>\n",
       "      <td>0</td>\n",
       "      <td>p253737</td>\n",
       "      <td>c90749f5d961ff158d4b4d1e7dc665fc</td>\n",
       "      <td>mrs</td>\n",
       "      <td>in</td>\n",
       "      <td>2016-12-05 13:43:57</td>\n",
       "      <td>grades_prek_2</td>\n",
       "      <td>literacy_language</td>\n",
       "      <td>esl_literacy</td>\n",
       "      <td>Educational Support for English Learners at Home</td>\n",
       "      <td>My students are English learners that are work...</td>\n",
       "      <td>\\\"The limits of your language are the limits o...</td>\n",
       "      <td>NaN</td>\n",
       "      <td>NaN</td>\n",
       "      <td>My students need opportunities to practice beg...</td>\n",
       "      <td>0</td>\n",
       "      <td>0</td>\n",
       "      <td>My students are English learners that are work...</td>\n",
       "      <td>154.6</td>\n",
       "      <td>23</td>\n",
       "      <td>-0.390533</td>\n",
       "      <td>0.015397</td>\n",
       "      <td>0</td>\n",
       "    </tr>\n",
       "    <tr>\n",
       "      <th>1</th>\n",
       "      <td>1</td>\n",
       "      <td>p258326</td>\n",
       "      <td>897464ce9ddc600bced1151f324dd63a</td>\n",
       "      <td>mr</td>\n",
       "      <td>fl</td>\n",
       "      <td>2016-10-25 09:22:10</td>\n",
       "      <td>grades_6_8</td>\n",
       "      <td>history_civics_health_sports</td>\n",
       "      <td>civics_government_teamsports</td>\n",
       "      <td>Wanted: Projector for Hungry Learners</td>\n",
       "      <td>Our students arrive to our school eager to lea...</td>\n",
       "      <td>The projector we need for our school is very c...</td>\n",
       "      <td>NaN</td>\n",
       "      <td>NaN</td>\n",
       "      <td>My students need a projector to help with view...</td>\n",
       "      <td>7</td>\n",
       "      <td>1</td>\n",
       "      <td>Our students arrive to our school eager to lea...</td>\n",
       "      <td>299.0</td>\n",
       "      <td>1</td>\n",
       "      <td>0.002396</td>\n",
       "      <td>0.029839</td>\n",
       "      <td>0</td>\n",
       "    </tr>\n",
       "  </tbody>\n",
       "</table>\n",
       "</div>"
      ],
      "text/plain": [
       "   Unnamed: 0       id  ... nrm_price presence_of_the_numerical_digits\n",
       "0           0  p253737  ...  0.015397                                0\n",
       "1           1  p258326  ...  0.029839                                0\n",
       "\n",
       "[2 rows x 23 columns]"
      ]
     },
     "execution_count": 8,
     "metadata": {
      "tags": []
     },
     "output_type": "execute_result"
    }
   ],
   "source": [
    "df.head(2)"
   ]
  },
  {
   "cell_type": "code",
   "execution_count": 9,
   "metadata": {
    "colab": {
     "base_uri": "https://localhost:8080/",
     "height": 335
    },
    "colab_type": "code",
    "id": "x9I9-CogShfR",
    "outputId": "5c5f156b-97b9-44f1-9181-03d2014bc8d9"
   },
   "outputs": [
    {
     "data": {
      "text/html": [
       "<div>\n",
       "<style scoped>\n",
       "    .dataframe tbody tr th:only-of-type {\n",
       "        vertical-align: middle;\n",
       "    }\n",
       "\n",
       "    .dataframe tbody tr th {\n",
       "        vertical-align: top;\n",
       "    }\n",
       "\n",
       "    .dataframe thead th {\n",
       "        text-align: right;\n",
       "    }\n",
       "</style>\n",
       "<table border=\"1\" class=\"dataframe\">\n",
       "  <thead>\n",
       "    <tr style=\"text-align: right;\">\n",
       "      <th></th>\n",
       "      <th>id</th>\n",
       "      <th>teacher_id</th>\n",
       "      <th>teacher_prefix</th>\n",
       "      <th>school_state</th>\n",
       "      <th>project_submitted_datetime</th>\n",
       "      <th>project_grade_category</th>\n",
       "      <th>project_subject_categories</th>\n",
       "      <th>project_subject_subcategories</th>\n",
       "      <th>project_title</th>\n",
       "      <th>project_essay_1</th>\n",
       "      <th>project_essay_2</th>\n",
       "      <th>project_essay_3</th>\n",
       "      <th>project_essay_4</th>\n",
       "      <th>project_resource_summary</th>\n",
       "      <th>teacher_number_of_previously_posted_projects</th>\n",
       "      <th>project_is_approved</th>\n",
       "      <th>essay</th>\n",
       "      <th>price</th>\n",
       "      <th>quantity</th>\n",
       "      <th>std_price</th>\n",
       "      <th>nrm_price</th>\n",
       "      <th>presence_of_the_numerical_digits</th>\n",
       "    </tr>\n",
       "  </thead>\n",
       "  <tbody>\n",
       "    <tr>\n",
       "      <th>0</th>\n",
       "      <td>p253737</td>\n",
       "      <td>c90749f5d961ff158d4b4d1e7dc665fc</td>\n",
       "      <td>mrs</td>\n",
       "      <td>in</td>\n",
       "      <td>2016-12-05 13:43:57</td>\n",
       "      <td>grades_prek_2</td>\n",
       "      <td>literacy_language</td>\n",
       "      <td>esl_literacy</td>\n",
       "      <td>Educational Support for English Learners at Home</td>\n",
       "      <td>My students are English learners that are work...</td>\n",
       "      <td>\\\"The limits of your language are the limits o...</td>\n",
       "      <td>NaN</td>\n",
       "      <td>NaN</td>\n",
       "      <td>My students need opportunities to practice beg...</td>\n",
       "      <td>0</td>\n",
       "      <td>0</td>\n",
       "      <td>My students are English learners that are work...</td>\n",
       "      <td>154.6</td>\n",
       "      <td>23</td>\n",
       "      <td>-0.390533</td>\n",
       "      <td>0.015397</td>\n",
       "      <td>0</td>\n",
       "    </tr>\n",
       "    <tr>\n",
       "      <th>1</th>\n",
       "      <td>p258326</td>\n",
       "      <td>897464ce9ddc600bced1151f324dd63a</td>\n",
       "      <td>mr</td>\n",
       "      <td>fl</td>\n",
       "      <td>2016-10-25 09:22:10</td>\n",
       "      <td>grades_6_8</td>\n",
       "      <td>history_civics_health_sports</td>\n",
       "      <td>civics_government_teamsports</td>\n",
       "      <td>Wanted: Projector for Hungry Learners</td>\n",
       "      <td>Our students arrive to our school eager to lea...</td>\n",
       "      <td>The projector we need for our school is very c...</td>\n",
       "      <td>NaN</td>\n",
       "      <td>NaN</td>\n",
       "      <td>My students need a projector to help with view...</td>\n",
       "      <td>7</td>\n",
       "      <td>1</td>\n",
       "      <td>Our students arrive to our school eager to lea...</td>\n",
       "      <td>299.0</td>\n",
       "      <td>1</td>\n",
       "      <td>0.002396</td>\n",
       "      <td>0.029839</td>\n",
       "      <td>0</td>\n",
       "    </tr>\n",
       "  </tbody>\n",
       "</table>\n",
       "</div>"
      ],
      "text/plain": [
       "        id  ... presence_of_the_numerical_digits\n",
       "0  p253737  ...                                0\n",
       "1  p258326  ...                                0\n",
       "\n",
       "[2 rows x 22 columns]"
      ]
     },
     "execution_count": 9,
     "metadata": {
      "tags": []
     },
     "output_type": "execute_result"
    }
   ],
   "source": [
    "df.drop(['Unnamed: 0'],axis = 1,inplace = True)\n",
    "df.head(2)"
   ]
  },
  {
   "cell_type": "code",
   "execution_count": 0,
   "metadata": {
    "colab": {},
    "colab_type": "code",
    "id": "7_itoxAiShfW"
   },
   "outputs": [],
   "source": [
    "y=df['project_is_approved']"
   ]
  },
  {
   "cell_type": "code",
   "execution_count": 0,
   "metadata": {
    "colab": {},
    "colab_type": "code",
    "id": "cBbQA8omShfa"
   },
   "outputs": [],
   "source": [
    "df['total_text']=df['project_title']+' '+df['essay']+' '+df['project_resource_summary']"
   ]
  },
  {
   "cell_type": "code",
   "execution_count": 0,
   "metadata": {
    "colab": {},
    "colab_type": "code",
    "id": "ALvm_3eTShfp"
   },
   "outputs": [],
   "source": [
    "df=df[['total_text','school_state','project_grade_category','project_subject_categories','project_subject_subcategories','teacher_prefix','teacher_number_of_previously_posted_projects','presence_of_the_numerical_digits','price','quantity']]"
   ]
  },
  {
   "cell_type": "code",
   "execution_count": 13,
   "metadata": {
    "colab": {
     "base_uri": "https://localhost:8080/",
     "height": 267
    },
    "colab_type": "code",
    "id": "1chpdaxCShfu",
    "outputId": "d89d90cb-9364-4d75-ab4a-4607ce613250"
   },
   "outputs": [
    {
     "data": {
      "text/html": [
       "<div>\n",
       "<style scoped>\n",
       "    .dataframe tbody tr th:only-of-type {\n",
       "        vertical-align: middle;\n",
       "    }\n",
       "\n",
       "    .dataframe tbody tr th {\n",
       "        vertical-align: top;\n",
       "    }\n",
       "\n",
       "    .dataframe thead th {\n",
       "        text-align: right;\n",
       "    }\n",
       "</style>\n",
       "<table border=\"1\" class=\"dataframe\">\n",
       "  <thead>\n",
       "    <tr style=\"text-align: right;\">\n",
       "      <th></th>\n",
       "      <th>total_text</th>\n",
       "      <th>school_state</th>\n",
       "      <th>project_grade_category</th>\n",
       "      <th>project_subject_categories</th>\n",
       "      <th>project_subject_subcategories</th>\n",
       "      <th>teacher_prefix</th>\n",
       "      <th>teacher_number_of_previously_posted_projects</th>\n",
       "      <th>presence_of_the_numerical_digits</th>\n",
       "      <th>price</th>\n",
       "      <th>quantity</th>\n",
       "    </tr>\n",
       "  </thead>\n",
       "  <tbody>\n",
       "    <tr>\n",
       "      <th>0</th>\n",
       "      <td>Educational Support for English Learners at Ho...</td>\n",
       "      <td>in</td>\n",
       "      <td>grades_prek_2</td>\n",
       "      <td>literacy_language</td>\n",
       "      <td>esl_literacy</td>\n",
       "      <td>mrs</td>\n",
       "      <td>0</td>\n",
       "      <td>0</td>\n",
       "      <td>154.6</td>\n",
       "      <td>23</td>\n",
       "    </tr>\n",
       "    <tr>\n",
       "      <th>1</th>\n",
       "      <td>Wanted: Projector for Hungry Learners Our stud...</td>\n",
       "      <td>fl</td>\n",
       "      <td>grades_6_8</td>\n",
       "      <td>history_civics_health_sports</td>\n",
       "      <td>civics_government_teamsports</td>\n",
       "      <td>mr</td>\n",
       "      <td>7</td>\n",
       "      <td>0</td>\n",
       "      <td>299.0</td>\n",
       "      <td>1</td>\n",
       "    </tr>\n",
       "  </tbody>\n",
       "</table>\n",
       "</div>"
      ],
      "text/plain": [
       "                                          total_text  ... quantity\n",
       "0  Educational Support for English Learners at Ho...  ...       23\n",
       "1  Wanted: Projector for Hungry Learners Our stud...  ...        1\n",
       "\n",
       "[2 rows x 10 columns]"
      ]
     },
     "execution_count": 13,
     "metadata": {
      "tags": []
     },
     "output_type": "execute_result"
    }
   ],
   "source": [
    "df.head(2)"
   ]
  },
  {
   "cell_type": "code",
   "execution_count": 0,
   "metadata": {
    "colab": {},
    "colab_type": "code",
    "id": "qy6DggAnShfy"
   },
   "outputs": [],
   "source": [
    "X_train,X_test,y_train,y_test=train_test_split(df,y,stratify = y, test_size = 0.3)\n",
    "X_train,X_cv,y_train,y_cv=train_test_split(X_train,y_train,stratify = y_train, test_size = 0.2)"
   ]
  },
  {
   "cell_type": "code",
   "execution_count": null,
   "metadata": {},
   "outputs": [],
   "source": [
    "from keras.utils import to_categorical\n",
    "y_train=to_categorical(y_train)\n",
    "y_test=to_categorical(y_test)\n",
    "y_cv=to_categorical(y_cv)"
   ]
  },
  {
   "cell_type": "markdown",
   "metadata": {
    "colab_type": "text",
    "id": "TxoC0C-zShf2"
   },
   "source": [
    "## Total_text_feature"
   ]
  },
  {
   "cell_type": "code",
   "execution_count": 0,
   "metadata": {
    "colab": {},
    "colab_type": "code",
    "id": "OngkavO7Shf5"
   },
   "outputs": [],
   "source": [
    "total_text=X_train.total_text.values"
   ]
  },
  {
   "cell_type": "code",
   "execution_count": 0,
   "metadata": {
    "colab": {},
    "colab_type": "code",
    "id": "Yp7kF-N0Shf-"
   },
   "outputs": [],
   "source": [
    "#https://towardsdatascience.com/multi-class-text-classification-with-lstm-1590bee1bd17\n",
    "t = Tokenizer()\n",
    "t.fit_on_texts(total_text)"
   ]
  },
  {
   "cell_type": "code",
   "execution_count": 0,
   "metadata": {
    "colab": {},
    "colab_type": "code",
    "id": "6Kn6K9qLShgC"
   },
   "outputs": [],
   "source": [
    "len_input1 = len(t.word_index) + 1"
   ]
  },
  {
   "cell_type": "code",
   "execution_count": 18,
   "metadata": {
    "colab": {
     "base_uri": "https://localhost:8080/",
     "height": 34
    },
    "colab_type": "code",
    "id": "0zBUKAvdShgG",
    "outputId": "868f4c38-d0dd-4274-a115-a3b779342d64"
   },
   "outputs": [
    {
     "data": {
      "text/plain": [
       "57485"
      ]
     },
     "execution_count": 18,
     "metadata": {
      "tags": []
     },
     "output_type": "execute_result"
    }
   ],
   "source": [
    "len_input1\n"
   ]
  },
  {
   "cell_type": "code",
   "execution_count": 0,
   "metadata": {
    "colab": {},
    "colab_type": "code",
    "id": "f6pDgOPIShgY"
   },
   "outputs": [],
   "source": [
    "# Converting Textual Data to Numerical form so we can use this in Embedding Layer\n",
    "encoded_docs_train = t.texts_to_sequences(total_text)\n",
    "encoded_docs_train=np.array(encoded_docs_train)\n",
    "encoded_docs_train=pad_sequences(encoded_docs_train, maxlen=300, padding='post')"
   ]
  },
  {
   "cell_type": "code",
   "execution_count": 0,
   "metadata": {
    "colab": {},
    "colab_type": "code",
    "id": "QrnKNXAvShga"
   },
   "outputs": [],
   "source": [
    "encoded_docs_cv = t.texts_to_sequences(X_cv.total_text)\n",
    "encoded_docs_cv=np.array(encoded_docs_cv)\n",
    "encoded_docs_cv=pad_sequences(encoded_docs_cv, maxlen=300, padding='post')"
   ]
  },
  {
   "cell_type": "code",
   "execution_count": 0,
   "metadata": {
    "colab": {},
    "colab_type": "code",
    "id": "vh8nT8YxShgc"
   },
   "outputs": [],
   "source": [
    "encoded_docs_test = t.texts_to_sequences(X_test.total_text)\n",
    "encoded_docs_test=np.array(encoded_docs_test)\n",
    "encoded_docs_test=pad_sequences(encoded_docs_test, maxlen=300, padding='post')"
   ]
  },
  {
   "cell_type": "code",
   "execution_count": 0,
   "metadata": {
    "colab": {},
    "colab_type": "code",
    "id": "MtexUdgq1jEQ"
   },
   "outputs": [],
   "source": [
    "link = 'https://drive.google.com/open?id=1jyOxxCTqzM-eKXUc8qxGTZPgqkd-zUKC'\n",
    "fluff, id = link.split('=')"
   ]
  },
  {
   "cell_type": "code",
   "execution_count": 0,
   "metadata": {
    "colab": {},
    "colab_type": "code",
    "id": "tVe5c4fb1thM"
   },
   "outputs": [],
   "source": [
    "downloaded = drive.CreateFile({'id':id}) \n",
    "downloaded.GetContentFile('glove_vectors')  "
   ]
  },
  {
   "cell_type": "code",
   "execution_count": 0,
   "metadata": {
    "colab": {},
    "colab_type": "code",
    "id": "QnL2rAvPShge"
   },
   "outputs": [],
   "source": [
    "# Using Pretrained Glove Embedding Model\n",
    "import pickle\n",
    "glove = open('glove_vectors', 'rb')      \n",
    "glove = pickle.load(glove)"
   ]
  },
  {
   "cell_type": "code",
   "execution_count": 0,
   "metadata": {
    "colab": {},
    "colab_type": "code",
    "id": "J8XP_pZNShgg"
   },
   "outputs": [],
   "source": [
    "embedding_matrix = np.zeros((len_input1, 300))\n",
    "for word, i in t.word_index.items():\n",
    "    embedding_vector = glove.get(word)\n",
    "    if embedding_vector is not None:\n",
    "        embedding_matrix[i] = embedding_vector"
   ]
  },
  {
   "cell_type": "code",
   "execution_count": 26,
   "metadata": {
    "colab": {
     "base_uri": "https://localhost:8080/",
     "height": 34
    },
    "colab_type": "code",
    "id": "ZcpmAmum4AnP",
    "outputId": "8dc43e63-fe43-4538-d5b0-515fa2c03a38"
   },
   "outputs": [
    {
     "data": {
      "text/plain": [
       "(57485, 300)"
      ]
     },
     "execution_count": 26,
     "metadata": {
      "tags": []
     },
     "output_type": "execute_result"
    }
   ],
   "source": [
    "embedding_matrix.shape"
   ]
  },
  {
   "cell_type": "markdown",
   "metadata": {
    "colab_type": "text",
    "id": "Mj_Y2IQSShgm"
   },
   "source": [
    "# Combining All other features "
   ]
  },
  {
   "cell_type": "markdown",
   "metadata": {
    "colab_type": "text",
    "id": "07-vwRRtShgo"
   },
   "source": [
    "## School State Feature"
   ]
  },
  {
   "cell_type": "code",
   "execution_count": 0,
   "metadata": {
    "colab": {},
    "colab_type": "code",
    "id": "I1SFg0UFShgp"
   },
   "outputs": [],
   "source": [
    "from sklearn.feature_extraction.text import CountVectorizer"
   ]
  },
  {
   "cell_type": "code",
   "execution_count": 0,
   "metadata": {
    "colab": {},
    "colab_type": "code",
    "id": "caVfLETOShgz"
   },
   "outputs": [],
   "source": [
    "cv=CountVectorizer()\n",
    "ss_train=cv.fit_transform(X_train.school_state.values)\n",
    "ss_cv=cv.transform(X_cv.school_state)\n",
    "ss_test=cv.transform(X_test.school_state)"
   ]
  },
  {
   "cell_type": "code",
   "execution_count": 30,
   "metadata": {
    "colab": {
     "base_uri": "https://localhost:8080/",
     "height": 34
    },
    "colab_type": "code",
    "id": "703O5QBwShhM",
    "outputId": "39c72acf-cf24-45ee-814c-d885c58b48be"
   },
   "outputs": [
    {
     "data": {
      "text/plain": [
       "(61178, 51)"
      ]
     },
     "execution_count": 30,
     "metadata": {
      "tags": []
     },
     "output_type": "execute_result"
    }
   ],
   "source": [
    "ss_train.shape"
   ]
  },
  {
   "cell_type": "markdown",
   "metadata": {
    "colab_type": "text",
    "id": "5790lv8-Shht"
   },
   "source": [
    "## Project Grade Category Feature"
   ]
  },
  {
   "cell_type": "code",
   "execution_count": 0,
   "metadata": {
    "colab": {},
    "colab_type": "code",
    "id": "ob17jaScShhu"
   },
   "outputs": [],
   "source": [
    "cv=CountVectorizer()\n",
    "pgc_train=cv.fit_transform(X_train.project_grade_category.values)\n",
    "pgc_cv=cv.transform(X_cv.project_grade_category)\n",
    "pgc_test=cv.transform(X_test.project_grade_category)"
   ]
  },
  {
   "cell_type": "code",
   "execution_count": 32,
   "metadata": {
    "colab": {
     "base_uri": "https://localhost:8080/",
     "height": 34
    },
    "colab_type": "code",
    "id": "ecfvaNXmShh7",
    "outputId": "34d8fea7-1267-499f-9a23-8c765e9fea19"
   },
   "outputs": [
    {
     "data": {
      "text/plain": [
       "(61178, 4)"
      ]
     },
     "execution_count": 32,
     "metadata": {
      "tags": []
     },
     "output_type": "execute_result"
    }
   ],
   "source": [
    "pgc_train.shape"
   ]
  },
  {
   "cell_type": "markdown",
   "metadata": {
    "colab_type": "text",
    "id": "rgUdEWMeShiA"
   },
   "source": [
    "## Project Subject Category Feature"
   ]
  },
  {
   "cell_type": "code",
   "execution_count": 0,
   "metadata": {
    "colab": {},
    "colab_type": "code",
    "id": "Pf-BvYKAShiB"
   },
   "outputs": [],
   "source": [
    "cv=CountVectorizer()\n",
    "psc_train=cv.fit_transform(X_train.project_subject_categories.values)\n",
    "psc_cv=cv.transform(X_cv.project_subject_categories)\n",
    "psc_test=cv.transform(X_test.project_subject_categories)"
   ]
  },
  {
   "cell_type": "code",
   "execution_count": 34,
   "metadata": {
    "colab": {
     "base_uri": "https://localhost:8080/",
     "height": 34
    },
    "colab_type": "code",
    "id": "Tuj27MceShiE",
    "outputId": "dc90136d-ec20-45b8-b6c6-b1406dde90f7"
   },
   "outputs": [
    {
     "data": {
      "text/plain": [
       "(61178, 51)"
      ]
     },
     "execution_count": 34,
     "metadata": {
      "tags": []
     },
     "output_type": "execute_result"
    }
   ],
   "source": [
    "psc_train.shape"
   ]
  },
  {
   "cell_type": "markdown",
   "metadata": {
    "colab_type": "text",
    "id": "jlXnx2rHShiI"
   },
   "source": [
    "## Project Subject SubCategory Feature"
   ]
  },
  {
   "cell_type": "code",
   "execution_count": 0,
   "metadata": {
    "colab": {},
    "colab_type": "code",
    "id": "yjNf5frWShiJ"
   },
   "outputs": [],
   "source": [
    "cv=CountVectorizer()\n",
    "pssc_train=cv.fit_transform(X_train.project_subject_subcategories.values)\n",
    "pssc_cv=cv.transform(X_cv.project_subject_subcategories)\n",
    "pssc_test=cv.transform(X_test.project_subject_subcategories)"
   ]
  },
  {
   "cell_type": "code",
   "execution_count": 36,
   "metadata": {
    "colab": {
     "base_uri": "https://localhost:8080/",
     "height": 34
    },
    "colab_type": "code",
    "id": "n8JQBnZpShiL",
    "outputId": "cd8c265f-1d15-41c0-8c8e-254606849e89"
   },
   "outputs": [
    {
     "data": {
      "text/plain": [
       "(61178, 387)"
      ]
     },
     "execution_count": 36,
     "metadata": {
      "tags": []
     },
     "output_type": "execute_result"
    }
   ],
   "source": [
    "pssc_train.shape"
   ]
  },
  {
   "cell_type": "markdown",
   "metadata": {
    "colab_type": "text",
    "id": "FH-ZzExOShiN"
   },
   "source": [
    "## Teacher_prefix Feature"
   ]
  },
  {
   "cell_type": "code",
   "execution_count": 0,
   "metadata": {
    "colab": {},
    "colab_type": "code",
    "id": "lm-5HzrqShiO"
   },
   "outputs": [],
   "source": [
    "cv=CountVectorizer()\n",
    "tp_train=cv.fit_transform(X_train.teacher_prefix.values)\n",
    "tp_cv=cv.transform(X_cv.teacher_prefix)\n",
    "tp_test=cv.transform(X_test.teacher_prefix)"
   ]
  },
  {
   "cell_type": "code",
   "execution_count": 38,
   "metadata": {
    "colab": {
     "base_uri": "https://localhost:8080/",
     "height": 34
    },
    "colab_type": "code",
    "id": "RsDmSsZZShiP",
    "outputId": "8ee7768f-3d51-43cc-8c5c-60f7e5d97183"
   },
   "outputs": [
    {
     "data": {
      "text/plain": [
       "(61178, 5)"
      ]
     },
     "execution_count": 38,
     "metadata": {
      "tags": []
     },
     "output_type": "execute_result"
    }
   ],
   "source": [
    "tp_train.shape"
   ]
  },
  {
   "cell_type": "code",
   "execution_count": 39,
   "metadata": {
    "colab": {
     "base_uri": "https://localhost:8080/",
     "height": 267
    },
    "colab_type": "code",
    "id": "dDF1-wCMShiT",
    "outputId": "0fdf3417-cb23-4fe9-cc1c-00d444784008"
   },
   "outputs": [
    {
     "data": {
      "text/html": [
       "<div>\n",
       "<style scoped>\n",
       "    .dataframe tbody tr th:only-of-type {\n",
       "        vertical-align: middle;\n",
       "    }\n",
       "\n",
       "    .dataframe tbody tr th {\n",
       "        vertical-align: top;\n",
       "    }\n",
       "\n",
       "    .dataframe thead th {\n",
       "        text-align: right;\n",
       "    }\n",
       "</style>\n",
       "<table border=\"1\" class=\"dataframe\">\n",
       "  <thead>\n",
       "    <tr style=\"text-align: right;\">\n",
       "      <th></th>\n",
       "      <th>total_text</th>\n",
       "      <th>school_state</th>\n",
       "      <th>project_grade_category</th>\n",
       "      <th>project_subject_categories</th>\n",
       "      <th>project_subject_subcategories</th>\n",
       "      <th>teacher_prefix</th>\n",
       "      <th>teacher_number_of_previously_posted_projects</th>\n",
       "      <th>presence_of_the_numerical_digits</th>\n",
       "      <th>price</th>\n",
       "      <th>quantity</th>\n",
       "    </tr>\n",
       "  </thead>\n",
       "  <tbody>\n",
       "    <tr>\n",
       "      <th>0</th>\n",
       "      <td>Educational Support for English Learners at Ho...</td>\n",
       "      <td>in</td>\n",
       "      <td>grades_prek_2</td>\n",
       "      <td>literacy_language</td>\n",
       "      <td>esl_literacy</td>\n",
       "      <td>mrs</td>\n",
       "      <td>0</td>\n",
       "      <td>0</td>\n",
       "      <td>154.6</td>\n",
       "      <td>23</td>\n",
       "    </tr>\n",
       "    <tr>\n",
       "      <th>1</th>\n",
       "      <td>Wanted: Projector for Hungry Learners Our stud...</td>\n",
       "      <td>fl</td>\n",
       "      <td>grades_6_8</td>\n",
       "      <td>history_civics_health_sports</td>\n",
       "      <td>civics_government_teamsports</td>\n",
       "      <td>mr</td>\n",
       "      <td>7</td>\n",
       "      <td>0</td>\n",
       "      <td>299.0</td>\n",
       "      <td>1</td>\n",
       "    </tr>\n",
       "  </tbody>\n",
       "</table>\n",
       "</div>"
      ],
      "text/plain": [
       "                                          total_text  ... quantity\n",
       "0  Educational Support for English Learners at Ho...  ...       23\n",
       "1  Wanted: Projector for Hungry Learners Our stud...  ...        1\n",
       "\n",
       "[2 rows x 10 columns]"
      ]
     },
     "execution_count": 39,
     "metadata": {
      "tags": []
     },
     "output_type": "execute_result"
    }
   ],
   "source": [
    "df.head(2)"
   ]
  },
  {
   "cell_type": "markdown",
   "metadata": {
    "colab_type": "text",
    "id": "hLOBOCdoShiV"
   },
   "source": [
    "## Numerical Features"
   ]
  },
  {
   "cell_type": "code",
   "execution_count": 0,
   "metadata": {
    "colab": {},
    "colab_type": "code",
    "id": "W-pt1EOWShiW"
   },
   "outputs": [],
   "source": [
    "X_train_numeric=[]\n",
    "for i in range(X_train.shape[0]):\n",
    "    vec=[]\n",
    "    vec.append(X_train.iloc[i,6])\n",
    "    vec.append(X_train.iloc[i,7])\n",
    "    vec.append(X_train.iloc[i,8])\n",
    "    vec.append(X_train.iloc[i,9])\n",
    "    X_train_numeric.append(vec)\n",
    "X_train_numeric=np.array(X_train_numeric)    "
   ]
  },
  {
   "cell_type": "code",
   "execution_count": 41,
   "metadata": {
    "colab": {
     "base_uri": "https://localhost:8080/",
     "height": 34
    },
    "colab_type": "code",
    "id": "LINMFRRkShiZ",
    "outputId": "36088c88-b260-4003-b0aa-9985eec0187f"
   },
   "outputs": [
    {
     "data": {
      "text/plain": [
       "(61178, 4)"
      ]
     },
     "execution_count": 41,
     "metadata": {
      "tags": []
     },
     "output_type": "execute_result"
    }
   ],
   "source": [
    "X_train_numeric.shape"
   ]
  },
  {
   "cell_type": "code",
   "execution_count": 0,
   "metadata": {
    "colab": {},
    "colab_type": "code",
    "id": "Gi0x_SCwShib"
   },
   "outputs": [],
   "source": [
    "X_cv_numeric=[]\n",
    "for i in range(X_cv.shape[0]):\n",
    "    vec=[]\n",
    "    vec.append(X_cv.iloc[i,6])\n",
    "    vec.append(X_cv.iloc[i,7])\n",
    "    vec.append(X_cv.iloc[i,8])\n",
    "    vec.append(X_cv.iloc[i,9])\n",
    "    X_cv_numeric.append(vec)\n",
    "    \n",
    "X_cv_numeric=np.array(X_cv_numeric)"
   ]
  },
  {
   "cell_type": "code",
   "execution_count": 0,
   "metadata": {
    "colab": {},
    "colab_type": "code",
    "id": "jGBS5XQXShid"
   },
   "outputs": [],
   "source": [
    "X_test_numeric=[]\n",
    "for i in range(X_test.shape[0]):\n",
    "    vec=[]\n",
    "    vec.append(X_test.iloc[i,6])\n",
    "    vec.append(X_test.iloc[i,7])\n",
    "    vec.append(X_test.iloc[i,8])\n",
    "    vec.append(X_test.iloc[i,9])\n",
    "    X_test_numeric.append(vec)\n",
    "X_test_numeric=np.array(X_test_numeric)"
   ]
  },
  {
   "cell_type": "code",
   "execution_count": 0,
   "metadata": {
    "colab": {},
    "colab_type": "code",
    "id": "vwZy0Wh7Shif"
   },
   "outputs": [],
   "source": [
    "from scipy.sparse import hstack"
   ]
  },
  {
   "cell_type": "code",
   "execution_count": 0,
   "metadata": {
    "colab": {},
    "colab_type": "code",
    "id": "NBt43Gt5Shih"
   },
   "outputs": [],
   "source": [
    "cnn_train=hstack((ss_train,pgc_train,psc_train,pssc_train,tp_train,X_train_numeric))"
   ]
  },
  {
   "cell_type": "code",
   "execution_count": 46,
   "metadata": {
    "colab": {
     "base_uri": "https://localhost:8080/",
     "height": 34
    },
    "colab_type": "code",
    "id": "Mv_K8kEMShik",
    "outputId": "862d8efe-c369-4a96-f6ad-3e3d695e4d2d"
   },
   "outputs": [
    {
     "data": {
      "text/plain": [
       "(61178, 502)"
      ]
     },
     "execution_count": 46,
     "metadata": {
      "tags": []
     },
     "output_type": "execute_result"
    }
   ],
   "source": [
    "cnn_train.shape"
   ]
  },
  {
   "cell_type": "code",
   "execution_count": 47,
   "metadata": {
    "colab": {
     "base_uri": "https://localhost:8080/",
     "height": 34
    },
    "colab_type": "code",
    "id": "HaXkd4aLShim",
    "outputId": "4d028bb6-2fc5-413c-91e0-e2f6c44b887d"
   },
   "outputs": [
    {
     "data": {
      "text/plain": [
       "(15295, 502)"
      ]
     },
     "execution_count": 47,
     "metadata": {
      "tags": []
     },
     "output_type": "execute_result"
    }
   ],
   "source": [
    "cnn_cv=hstack((ss_cv,pgc_cv,psc_cv,pssc_cv,tp_cv,X_cv_numeric))\n",
    "cnn_cv.shape"
   ]
  },
  {
   "cell_type": "code",
   "execution_count": 48,
   "metadata": {
    "colab": {
     "base_uri": "https://localhost:8080/",
     "height": 34
    },
    "colab_type": "code",
    "id": "RCf1vJLJShis",
    "outputId": "719ae8b6-4896-4831-8f8d-258240dd5eb3"
   },
   "outputs": [
    {
     "data": {
      "text/plain": [
       "(32775, 502)"
      ]
     },
     "execution_count": 48,
     "metadata": {
      "tags": []
     },
     "output_type": "execute_result"
    }
   ],
   "source": [
    "cnn_test=hstack((ss_test,pgc_test,psc_test,pssc_test,tp_test,X_test_numeric))\n",
    "cnn_test.shape"
   ]
  },
  {
   "cell_type": "code",
   "execution_count": 49,
   "metadata": {
    "colab": {
     "base_uri": "https://localhost:8080/",
     "height": 34
    },
    "colab_type": "code",
    "id": "e7_SL2Wj2TQh",
    "outputId": "13b4de8c-e2cf-4105-906b-d894e29719c9"
   },
   "outputs": [
    {
     "name": "stdout",
     "output_type": "stream",
     "text": [
      "502\n"
     ]
    }
   ],
   "source": [
    "len_input2=cnn_train.shape[1]\n",
    "print(len_input2)"
   ]
  },
  {
   "cell_type": "code",
   "execution_count": 0,
   "metadata": {
    "colab": {},
    "colab_type": "code",
    "id": "qpULphMbShiu"
   },
   "outputs": [],
   "source": [
    "cnn_train=cnn_train.todense()\n",
    "cnn_cv=cnn_cv.todense()\n",
    "cnn_test=cnn_test.todense()\n"
   ]
  },
  {
   "cell_type": "code",
   "execution_count": 0,
   "metadata": {
    "colab": {},
    "colab_type": "code",
    "id": "eRUCYr7RShix"
   },
   "outputs": [],
   "source": [
    "# As we are using Conv1D so resizing the data\n",
    "cnn_train=np.resize(cnn_train,new_shape=(61178,len_input2,1))\n",
    "cnn_cv=np.resize(cnn_cv,new_shape=(15295,len_input2,1))\n",
    "cnn_test=np.resize(cnn_test,new_shape=(32775,len_input2,1))"
   ]
  },
  {
   "cell_type": "code",
   "execution_count": 52,
   "metadata": {
    "colab": {
     "base_uri": "https://localhost:8080/",
     "height": 34
    },
    "colab_type": "code",
    "id": "zUxewtm5Shi2",
    "outputId": "a4d89a34-93e9-4472-c91a-8501be9725aa"
   },
   "outputs": [
    {
     "data": {
      "text/plain": [
       "(61178, 502, 1)"
      ]
     },
     "execution_count": 52,
     "metadata": {
      "tags": []
     },
     "output_type": "execute_result"
    }
   ],
   "source": [
    "cnn_train.shape"
   ]
  },
  {
   "cell_type": "markdown",
   "metadata": {
    "colab_type": "text",
    "id": "KQ8nag9UShjF"
   },
   "source": [
    "##  Model"
   ]
  },
  {
   "cell_type": "code",
   "execution_count": 0,
   "metadata": {
    "colab": {},
    "colab_type": "code",
    "id": "I7JG_VhmShjR"
   },
   "outputs": [],
   "source": [
    "import tensorflow as tf\n",
    "from sklearn.metrics import roc_auc_score\n",
    "\n",
    "def auroc(y_true,y_pred):\n",
    "    return tf.py_func(roc_auc_score,(y_true,y_pred),tf.double)"
   ]
  },
  {
   "cell_type": "code",
   "execution_count": 59,
   "metadata": {
    "colab": {
     "base_uri": "https://localhost:8080/",
     "height": 85
    },
    "colab_type": "code",
    "id": "2iGBibkAFQ3J",
    "outputId": "e73d7fec-c136-46d0-8821-d4f9e613b37a"
   },
   "outputs": [
    {
     "name": "stdout",
     "output_type": "stream",
     "text": [
      "Requirement already satisfied: tensorboardcolab in /usr/local/lib/python3.6/dist-packages (0.0.22)\n",
      "Wait for 8 seconds...\n",
      "TensorBoard link:\n",
      "https://7c1bd53c.ngrok.io\n"
     ]
    }
   ],
   "source": [
    "!pip install tensorboardcolab\n",
    "from tensorboardcolab import TensorBoardColab, TensorBoardColabCallback\n",
    "\n",
    "tbc=TensorBoardColab()"
   ]
  },
  {
   "cell_type": "code",
   "execution_count": 60,
   "metadata": {
    "colab": {
     "base_uri": "https://localhost:8080/",
     "height": 799
    },
    "colab_type": "code",
    "id": "dsFDXdajShj6",
    "outputId": "1db5f235-bd89-4375-b87e-eb7cd14779aa"
   },
   "outputs": [
    {
     "name": "stdout",
     "output_type": "stream",
     "text": [
      "Model: \"model_3\"\n",
      "__________________________________________________________________________________________________\n",
      "Layer (type)                    Output Shape         Param #     Connected to                     \n",
      "==================================================================================================\n",
      "input_5 (InputLayer)            (None, 300)          0                                            \n",
      "__________________________________________________________________________________________________\n",
      "embedding_3 (Embedding)         (None, 300, 300)     17245500    input_5[0][0]                    \n",
      "__________________________________________________________________________________________________\n",
      "input_6 (InputLayer)            (None, 502, 1)       0                                            \n",
      "__________________________________________________________________________________________________\n",
      "spatial_dropout1d_3 (SpatialDro (None, 300, 300)     0           embedding_3[0][0]                \n",
      "__________________________________________________________________________________________________\n",
      "conv1d_5 (Conv1D)               (None, 500, 64)      256         input_6[0][0]                    \n",
      "__________________________________________________________________________________________________\n",
      "lstm_3 (LSTM)                   (None, 300, 256)     570368      spatial_dropout1d_3[0][0]        \n",
      "__________________________________________________________________________________________________\n",
      "conv1d_6 (Conv1D)               (None, 498, 64)      12352       conv1d_5[0][0]                   \n",
      "__________________________________________________________________________________________________\n",
      "flatten_5 (Flatten)             (None, 76800)        0           lstm_3[0][0]                     \n",
      "__________________________________________________________________________________________________\n",
      "flatten_6 (Flatten)             (None, 31872)        0           conv1d_6[0][0]                   \n",
      "__________________________________________________________________________________________________\n",
      "concatenate_3 (Concatenate)     (None, 108672)       0           flatten_5[0][0]                  \n",
      "                                                                 flatten_6[0][0]                  \n",
      "__________________________________________________________________________________________________\n",
      "dense_9 (Dense)                 (None, 300)          32601900    concatenate_3[0][0]              \n",
      "__________________________________________________________________________________________________\n",
      "dropout_7 (Dropout)             (None, 300)          0           dense_9[0][0]                    \n",
      "__________________________________________________________________________________________________\n",
      "dense_10 (Dense)                (None, 250)          75250       dropout_7[0][0]                  \n",
      "__________________________________________________________________________________________________\n",
      "dropout_8 (Dropout)             (None, 250)          0           dense_10[0][0]                   \n",
      "__________________________________________________________________________________________________\n",
      "batch_normalization_3 (BatchNor (None, 250)          1000        dropout_8[0][0]                  \n",
      "__________________________________________________________________________________________________\n",
      "dense_11 (Dense)                (None, 100)          25100       batch_normalization_3[0][0]      \n",
      "__________________________________________________________________________________________________\n",
      "dropout_9 (Dropout)             (None, 100)          0           dense_11[0][0]                   \n",
      "__________________________________________________________________________________________________\n",
      "dense_12 (Dense)                (None, 2)            202         dropout_9[0][0]                  \n",
      "==================================================================================================\n",
      "Total params: 50,531,928\n",
      "Trainable params: 33,285,928\n",
      "Non-trainable params: 17,246,000\n",
      "__________________________________________________________________________________________________\n",
      "None\n"
     ]
    }
   ],
   "source": [
    "from keras.layers import Conv1D,SpatialDropout1D\n",
    "from keras.callbacks import TensorBoard\n",
    "\n",
    "\n",
    "input1=Input(shape=(300,))\n",
    "x1=Embedding(len_input1, 300, weights=[embedding_matrix], trainable=False)(input1)\n",
    "x1=SpatialDropout1D(0.3)(x1) \n",
    "x1=LSTM(256,return_sequences=True)(x1)\n",
    "x1=Flatten()(x1)\n",
    "\n",
    "input2=Input(shape=(len_input2,1))\n",
    "x2=Conv1D(filters=64,kernel_size=3,strides=1)(input2)\n",
    "x2=Conv1D(filters=64,kernel_size=3,strides=1)(x2)\n",
    "x2=Flatten()(x2)\n",
    "\n",
    "concat=concatenate([x1,x2])\n",
    "x=Dense(300,activation='relu',kernel_initializer='he_normal',kernel_regularizer=l2(0.0001))(concat)\n",
    "x=Dropout(0.35)(x)\n",
    "x=Dense(250,activation='relu',kernel_initializer='he_normal',kernel_regularizer=l2(0.0001))(x)\n",
    "x=Dropout(0.45)(x)\n",
    "x=BatchNormalization()(x)\n",
    "x=Dense(100,activation='relu',kernel_initializer='he_normal',kernel_regularizer=l2(0.0001))(x)\n",
    "x=Dropout(0.5)(x)\n",
    "output = Dense(2, activation = 'softmax')(x)\n",
    " \n",
    "model=Model([input1,input2], output)\n",
    "\n",
    "tensorboard=TensorBoard(log_dir=\"logs\")\n",
    "\n",
    "model.compile(loss='categorical_crossentropy', optimizer='adam', metrics=[auroc])\n",
    "\n",
    "print(model.summary())\n",
    "\n",
    "\n"
   ]
  },
  {
   "cell_type": "code",
   "execution_count": 61,
   "metadata": {
    "colab": {
     "base_uri": "https://localhost:8080/",
     "height": 1000
    },
    "colab_type": "code",
    "id": "f8mi4DUPShj-",
    "outputId": "76afd629-d859-4394-c9f4-1c70b50be897"
   },
   "outputs": [
    {
     "name": "stdout",
     "output_type": "stream",
     "text": [
      "Train on 61178 samples, validate on 15295 samples\n",
      "Epoch 1/30\n",
      "61178/61178 [==============================] - 192s 3ms/step - loss: 0.7093 - auroc: 0.5304 - val_loss: 0.5693 - val_auroc: 0.5926\n",
      "Epoch 2/30\n",
      "61178/61178 [==============================] - 191s 3ms/step - loss: 0.5412 - auroc: 0.5556 - val_loss: 0.5137 - val_auroc: 0.6023\n",
      "Epoch 3/30\n",
      "61178/61178 [==============================] - 194s 3ms/step - loss: 0.5012 - auroc: 0.5760 - val_loss: 0.4976 - val_auroc: 0.5962\n",
      "Epoch 4/30\n",
      "61178/61178 [==============================] - 190s 3ms/step - loss: 0.4868 - auroc: 0.5731 - val_loss: 0.4888 - val_auroc: 0.6045\n",
      "Epoch 5/30\n",
      "61178/61178 [==============================] - 193s 3ms/step - loss: 0.4779 - auroc: 0.5808 - val_loss: 0.4917 - val_auroc: 0.5973\n",
      "Epoch 6/30\n",
      "61178/61178 [==============================] - 191s 3ms/step - loss: 0.4780 - auroc: 0.5768 - val_loss: 0.4697 - val_auroc: 0.5963\n",
      "Epoch 7/30\n",
      "61178/61178 [==============================] - 191s 3ms/step - loss: 0.4665 - auroc: 0.5850 - val_loss: 0.4610 - val_auroc: 0.5977\n",
      "Epoch 8/30\n",
      "61178/61178 [==============================] - 189s 3ms/step - loss: 0.4557 - auroc: 0.6041 - val_loss: 0.4480 - val_auroc: 0.6588\n",
      "Epoch 9/30\n",
      "61178/61178 [==============================] - 190s 3ms/step - loss: 0.4444 - auroc: 0.6695 - val_loss: 0.4296 - val_auroc: 0.7225\n",
      "Epoch 10/30\n",
      "61178/61178 [==============================] - 191s 3ms/step - loss: 0.4288 - auroc: 0.6967 - val_loss: 0.4172 - val_auroc: 0.7293\n",
      "Epoch 11/30\n",
      "61178/61178 [==============================] - 190s 3ms/step - loss: 0.4186 - auroc: 0.7182 - val_loss: 0.4178 - val_auroc: 0.7355\n",
      "Epoch 12/30\n",
      "61178/61178 [==============================] - 190s 3ms/step - loss: 0.4175 - auroc: 0.7223 - val_loss: 0.4061 - val_auroc: 0.7406\n",
      "Epoch 13/30\n",
      "61178/61178 [==============================] - 190s 3ms/step - loss: 0.4079 - auroc: 0.7321 - val_loss: 0.3998 - val_auroc: 0.7522\n",
      "Epoch 14/30\n",
      "61178/61178 [==============================] - 189s 3ms/step - loss: 0.4041 - auroc: 0.7392 - val_loss: 0.4160 - val_auroc: 0.7454\n",
      "Epoch 15/30\n",
      "61178/61178 [==============================] - 190s 3ms/step - loss: 0.4010 - auroc: 0.7419 - val_loss: 0.3937 - val_auroc: 0.7588\n",
      "Epoch 16/30\n",
      "61178/61178 [==============================] - 191s 3ms/step - loss: 0.3992 - auroc: 0.7479 - val_loss: 0.4093 - val_auroc: 0.7605\n",
      "Epoch 17/30\n",
      "61178/61178 [==============================] - 190s 3ms/step - loss: 0.3942 - auroc: 0.7581 - val_loss: 0.3949 - val_auroc: 0.7621\n",
      "Epoch 18/30\n",
      "61178/61178 [==============================] - 189s 3ms/step - loss: 0.4209 - auroc: 0.6845 - val_loss: 0.4338 - val_auroc: 0.6383\n",
      "Epoch 19/30\n",
      "61178/61178 [==============================] - 189s 3ms/step - loss: 0.4159 - auroc: 0.6998 - val_loss: 0.4009 - val_auroc: 0.7471\n",
      "Epoch 20/30\n",
      "61178/61178 [==============================] - 190s 3ms/step - loss: 0.3938 - auroc: 0.7539 - val_loss: 0.4091 - val_auroc: 0.7452\n",
      "Epoch 21/30\n",
      "61178/61178 [==============================] - 191s 3ms/step - loss: 0.3901 - auroc: 0.7613 - val_loss: 0.3870 - val_auroc: 0.7642\n",
      "Epoch 22/30\n",
      "61178/61178 [==============================] - 191s 3ms/step - loss: 0.3844 - auroc: 0.7697 - val_loss: 0.3892 - val_auroc: 0.7657\n",
      "Epoch 23/30\n",
      "61178/61178 [==============================] - 191s 3ms/step - loss: 0.3815 - auroc: 0.7762 - val_loss: 0.3913 - val_auroc: 0.7627\n",
      "Epoch 24/30\n",
      "61178/61178 [==============================] - 191s 3ms/step - loss: 0.3810 - auroc: 0.7759 - val_loss: 0.3881 - val_auroc: 0.7656\n",
      "Epoch 25/30\n",
      "61178/61178 [==============================] - 191s 3ms/step - loss: 0.3780 - auroc: 0.7777 - val_loss: 0.3890 - val_auroc: 0.7655\n",
      "Epoch 26/30\n",
      "61178/61178 [==============================] - 191s 3ms/step - loss: 0.3752 - auroc: 0.7809 - val_loss: 0.3863 - val_auroc: 0.7648\n",
      "Epoch 27/30\n",
      "61178/61178 [==============================] - 191s 3ms/step - loss: 0.3740 - auroc: 0.7843 - val_loss: 0.3859 - val_auroc: 0.7683\n",
      "Epoch 28/30\n",
      "61178/61178 [==============================] - 191s 3ms/step - loss: 0.3729 - auroc: 0.7877 - val_loss: 0.3905 - val_auroc: 0.7661\n",
      "Epoch 29/30\n",
      "61178/61178 [==============================] - 191s 3ms/step - loss: 0.3692 - auroc: 0.7910 - val_loss: 0.3835 - val_auroc: 0.7653\n",
      "Epoch 30/30\n",
      "61178/61178 [==============================] - 191s 3ms/step - loss: 0.3739 - auroc: 0.7928 - val_loss: 0.3940 - val_auroc: 0.7661\n"
     ]
    },
    {
     "data": {
      "text/plain": [
       "<keras.callbacks.History at 0x7fc39f24df60>"
      ]
     },
     "execution_count": 61,
     "metadata": {
      "tags": []
     },
     "output_type": "execute_result"
    }
   ],
   "source": [
    "#keras.backend.get_session().run(tf.global_variables_initializer())\n",
    "model.fit([encoded_docs_train,cnn_train], y_train, epochs=30,verbose=1,batch_size=256,class_weight='balanced',\n",
    "          validation_data=([encoded_docs_cv,cnn_cv]  , y_cv),callbacks=[TensorBoardColabCallback(tbc)] )"
   ]
  },
  {
   "cell_type": "code",
   "execution_count": 0,
   "metadata": {
    "colab": {},
    "colab_type": "code",
    "id": "V37-rYCDShkC"
   },
   "outputs": [],
   "source": [
    "pred=model.predict([encoded_docs_test,cnn_test])"
   ]
  },
  {
   "cell_type": "code",
   "execution_count": 63,
   "metadata": {
    "colab": {
     "base_uri": "https://localhost:8080/",
     "height": 34
    },
    "colab_type": "code",
    "id": "Nh1mdsQwShkD",
    "outputId": "cb2722b3-5f20-4a5e-fb20-a2551ce6393c"
   },
   "outputs": [
    {
     "data": {
      "text/plain": [
       "0.7711299992734963"
      ]
     },
     "execution_count": 63,
     "metadata": {
      "tags": []
     },
     "output_type": "execute_result"
    }
   ],
   "source": [
    "roc_auc_score(y_test,pred)"
   ]
  },
  {
   "cell_type": "markdown",
   "metadata": {},
   "source": [
    "### Loss with Epochs[Training:Orange, Validation:Blue]"
   ]
  },
  {
   "cell_type": "code",
   "execution_count": 4,
   "metadata": {},
   "outputs": [
    {
     "data": {
      "image/png": "[encoded data removed]",
      "text/plain": [
       "<IPython.core.display.Image object>"
      ]
     },
     "execution_count": 4,
     "metadata": {},
     "output_type": "execute_result"
    }
   ],
   "source": [
    "from IPython.display import Image\n",
    "Image(filename='model3_loss.png')"
   ]
  },
  {
   "cell_type": "markdown",
   "metadata": {},
   "source": [
    "#### As we can see training and validation loss are very close so there is no overfitting and our model is fine"
   ]
  },
  {
   "cell_type": "markdown",
   "metadata": {},
   "source": [
    "### AUC with Epochs[Training:Orange, Validation:Blue]"
   ]
  },
  {
   "cell_type": "code",
   "execution_count": 5,
   "metadata": {},
   "outputs": [
    {
     "data": {
      "image/png": "[encoded data removed]",
      "text/plain": [
       "<IPython.core.display.Image object>"
      ]
     },
     "execution_count": 5,
     "metadata": {},
     "output_type": "execute_result"
    }
   ],
   "source": [
    "from IPython.display import Image\n",
    "Image(filename='model3_auc.png')"
   ]
  },
  {
   "cell_type": "markdown",
   "metadata": {},
   "source": [
    "# Conclusion"
   ]
  },
  {
   "cell_type": "markdown",
   "metadata": {},
   "source": [
    "* In this model we created two inputs, First Input will take the total Textual features like project title, Essay, Project Resource Summary and the second input will take the all other remaining features\n",
    "* First Input will be passed to a LSTM Layer \n",
    "* Second Input will be passed to an Conv1d Layer\n",
    "* We have used L2 regularizer to prevent our model from overfitting \n",
    "* we have used adam optimizer\n",
    "* After 25 Epochs:\n",
    "    Training Loss-0.3739\n",
    "    Validation Loss-0.3940\n",
    "    Training AUC-0.7928\n",
    "    Validation AUC-0.7661\n",
    "* Testing AUC of this Model is 0.7711299992734963"
   ]
  },
  {
   "cell_type": "code",
   "execution_count": null,
   "metadata": {},
   "outputs": [],
   "source": []
  }
 ],
 "metadata": {
  "accelerator": "GPU",
  "colab": {
   "name": "Model_3.ipynb",
   "provenance": []
  },
  "kernelspec": {
   "display_name": "Python 3",
   "language": "python",
   "name": "python3"
  },
  "language_info": {
   "codemirror_mode": {
    "name": "ipython",
    "version": 3
   },
   "file_extension": ".py",
   "mimetype": "text/x-python",
   "name": "python",
   "nbconvert_exporter": "python",
   "pygments_lexer": "ipython3",
   "version": "3.6.2"
  }
 },
 "nbformat": 4,
 "nbformat_minor": 1
}
